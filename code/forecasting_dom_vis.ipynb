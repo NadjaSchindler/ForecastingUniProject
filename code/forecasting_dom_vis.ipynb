{
 "cells": [
  {
   "cell_type": "markdown",
   "metadata": {},
   "source": [
    "### Import packages"
   ]
  },
  {
   "cell_type": "code",
   "execution_count": null,
   "metadata": {},
   "outputs": [],
   "source": [
    "import pandas as pd\n",
    "import numpy as np\n",
    "import mlforecast\n",
    "import lightgbm as lgb\n",
    "from matplotlib import pyplot as plt\n",
    "import optuna\n",
    "import plotly_express as px\n",
    "import seaborn as sns\n",
    "import os\n",
    "import gc\n",
    "import warnings\n",
    "import statsmodels.api as sm\n",
    "import optuna\n",
    "from sklearn.metrics import mean_squared_log_error, mean_squared_error, mean_absolute_error, r2_score, mean_absolute_percentage_error\n",
    "import re\n",
    "from time import time\n",
    "from datetime import datetime\n",
    "import math"
   ]
  },
  {
   "cell_type": "markdown",
   "metadata": {},
   "source": [
    "### Import and analyse main datasets"
   ]
  },
  {
   "cell_type": "markdown",
   "metadata": {},
   "source": [
    "#### Train Dataset"
   ]
  },
  {
   "cell_type": "code",
   "execution_count": null,
   "metadata": {},
   "outputs": [],
   "source": [
    "train = pd.read_parquet(\"../data/store_sales/train.parquet\")\n",
    "print(train.info())\n",
    "print(train.describe())\n",
    "display(train)"
   ]
  },
  {
   "cell_type": "markdown",
   "metadata": {},
   "source": [
    "#### Test Dataset"
   ]
  },
  {
   "cell_type": "code",
   "execution_count": null,
   "metadata": {},
   "outputs": [],
   "source": [
    "test = pd.read_parquet(\"../data/store_sales/test.parquet\")\n",
    "print(test.info())\n",
    "print(test.describe())\n",
    "display(test)"
   ]
  },
  {
   "cell_type": "markdown",
   "metadata": {},
   "source": [
    "### Change date column to datetime"
   ]
  },
  {
   "cell_type": "code",
   "execution_count": null,
   "metadata": {},
   "outputs": [],
   "source": [
    "train[\"date\"] = pd.to_datetime(train.date)\n",
    "test[\"date\"] = pd.to_datetime(test.date)"
   ]
  },
  {
   "cell_type": "markdown",
   "metadata": {},
   "source": [
    "### Analysis of Sales in different time scales"
   ]
  },
  {
   "cell_type": "markdown",
   "metadata": {},
   "source": [
    "#### Daily sales over time as a bar plot"
   ]
  },
  {
   "cell_type": "code",
   "execution_count": null,
   "metadata": {},
   "outputs": [],
   "source": [
    "px.bar(train.groupby(\"date\").agg({\"sales\": \"sum\"}).reset_index(), x=\"date\", y=\"sales\", title=\"Sales over time\")\n",
    "\n",
    "# should be the code for matplotlib --> to be tested\n",
    "\n",
    "# # Group by date and sum the sales\n",
    "# sales_over_time = train.groupby(\"date\")[\"sales\"].sum()\n",
    "\n",
    "# # Extract the date index and sales values\n",
    "# dates = sales_over_time.index\n",
    "# sales = sales_over_time.values\n",
    "\n",
    "# # Create a bar plot\n",
    "# plt.figure(figsize=(10, 6))\n",
    "# plt.bar(dates, sales, color='blue')\n",
    "\n",
    "# # Set labels and title\n",
    "# plt.xlabel('Date')\n",
    "# plt.ylabel('Sales')\n",
    "# plt.title('Sales over time')\n",
    "\n",
    "# # Rotate x-axis labels for better readability (if necessary)\n",
    "# plt.xticks(rotation=45, ha='right')\n",
    "\n",
    "# # Show the plot\n",
    "# plt.tight_layout()\n",
    "# plt.show()\n"
   ]
  },
  {
   "cell_type": "markdown",
   "metadata": {},
   "source": [
    "#### Daily sales over time as line plot"
   ]
  },
  {
   "cell_type": "code",
   "execution_count": null,
   "metadata": {},
   "outputs": [],
   "source": [
    "px.line(train.groupby(\"date\").agg({\"sales\": \"sum\"}).reset_index(), x=\"date\", y=\"sales\", title=\"Sales over time\")\n",
    "\n",
    "# should be the matplotlib code --> to be tested"
   ]
  },
  {
   "cell_type": "markdown",
   "metadata": {},
   "source": [
    "#### Weekly sales per store"
   ]
  },
  {
   "cell_type": "code",
   "execution_count": null,
   "metadata": {},
   "outputs": [],
   "source": [
    "weekly_sales = train.set_index(\"date\").groupby(\"store_nbr\").resample(\"W\").agg({\"sales\": \"sum\"}).reset_index()\n",
    "px.line(weekly_sales, x=\"date\", y=\"sales\", color=\"store_nbr\", title=\"Weekly sales per store\")"
   ]
  },
  {
   "cell_type": "markdown",
   "metadata": {},
   "source": [
    "#### Monthly sales per store"
   ]
  },
  {
   "cell_type": "code",
   "execution_count": null,
   "metadata": {},
   "outputs": [],
   "source": [
    "monthly_sales = train.set_index(\"date\").groupby(\"store_nbr\").resample(\"M\").agg({\"sales\": \"sum\"}).reset_index()\n",
    "px.line(monthly_sales, x=\"date\", y=\"sales\", color=\"store_nbr\", title=\"Monthly sales per store\")"
   ]
  },
  {
   "cell_type": "markdown",
   "metadata": {},
   "source": [
    "#### Yearly sales summed up by store"
   ]
  },
  {
   "cell_type": "code",
   "execution_count": null,
   "metadata": {},
   "outputs": [],
   "source": [
    "yearly_sales = train.set_index(\"date\").groupby(\"store_nbr\").resample(\"Y\").agg({\"sales\": \"sum\"}).reset_index()\n",
    "px.bar(yearly_sales, x=\"date\", y=\"sales\", title=\"Yearly sales per store\")"
   ]
  },
  {
   "cell_type": "markdown",
   "metadata": {},
   "source": [
    "### Info about stores dataset"
   ]
  },
  {
   "cell_type": "code",
   "execution_count": null,
   "metadata": {},
   "outputs": [],
   "source": [
    "stores = pd.read_parquet(\"../data/store_sales/stores.parquet\")\n",
    "print(stores.info())\n",
    "print(stores.describe())\n",
    "display(stores.head())"
   ]
  },
  {
   "cell_type": "markdown",
   "metadata": {},
   "source": [
    "### Merge information on stores with train data"
   ]
  },
  {
   "cell_type": "code",
   "execution_count": null,
   "metadata": {},
   "outputs": [],
   "source": [
    "merged_train = pd.merge(train, stores, on=\"store_nbr\")\n",
    "print(merged_train.isnull().sum())\n",
    "print(merged_train.info())\n",
    "display(merged_train)"
   ]
  },
  {
   "cell_type": "markdown",
   "metadata": {},
   "source": [
    "#### Bar plot of total sales per city"
   ]
  },
  {
   "cell_type": "code",
   "execution_count": null,
   "metadata": {},
   "outputs": [],
   "source": [
    "px.bar(merged_train.groupby(\"city\").agg({\"sales\": \"sum\"}).reset_index(), x=\"city\", y=\"sales\", title=\"Sales per city\")"
   ]
  },
  {
   "cell_type": "markdown",
   "metadata": {},
   "source": [
    "### Analysis of transactions per store per day"
   ]
  },
  {
   "cell_type": "code",
   "execution_count": null,
   "metadata": {},
   "outputs": [],
   "source": [
    "transactions = pd.read_parquet(\"../data/store_sales/transactions.parquet\").sort_values([\"store_nbr\", \"date\"])\n",
    "transactions[\"date\"] = pd.to_datetime(transactions.date)\n",
    "print(transactions[\"transactions\"].max)\n",
    "print(transactions.info())\n",
    "display(transactions)"
   ]
  },
  {
   "cell_type": "markdown",
   "metadata": {},
   "source": [
    "#### Total transactions per store"
   ]
  },
  {
   "cell_type": "code",
   "execution_count": null,
   "metadata": {},
   "outputs": [],
   "source": [
    "px.bar(transactions.groupby(\"store_nbr\").agg({\"transactions\": \"sum\"}).reset_index(), x=\"store_nbr\", y=\"transactions\", title=\"Transactions per store\")"
   ]
  },
  {
   "cell_type": "markdown",
   "metadata": {},
   "source": [
    "#### Transactions per store per month"
   ]
  },
  {
   "cell_type": "code",
   "execution_count": null,
   "metadata": {},
   "outputs": [],
   "source": [
    "transactions_temp = transactions.set_index(\"date\").groupby(\"store_nbr\").resample(\"M\").agg({\"transactions\": \"sum\"}).reset_index()\n",
    "px.line(transactions_temp, x=\"date\", y=\"transactions\", title=\"Transactions per store\", color=\"store_nbr\")"
   ]
  },
  {
   "cell_type": "markdown",
   "metadata": {},
   "source": [
    "### Merging transactions with train"
   ]
  },
  {
   "cell_type": "code",
   "execution_count": null,
   "metadata": {},
   "outputs": [],
   "source": [
    "\n",
    "transactions_merged_train = pd.merge(merged_train.sort_values([\"date\", \"store_nbr\"]), transactions, on=[\"date\", \"store_nbr\"], how = \"left\")\n",
    "print(transactions_merged_train.isnull().sum())\n",
    "print(transactions_merged_train.info())"
   ]
  },
  {
   "cell_type": "markdown",
   "metadata": {},
   "source": [
    "#### Filling days with 0 total sales with 0 transactions"
   ]
  },
  {
   "cell_type": "code",
   "execution_count": null,
   "metadata": {},
   "outputs": [],
   "source": [
    "transactions_merged_train['total_sales'] = transactions_merged_train.groupby(['date', 'store_nbr'])['sales'].transform('sum')\n",
    "transactions_merged_train.loc[transactions_merged_train['total_sales'] == 0, 'transactions'] = transactions_merged_train.loc[transactions_merged_train['total_sales'] == 0, 'transactions'].fillna(0)\n",
    "print(f\"NaN Values in Column transactions: {transactions_merged_train['transactions'].isnull().sum()}\")"
   ]
  },
  {
   "cell_type": "markdown",
   "metadata": {},
   "source": [
    "#### Calculating ratio between total sales and transactions on a day"
   ]
  },
  {
   "cell_type": "code",
   "execution_count": null,
   "metadata": {},
   "outputs": [],
   "source": [
    "transactions_merged_train['sales_transactions_ratio'] = transactions_merged_train['total_sales'] / transactions_merged_train['transactions']\n",
    "median_value = transactions_merged_train['sales_transactions_ratio'].median()\n",
    "print(f\"Median ratio between sales and transactions: {median_value}\")"
   ]
  },
  {
   "cell_type": "markdown",
   "metadata": {},
   "source": [
    "#### Dividing total sales on a day with NaN transaction values by median ratio"
   ]
  },
  {
   "cell_type": "code",
   "execution_count": null,
   "metadata": {},
   "outputs": [],
   "source": [
    "transactions_merged_train['transactions'] = transactions_merged_train['transactions'].fillna(transactions_merged_train['total_sales'] / median_value)\n",
    "transactions_merged_train['transactions'] = transactions_merged_train['transactions'].astype(int)\n",
    "print(f\"NaN Values in Column transactions: {transactions_merged_train['transactions'].isnull().sum()}\")"
   ]
  },
  {
   "cell_type": "markdown",
   "metadata": {},
   "source": [
    "#### Dropping helper columns"
   ]
  },
  {
   "cell_type": "code",
   "execution_count": null,
   "metadata": {},
   "outputs": [],
   "source": [
    "transactions_merged_train = transactions_merged_train.drop(columns=[\"total_sales\", \"sales_transactions_ratio\"])"
   ]
  },
  {
   "cell_type": "markdown",
   "metadata": {},
   "source": [
    "### Analysis of USD to EURO Exchange rate dataset "
   ]
  },
  {
   "cell_type": "code",
   "execution_count": null,
   "metadata": {},
   "outputs": [],
   "source": [
    "currency_parquet = pd.read_parquet('../data/forex.parquet')\n",
    "currency_parquet[\"date\"] = pd.to_datetime(currency_parquet[\"date\"])\n",
    "print(currency_parquet.info())\n",
    "display(currency_parquet)"
   ]
  },
  {
   "cell_type": "markdown",
   "metadata": {},
   "source": [
    "#### Selecting USD as it is the currency of Ecuador"
   ]
  },
  {
   "cell_type": "code",
   "execution_count": null,
   "metadata": {},
   "outputs": [],
   "source": [
    "us_currency = currency_parquet[currency_parquet['currency'] == 'USD']\n",
    "print(us_currency.shape)"
   ]
  },
  {
   "cell_type": "markdown",
   "metadata": {},
   "source": [
    "#### Selecting dates relevant for train dataset"
   ]
  },
  {
   "cell_type": "code",
   "execution_count": null,
   "metadata": {},
   "outputs": [],
   "source": [
    "filtered_us_currency = us_currency[(us_currency['date'] >= transactions_merged_train[\"date\"].min()) & (us_currency['date'] <= transactions_merged_train['date'].max())].reset_index(drop=True)\n",
    "print(filtered_us_currency.shape)"
   ]
  },
  {
   "cell_type": "markdown",
   "metadata": {},
   "source": [
    "#### Selecting rows with exchange rate between EUR and USD"
   ]
  },
  {
   "cell_type": "code",
   "execution_count": null,
   "metadata": {},
   "outputs": [],
   "source": [
    "final_us_currency = filtered_us_currency[filtered_us_currency['slug'] == 'EUR/USD'].drop(['slug', \"currency\"], axis=1).reset_index(drop=True)\n",
    "final_us_currency = final_us_currency.rename(columns={\"open\": \"slug_eur_usd_open\", \"high\": \"slug_eur_usd_high\", \"low\": \"slug_eur_usd_low\", \"close\": \"slug_eur_usd_close\"})\n",
    "display(final_us_currency)"
   ]
  },
  {
   "cell_type": "markdown",
   "metadata": {},
   "source": [
    "#### Merging with train dataset"
   ]
  },
  {
   "cell_type": "code",
   "execution_count": null,
   "metadata": {},
   "outputs": [],
   "source": [
    "exchange_merged_train = transactions_merged_train.merge(final_us_currency, how=\"left\", on=\"date\")\n",
    "print(exchange_merged_train.isnull().sum())"
   ]
  },
  {
   "cell_type": "markdown",
   "metadata": {},
   "source": [
    "#### Filling missing values on weekends using forward fill"
   ]
  },
  {
   "cell_type": "code",
   "execution_count": null,
   "metadata": {},
   "outputs": [],
   "source": [
    "exchange_merged_train = exchange_merged_train.ffill()\n",
    "print(exchange_merged_train.isnull().sum())"
   ]
  },
  {
   "cell_type": "markdown",
   "metadata": {},
   "source": [
    "### Analysis of General Inflation in Ecuador per year"
   ]
  },
  {
   "cell_type": "code",
   "execution_count": null,
   "metadata": {},
   "outputs": [],
   "source": [
    "global_inflation_df = pd.read_csv('../data/global_inflation_data.csv')\n",
    "print(global_inflation_df.info())\n",
    "display(global_inflation_df.head())"
   ]
  },
  {
   "cell_type": "markdown",
   "metadata": {},
   "source": [
    "### Selecting only values for Ecuador"
   ]
  },
  {
   "cell_type": "code",
   "execution_count": null,
   "metadata": {},
   "outputs": [],
   "source": [
    "global_inflation_df = global_inflation_df[global_inflation_df['country_name'] == 'Ecuador']"
   ]
  },
  {
   "cell_type": "markdown",
   "metadata": {},
   "source": [
    "#### Fixing Dataset by switching index/headers"
   ]
  },
  {
   "cell_type": "code",
   "execution_count": null,
   "metadata": {},
   "outputs": [],
   "source": [
    "display(global_inflation_df.head())\n",
    "global_inflation_df = global_inflation_df.transpose()\n",
    "global_inflation_df = global_inflation_df.iloc[2:]\n",
    "global_inflation_df = global_inflation_df.reset_index()\n",
    "global_inflation_df.columns = ['date', 'inflation_ecuador']\n",
    "global_inflation_df[\"date\"] = pd.to_datetime(global_inflation_df[\"date\"])\n",
    "display(global_inflation_df.head())"
   ]
  },
  {
   "cell_type": "markdown",
   "metadata": {},
   "source": [
    "#### Selecting only relevant date range"
   ]
  },
  {
   "cell_type": "code",
   "execution_count": null,
   "metadata": {},
   "outputs": [],
   "source": [
    "global_inflation_df = global_inflation_df[(global_inflation_df['date'] >= exchange_merged_train[\"date\"].min()) & (global_inflation_df['date'] <= exchange_merged_train['date'].max())] \n",
    "global_inflation_df = global_inflation_df.reset_index(drop=True)\n",
    "display(global_inflation_df.head()) "
   ]
  },
  {
   "cell_type": "markdown",
   "metadata": {},
   "source": [
    "#### Merging dataframe with train"
   ]
  },
  {
   "cell_type": "code",
   "execution_count": null,
   "metadata": {},
   "outputs": [],
   "source": [
    "ecuador_inflation_merged_train = exchange_merged_train.merge(global_inflation_df, how=\"left\", on=\"date\")\n",
    "print(ecuador_inflation_merged_train.isnull().sum())\n",
    "print(ecuador_inflation_merged_train.info())"
   ]
  },
  {
   "cell_type": "markdown",
   "metadata": {},
   "source": [
    "#### Filling all NaN values in column with forward fill"
   ]
  },
  {
   "cell_type": "code",
   "execution_count": null,
   "metadata": {},
   "outputs": [],
   "source": [
    "ecuador_inflation_merged_train = ecuador_inflation_merged_train.ffill()\n",
    "print(f\"NaN values in column inflation_ecuador: {ecuador_inflation_merged_train['inflation_ecuador'].isnull().sum()}\")"
   ]
  },
  {
   "cell_type": "markdown",
   "metadata": {},
   "source": [
    "### Analysis of USD inflation per month"
   ]
  },
  {
   "cell_type": "code",
   "execution_count": null,
   "metadata": {},
   "outputs": [],
   "source": [
    "usd_inflation_df = pd.read_csv('../data/inflation_per_month.csv')\n",
    "usd_inflation_df[\"date\"] = pd.to_datetime(usd_inflation_df[\"DATE\"])\n",
    "usd_inflation_df = usd_inflation_df.drop([\"DATE\"], axis=1)\n",
    "usd_inflation_df = usd_inflation_df.rename(columns={\"CPIUFDNS_PC1\": \"inflation_usd\"})\n",
    "print(usd_inflation_df.info())\n",
    "display(usd_inflation_df.head())"
   ]
  },
  {
   "cell_type": "markdown",
   "metadata": {},
   "source": [
    "#### Selecting relevant date range"
   ]
  },
  {
   "cell_type": "code",
   "execution_count": null,
   "metadata": {},
   "outputs": [],
   "source": [
    "usd_inflation_df = usd_inflation_df[(usd_inflation_df['date'] >= ecuador_inflation_merged_train[\"date\"].min()) & (usd_inflation_df['date'] <= ecuador_inflation_merged_train['date'].max())]\n",
    "usd_inflation_df = usd_inflation_df.reset_index(drop=True)\n",
    "print(usd_inflation_df.info())"
   ]
  },
  {
   "cell_type": "markdown",
   "metadata": {},
   "source": [
    "#### Merging dataframe with train"
   ]
  },
  {
   "cell_type": "code",
   "execution_count": null,
   "metadata": {},
   "outputs": [],
   "source": [
    "usd_inflation_merged_train = ecuador_inflation_merged_train.merge(usd_inflation_df, how=\"left\", on=\"date\")\n",
    "print(usd_inflation_merged_train.isnull().sum())\n",
    "print(usd_inflation_merged_train.info())"
   ]
  },
  {
   "cell_type": "markdown",
   "metadata": {},
   "source": [
    "#### Filling NaN values using forward fill"
   ]
  },
  {
   "cell_type": "code",
   "execution_count": null,
   "metadata": {},
   "outputs": [],
   "source": [
    "usd_inflation_merged_train = usd_inflation_merged_train.ffill()\n",
    "print(f\"NaN values in column inflation_usd: {usd_inflation_merged_train['inflation_usd'].isnull().sum()}\")"
   ]
  },
  {
   "cell_type": "markdown",
   "metadata": {},
   "source": [
    "### Analysis of Oil Price dataset"
   ]
  },
  {
   "cell_type": "code",
   "execution_count": null,
   "metadata": {},
   "outputs": [],
   "source": [
    "oil_price_df = pd.read_parquet('../data/store_sales/oil.parquet')\n",
    "print(oil_price_df.info())\n",
    "display(oil_price_df.head())"
   ]
  },
  {
   "cell_type": "markdown",
   "metadata": {},
   "source": [
    "#### Converting date and renaming column"
   ]
  },
  {
   "cell_type": "code",
   "execution_count": null,
   "metadata": {},
   "outputs": [],
   "source": [
    "oil_price_df[\"date\"] = pd.to_datetime(oil_price_df[\"date\"])\n",
    "oil_price_df = oil_price_df.rename(columns={\"dcoilwtico\": \"oil_price\"})\n",
    "print(oil_price_df.info())"
   ]
  },
  {
   "cell_type": "markdown",
   "metadata": {},
   "source": [
    "#### Merging data with train"
   ]
  },
  {
   "cell_type": "code",
   "execution_count": null,
   "metadata": {},
   "outputs": [],
   "source": [
    "oil_price_merged_train = usd_inflation_merged_train.merge(oil_price_df, how=\"left\", on=\"date\")\n",
    "print(oil_price_merged_train.isnull().sum())\n",
    "print(oil_price_merged_train.info())"
   ]
  },
  {
   "cell_type": "markdown",
   "metadata": {},
   "source": [
    "#### Filling NaNs on weekends by using forward fill"
   ]
  },
  {
   "cell_type": "code",
   "execution_count": null,
   "metadata": {},
   "outputs": [],
   "source": [
    "oil_price_merged_train = oil_price_merged_train.ffill()\n",
    "print(f\"NaN values in column oil_price: {oil_price_merged_train['oil_price'].isnull().sum()}\")"
   ]
  },
  {
   "cell_type": "markdown",
   "metadata": {},
   "source": [
    "#### Checking which dates are still missing"
   ]
  },
  {
   "cell_type": "code",
   "execution_count": null,
   "metadata": {},
   "outputs": [],
   "source": [
    "missing_dates = oil_price_merged_train[oil_price_merged_train['oil_price'].isnull()]['date'].unique()\n",
    "print(missing_dates)\n"
   ]
  },
  {
   "cell_type": "markdown",
   "metadata": {},
   "source": [
    "#### Filling first date using backwards fill"
   ]
  },
  {
   "cell_type": "code",
   "execution_count": null,
   "metadata": {},
   "outputs": [],
   "source": [
    "oil_price_merged_train = oil_price_merged_train.bfill()\n",
    "print(f\"NaN values in column oil_price: {oil_price_merged_train['oil_price'].isnull().sum()}\")"
   ]
  },
  {
   "cell_type": "markdown",
   "metadata": {},
   "source": [
    "### Analysis of holiday dataset"
   ]
  },
  {
   "cell_type": "code",
   "execution_count": null,
   "metadata": {},
   "outputs": [],
   "source": [
    "holiday_dataset =  pd.read_parquet('../data/store_sales/holidays_events.parquet')\n",
    "print(holiday_dataset.info())\n",
    "display(holiday_dataset)"
   ]
  },
  {
   "cell_type": "markdown",
   "metadata": {},
   "source": [
    "#### Drop holidays which have been shifted to another day"
   ]
  },
  {
   "cell_type": "code",
   "execution_count": null,
   "metadata": {},
   "outputs": [],
   "source": [
    "holiday_dataset = holiday_dataset[holiday_dataset['transferred'] == False]\n",
    "print(holiday_dataset.info())\n"
   ]
  },
  {
   "cell_type": "markdown",
   "metadata": {},
   "source": [
    "### One hot encode holiday region"
   ]
  },
  {
   "cell_type": "code",
   "execution_count": null,
   "metadata": {},
   "outputs": [],
   "source": [
    "holiday_dataset[\"date\"] = pd.to_datetime(holiday_dataset[\"date\"])\n",
    "holiday_dataset[\"is_national_holiday\"] = (holiday_dataset[\"locale\"] == \"National\").astype(int)\n",
    "holiday_dataset[\"is_regional_holiday\"] = (holiday_dataset[\"locale\"] == \"Regional\").astype(int)\n",
    "holiday_dataset[\"is_local_holiday\"] = (holiday_dataset[\"locale\"] == \"Local\").astype(int)\n",
    "display(holiday_dataset)\n"
   ]
  },
  {
   "cell_type": "markdown",
   "metadata": {},
   "source": [
    "#### Merge national holidays into holiday_merged_train dataset"
   ]
  },
  {
   "cell_type": "code",
   "execution_count": null,
   "metadata": {},
   "outputs": [],
   "source": [
    "holiday_merged_train = pd.merge(oil_price_merged_train, holiday_dataset[[\"date\", \"is_national_holiday\"]], on=\"date\", how=\"left\")\n",
    "print(holiday_merged_train.isnull().sum())\n",
    "print(holiday_merged_train.info())\n",
    "display(holiday_merged_train)"
   ]
  },
  {
   "cell_type": "markdown",
   "metadata": {},
   "source": [
    "#### Merge regional holidays into holiday_merged_train dataset"
   ]
  },
  {
   "cell_type": "code",
   "execution_count": null,
   "metadata": {},
   "outputs": [],
   "source": [
    "temp = holiday_dataset.copy()\n",
    "temp = temp.rename(columns={\"locale_name\": \"state\"})\n",
    "holiday_merged_train = pd.merge(holiday_merged_train, temp[[\"date\", \"state\", \"is_regional_holiday\"]], on=[\"date\", \"state\"], how=\"left\")\n",
    "display(holiday_merged_train)\n"
   ]
  },
  {
   "cell_type": "markdown",
   "metadata": {},
   "source": [
    "#### Merge local holidays into holiday_merged_train dataset"
   ]
  },
  {
   "cell_type": "code",
   "execution_count": null,
   "metadata": {},
   "outputs": [],
   "source": [
    "temp = holiday_dataset.copy()\n",
    "temp = temp.rename(columns={\"locale_name\": \"city\"})\n",
    "holiday_merged_train = pd.merge(holiday_merged_train, temp[[\"date\", \"city\", \"is_local_holiday\"]], on=[\"date\", \"city\"], how=\"left\")\n",
    "print(holiday_merged_train.info())\n",
    "print(holiday_merged_train.isnull().sum())\n",
    "display(holiday_merged_train)\n"
   ]
  },
  {
   "cell_type": "markdown",
   "metadata": {},
   "source": [
    "#### Fill missing holiday values with 0"
   ]
  },
  {
   "cell_type": "code",
   "execution_count": null,
   "metadata": {},
   "outputs": [],
   "source": [
    "holiday_merged_train = holiday_merged_train.fillna(0.0)\n",
    "holiday_merged_train[\"is_national_holiday\"] = holiday_merged_train[\"is_national_holiday\"].astype(int)\n",
    "holiday_merged_train[\"is_regional_holiday\"] = holiday_merged_train[\"is_regional_holiday\"].astype(int)\n",
    "holiday_merged_train[\"is_local_holiday\"] = holiday_merged_train[\"is_local_holiday\"].astype(int)\n",
    "print(holiday_merged_train.isnull().sum())"
   ]
  },
  {
   "cell_type": "code",
   "execution_count": null,
   "metadata": {},
   "outputs": [],
   "source": [
    "holiday_merged_train['is_holiday'] = (holiday_merged_train['is_national_holiday'] | holiday_merged_train['is_regional_holiday'] | holiday_merged_train['is_local_holiday']).astype(int)\n",
    "national_holiday_sum = holiday_merged_train['is_national_holiday'].sum()\n",
    "regional_holiday_sum = holiday_merged_train['is_regional_holiday'].sum()\n",
    "local_holiday_sum = holiday_merged_train['is_local_holiday'].sum()\n",
    "total_holiday_sum = national_holiday_sum + regional_holiday_sum + local_holiday_sum\n",
    "\n",
    "is_holiday_count = holiday_merged_train['is_holiday'].sum()\n",
    "\n",
    "print(\"Sum of all 1 values in is_national_holiday, is_regional_holiday, and is_local_holiday together:\", total_holiday_sum)\n",
    "print(\"Count of all 1 values in is_holiday:\", is_holiday_count)\n"
   ]
  },
  {
   "cell_type": "markdown",
   "metadata": {},
   "source": [
    "### Correlation between sales and new features"
   ]
  },
  {
   "cell_type": "code",
   "execution_count": null,
   "metadata": {},
   "outputs": [],
   "source": [
    "temp = holiday_merged_train.copy()\n",
    "temp = temp[[\"sales\", \"transactions\", \"slug_eur_usd_open\", \"slug_eur_usd_high\", \"slug_eur_usd_low\", \"slug_eur_usd_close\", \"inflation_ecuador\", \"inflation_usd\", \"oil_price\", \"is_national_holiday\", \"is_regional_holiday\", \"is_local_holiday\"]]\n",
    "corr_df = temp.corr()\n",
    "plt.figure(figsize=(16, 6))\n",
    "heatmap = sns.heatmap(corr_df, vmin=-1, vmax=1, annot=True)\n",
    "heatmap.set_title('Correlation Heatmap', fontdict={'fontsize':12}, pad=12)\n",
    "display(heatmap)"
   ]
  },
  {
   "cell_type": "markdown",
   "metadata": {},
   "source": [
    "### Filtering out rows with unopened stores"
   ]
  },
  {
   "cell_type": "markdown",
   "metadata": {},
   "source": [
    "Creating new column called open. Its 0 if the previous value in the column and the total sales on the current date are also 0, else it returns 1"
   ]
  },
  {
   "cell_type": "code",
   "execution_count": null,
   "metadata": {},
   "outputs": [],
   "source": [
    "holiday_merged_train['total_sales'] = holiday_merged_train.groupby(['date', 'store_nbr'])['sales'].transform('sum')\n",
    "holiday_merged_train['open'] = holiday_merged_train.apply(lambda x: 0 if x['total_sales'] == 0 else 1 if x.name == 0 else (0 if (x['total_sales'] == 0 and holiday_merged_train.at[x.name - 1, 'open'] == 0) else 1), axis=1)\n",
    "print(holiday_merged_train.info())"
   ]
  },
  {
   "cell_type": "markdown",
   "metadata": {},
   "source": [
    "### Filter out closed stores"
   ]
  },
  {
   "cell_type": "code",
   "execution_count": null,
   "metadata": {},
   "outputs": [],
   "source": [
    "opened_merged_train = holiday_merged_train[holiday_merged_train[\"open\"]==1]\n",
    "opened_merged_train = opened_merged_train.drop(columns=[\"total_sales\", \"open\"])\n",
    "print(opened_merged_train.info())"
   ]
  },
  {
   "cell_type": "markdown",
   "metadata": {},
   "source": [
    "### Rename columns after Nixtla standard and create unique_id column"
   ]
  },
  {
   "cell_type": "code",
   "execution_count": null,
   "metadata": {},
   "outputs": [],
   "source": [
    "renamed_merge_train = opened_merged_train.rename(columns={\"date\":\"ds\", \"sales\":\"y\"})\n",
    "renamed_merge_train[\"unique_id\"] = renamed_merge_train[\"store_nbr\"].astype(str) + \"_\" + renamed_merge_train[\"family\"]\n",
    "print(renamed_merge_train.columns)"
   ]
  },
  {
   "cell_type": "markdown",
   "metadata": {},
   "source": [
    "### One-Hot-Encode categorical values"
   ]
  },
  {
   "cell_type": "code",
   "execution_count": null,
   "metadata": {},
   "outputs": [],
   "source": [
    "encoded_merged_train = pd.get_dummies(renamed_merge_train, columns=['store_nbr', 'family', 'city', 'state'])\n",
    "display(encoded_merged_train)"
   ]
  },
  {
   "cell_type": "code",
   "execution_count": null,
   "metadata": {},
   "outputs": [],
   "source": [
    "temp_dict = {}\n",
    "temp_dict[\"total_rows\"] = opened_merged_train.shape[0]\n",
    "for cluster in opened_merged_train[\"cluster\"].unique():\n",
    "    cluster_df = opened_merged_train[opened_merged_train[\"cluster\"] == cluster]\n",
    "    temp_dict[cluster] = cluster_df.shape[0]\n",
    "\n",
    "for type in opened_merged_train[\"type\"].unique():\n",
    "    type_df = opened_merged_train[opened_merged_train[\"type\"] == type]\n",
    "    temp_dict[type] = type_df.shape[0]\n",
    "    \n",
    "temp_df = pd.DataFrame(temp_dict, index=[\"count\"])\n",
    "temp_df = temp_df.T\n",
    "temp_df['expected_time_xgboost'] = temp_df['count'] * 0.00016029494269455797\n",
    "temp_df['expected_time_decisiontree_nikl'] = temp_df['count'] * 2.4914108610565076e-06 * 25\n",
    "print(temp_df['expected_time_xgboost'].sum())\n",
    "print(temp_df['expected_time_decisiontree_nikl'].sum())\n",
    "\n",
    "display(temp_df)"
   ]
  },
  {
   "cell_type": "code",
   "execution_count": null,
   "metadata": {},
   "outputs": [],
   "source": [
    "print(7/2809653)"
   ]
  },
  {
   "cell_type": "code",
   "execution_count": null,
   "metadata": {},
   "outputs": [],
   "source": [
    "display(encoded_merged_train[\"unique_id\"].nunique())\n",
    "\n",
    "print(opened_merged_train[\"family\"].nunique())\n",
    "print(opened_merged_train[\"store_nbr\"].nunique())\n",
    "\n",
    "# for unique_id in encoded_merged_train[\"unique_id\"].sort_values().unique():\n",
    "#     print(unique_id)"
   ]
  },
  {
   "cell_type": "markdown",
   "metadata": {},
   "source": [
    "### Split dataframe by type and cluster"
   ]
  },
  {
   "cell_type": "code",
   "execution_count": null,
   "metadata": {},
   "outputs": [],
   "source": [
    "split_dataframe_dict = {}\n",
    "split_dataframe_dict[\"unsplit_dataframe\"] = encoded_merged_train.drop(columns=[\"type\", \"cluster\"])\n",
    "\n",
    "for type_value in encoded_merged_train[\"type\"].unique():\n",
    "    split_dataframe_dict[f\"type_{type_value}\"] = encoded_merged_train[encoded_merged_train[\"type\"] == type_value].drop(columns=[\"type\", \"cluster\"])\n",
    "\n",
    "for cluster_value in encoded_merged_train[\"cluster\"].unique():\n",
    "    split_dataframe_dict[f\"cluster_{cluster_value}\"] = encoded_merged_train[encoded_merged_train[\"cluster\"] == cluster_value].drop(columns=[\"type\", \"cluster\"])\n",
    "\n",
    "print(len(split_dataframe_dict))"
   ]
  },
  {
   "cell_type": "code",
   "execution_count": null,
   "metadata": {},
   "outputs": [],
   "source": [
    "best_model_per_unique_id = {}\n",
    "for unique_id in encoded_merged_train[\"unique_id\"].unique():\n",
    "    best_model_per_unique_id[unique_id] = {\"error\": float('inf'), \"prediction\": pd.DataFrame(), \"params\": {}}"
   ]
  },
  {
   "cell_type": "code",
   "execution_count": null,
   "metadata": {},
   "outputs": [],
   "source": [
    "from window_ops.rolling import rolling_mean, rolling_max, rolling_min\n",
    "from xgboost import XGBRegressor\n",
    "from lightgbm import LGBMRegressor\n",
    "from sklearn.ensemble import RandomForestRegressor, GradientBoostingRegressor\n",
    "from sklearn.tree import DecisionTreeRegressor\n",
    "from sklearn.linear_model import LinearRegression\n",
    "import joblib\n",
    "\n",
    "def month_start_or_end(dates):\n",
    "    \"\"\"Date is month start or month end\"\"\"\n",
    "    return dates.is_month_start | dates.is_month_end\n",
    "\n",
    "def is_saturday(dates):\n",
    "    \"\"\"Date is monday\"\"\"\n",
    "    return dates.dayofweek == 5\n",
    "\n",
    "def run_forecast(train, valid, h, config, model, save=\"n\", name_of_data=\"\"):\n",
    "    if model == \"XGBRegressor\":\n",
    "        models = [XGBRegressor(random_state=42,\n",
    "                               n_estimators=config[\"n_estimators\"],\n",
    "                               learning_rate=config[\"learning_rate\"],\n",
    "                               max_depth=config[\"max_depth\"],\n",
    "                               colsample_bytree=config[\"colsample_bytree\"],\n",
    "                               reg_lambda=config[\"reg_lambda\"]\n",
    "                               )]\n",
    "    elif model == \"LGBMRegressor\":\n",
    "        models = [LGBMRegressor(random_state=42,\n",
    "                                n_estimators=config[\"n_estimators\"],\n",
    "                                learning_rate=config[\"learning_rate\"],\n",
    "                                max_depth=config[\"max_depth\"],\n",
    "                                num_leaves=config[\"num_leaves\"],\n",
    "                                min_data_in_leaf=config[\"min_data_in_leaf\"],\n",
    "                                bagging_fractiong=config[\"bagging_fraction\"],\n",
    "                                colsample_bytree=config[\"colsample_bytree\"],\n",
    "                                lambda_l2=config[\"lambda_l2\"],\n",
    "                                verbose=-1,\n",
    "                                n_jobs=-1\n",
    "                                )]\n",
    "    elif model == \"RandomForestRegressor\":\n",
    "        models = [RandomForestRegressor(random_state=42,\n",
    "                                        n_estimators=config[\"n_estimators\"],\n",
    "                                        max_depth=config[\"max_depth\"],\n",
    "                                        min_samples_split=config[\"min_samples_split\"],\n",
    "                                        min_samples_leaf=config[\"min_samples_leaf\"],\n",
    "                                        max_features=config[\"max_features\"],\n",
    "                                        bootstrap=config[\"bootstrap\"]\n",
    "                                        )]\n",
    "    elif model == \"DecisionTreeRegressor\":\n",
    "        models = [DecisionTreeRegressor(random_state=42,\n",
    "                                        max_depth=config[\"max_depth\"],\n",
    "                                        min_samples_split=config[\"min_samples_split\"],\n",
    "                                        min_samples_leaf=config[\"min_samples_leaf\"],\n",
    "                                        max_features=config[\"max_features\"]\n",
    "                                        )]\n",
    "    elif model == \"GradientBoostingRegressor\":\n",
    "        models = [GradientBoostingRegressor(random_state=42,\n",
    "                                            n_estimators=config[\"n_estimators\"],\n",
    "                                            learning_rate=config[\"learning_rate\"],\n",
    "                                            max_depth=config[\"max_depth\"],\n",
    "                                            min_samples_split=config[\"min_samples_split\"],\n",
    "                                            min_samples_leaf=config[\"min_samples_leaf\"],\n",
    "                                            max_features=config[\"max_features\"]\n",
    "                                            )]\n",
    "    elif model == \"LinearRegressor\":\n",
    "        models = [LinearRegression()]\n",
    "\n",
    "    mlfc = mlforecast.MLForecast(models=models,\n",
    "                    freq='D',\n",
    "                    lags=[1,7,config[\"lags\"]],\n",
    "                    lag_transforms={\n",
    "                        1: [(rolling_mean, 4), (rolling_min, 4), (rolling_max, 4)],\n",
    "                    },\n",
    "                    date_features=['week', 'month', 'dayofweek', 'dayofyear', is_saturday, month_start_or_end],\n",
    "                    num_threads=8)\n",
    "    \n",
    "    mlfc.fit(train, max_horizon=h)\n",
    "    prediction = mlfc.predict(h=h)\n",
    "\n",
    "    merged_prediction = pd.merge(valid, prediction, on=[\"ds\", \"unique_id\"], how=\"inner\")\n",
    "\n",
    "    if save == \"y\":\n",
    "        curr_datetime = datetime.now()\n",
    "        formatted_dt = curr_datetime.strftime(\"%Y-%m-%d_%H-%M-%S\")\n",
    "\n",
    "        joblib.dump(mlfc, f\"C:/Users/felsp/Documents/Studium/Master/Forecasting/ForecastingUniProject/results/trained_models/trained_{model}_model_{name_of_data}_{formatted_dt}.pkl\")\n",
    "\n",
    "    return merged_prediction\n",
    "\n"
   ]
  },
  {
   "cell_type": "code",
   "execution_count": null,
   "metadata": {},
   "outputs": [],
   "source": [
    "from window_ops.rolling import rolling_mean, rolling_max, rolling_min\n",
    "from xgboost import XGBRegressor\n",
    "from lightgbm import LGBMRegressor\n",
    "\n",
    "def month_start_or_end(dates):\n",
    "    \"\"\"Date is month start or month end\"\"\"\n",
    "    return dates.is_month_start | dates.is_month_end\n",
    "\n",
    "def is_saturday(dates):\n",
    "    \"\"\"Date is monday\"\"\"\n",
    "    return dates.dayofweek == 5\n",
    "\n",
    "def get_feature_importance(train, valid, h, config, model):\n",
    "    if model == \"XGBRegressor\":\n",
    "        models = [XGBRegressor(random_state=42,\n",
    "                               n_estimators=config[\"n_estimators\"],\n",
    "                               learning_rate=config[\"learning_rate\"],\n",
    "                               max_depth=config[\"max_depth\"],\n",
    "                               colsample_bytree=config[\"colsample_bytree\"],\n",
    "                               reg_lambda=config[\"reg_lambda\"]\n",
    "                               )]\n",
    "    elif model == \"LGBMRegressor\":\n",
    "        models = [LGBMRegressor(random_state=42,\n",
    "                                n_estimators=config[\"n_estimators\"],\n",
    "                                learning_rate=config[\"learning_rate\"],\n",
    "                                max_depth=config[\"max_depth\"],\n",
    "                                num_leaves=config[\"num_leaves\"],\n",
    "                                min_data_in_leaf=config[\"min_data_in_leaf\"],\n",
    "                                bagging_fractiong=config[\"bagging_fraction\"],\n",
    "                                colsample_bytree=config[\"colsample_bytree\"],\n",
    "                                lambda_l2=config[\"lambda_l2\"],\n",
    "                                verbose=-1\n",
    "                                )]\n",
    "\n",
    "    mlfc = mlforecast.MLForecast(models=models,\n",
    "                    freq='D',\n",
    "                    lags=[1,7,config[\"lags\"]],\n",
    "                    lag_transforms={\n",
    "                        1: [(rolling_mean, 4), (rolling_min, 4), (rolling_max, 4)],\n",
    "                    },\n",
    "                    date_features=['week', 'month', 'dayofweek', 'dayofyear', is_saturday, month_start_or_end],\n",
    "                    num_threads=8)\n",
    "    \n",
    "    prep_df = mlfc.preprocess(train)\n",
    "\n",
    "    ml = models[0]\n",
    "    X=prep_df.drop(columns={\"y\"}, axis=1)\n",
    "    y=prep_df[\"y\"]\n",
    "\n",
    "    ml.fit(X=X, y=y)\n",
    "    prediction = ml.predict(X=X)\n",
    "\n",
    "    feature_importance = ml.feature_importances_\n",
    "\n",
    "    merged_prediction = pd.merge(valid, prediction, on=[\"ds\", \"unique_id\"], how=\"inner\")\n",
    "\n",
    "    return merged_prediction, feature_importance\n",
    "  "
   ]
  },
  {
   "cell_type": "code",
   "execution_count": null,
   "metadata": {},
   "outputs": [],
   "source": [
    "for key, dataframe in list(split_dataframe_dict.items())[4:]:\n",
    "\n",
    "    splitting_date = \"2017.08.01\"\n",
    "    train = dataframe[dataframe[\"ds\"] < splitting_date]\n",
    "    valid = dataframe[dataframe[\"ds\"] >= splitting_date]\n",
    "    h = valid[\"ds\"].nunique()\n",
    "    config = {\n",
    "            \"n_estimators\": 876,\n",
    "            \"learning_rate\": 0.017986506325372985,\n",
    "            \"max_depth\": 6,\n",
    "            \"reg_lambda\": 3.1572663293571983,\n",
    "            \"num_leaves\": 48,\n",
    "            \"min_data_in_leaf\": 30,\n",
    "            \"bagging_fraction\": 0.6438622663751374,\n",
    "            \"colsample_bytree\": 0.8779957311834983,\n",
    "            \"lambda_l2\": 5.9545729037681205,\n",
    "            \"lags\": 56,\n",
    "        }\n",
    "\n",
    "\n",
    "    pred, imp = get_feature_importance(train, valid, h , config, \"LGBMRegressor\")\n",
    "    break\n",
    "\n",
    "display(pred)\n",
    "imp.plot()\n"
   ]
  },
  {
   "cell_type": "code",
   "execution_count": null,
   "metadata": {},
   "outputs": [],
   "source": [
    "def champion_callback(study, frozen_trial):\n",
    "    \"\"\"\n",
    "    Logging callback that will report when a new trial iteration improves upon existing\n",
    "    best trial values.\n",
    "\n",
    "    Note: This callback is not intended for use in distributed computing systems such as Spark\n",
    "    or Ray due to the micro-batch iterative implementation for distributing trials to a cluster's\n",
    "    workers or agents.\n",
    "    The race conditions with file system state management for distributed trials will render\n",
    "    inconsistent values with this callback.\n",
    "    \"\"\"\n",
    "\n",
    "    winner = study.user_attrs.get(\"winner\", None)\n",
    "\n",
    "    if study.best_value and winner != study.best_value:\n",
    "        study.set_user_attr(\"winner\", study.best_value)\n",
    "        if winner:\n",
    "            improvement_percent = (abs(winner - study.best_value) / study.best_value) * 100\n",
    "            print(\n",
    "                f\"Trial {frozen_trial.number} achieved value: {frozen_trial.value} with \"\n",
    "                f\"{improvement_percent: .4f}% improvement\"\n",
    "            )\n",
    "        else:\n",
    "            print(f\"Initial trial {frozen_trial.number} achieved value: {frozen_trial.value}\")"
   ]
  },
  {
   "cell_type": "code",
   "execution_count": null,
   "metadata": {},
   "outputs": [],
   "source": [
    "import optuna\n",
    "from sklearn.metrics import mean_squared_log_error, mean_squared_error, mean_absolute_error, r2_score, mean_absolute_percentage_error\n",
    "import re\n",
    "from time import time\n",
    "from datetime import datetime\n",
    "import math\n",
    "\n",
    "\n",
    "# possible models: \"XGBRegressor\", \"LGBMRegressor\", \"RandomForestRegressor\", \"DecisionTreeRegressor\", \"GradientBoostingRegressor\", \"LinearRegressor\"\n",
    "\n",
    "model = \"LGBMRegressor\"\n",
    "\n",
    "optuna.logging.set_verbosity(optuna.logging.ERROR)\n",
    "\n",
    "error_df = pd.DataFrame({\n",
    "    \"unique_id\": encoded_merged_train[\"unique_id\"].unique(), \n",
    "    \"rmsle\": [float('inf')] * len(encoded_merged_train[\"unique_id\"].unique()),\n",
    "    \"msle\": [float('inf')] * len(encoded_merged_train[\"unique_id\"].unique()),\n",
    "    \"mse\": [float('inf')] * len(encoded_merged_train[\"unique_id\"].unique()),\n",
    "    \"mae\": [float('inf')] * len(encoded_merged_train[\"unique_id\"].unique()),\n",
    "    \"r2\": [float('inf')] * len(encoded_merged_train[\"unique_id\"].unique()),\n",
    "    \"mape\": [float('inf')] * len(encoded_merged_train[\"unique_id\"].unique())\n",
    "    })\n",
    "best_predictions_df = pd.DataFrame()\n",
    "    \n",
    "for key, dataframe in split_dataframe_dict.items():\n",
    "\n",
    "    print(\"current dataframe: \" + key)\n",
    "    start = time()\n",
    "\n",
    "    dataframe.columns = [re.sub(r'\\W+', '', col) for col in dataframe.columns]\n",
    "\n",
    "    splitting_date = \"2017.08.01\"\n",
    "    train = dataframe[dataframe[\"ds\"] < splitting_date]\n",
    "    valid = dataframe[dataframe[\"ds\"] >= splitting_date]\n",
    "    h = valid[\"ds\"].nunique()\n",
    "\n",
    "    def objective(trial):\n",
    "        config = {\n",
    "            \"n_estimators\": trial.suggest_int(\"n_estimators\", 100, 1000),\n",
    "            \"bootstrap\": trial.suggest_categorical(\"bootstrap\", [True, False]),\n",
    "            \"learning_rate\": trial.suggest_float('learning_rate', 1e-3, 1e-1, log=True),\n",
    "            \"max_depth\": trial.suggest_int(\"max_depth\", 3, 10),\n",
    "            \"reg_lambda\": trial.suggest_float(\"reg_lambda\", 0.1, 10.0),\n",
    "            \"num_leaves\": trial.suggest_int(\"num_leaves\", 2, 50),\n",
    "            \"min_data_in_leaf\": trial.suggest_int(\"min_data_in_leaf\", 1, 50),\n",
    "            \"bagging_fraction\": trial.suggest_float(\"bagging_fraction\", 0.1, 1.0),\n",
    "            \"colsample_bytree\": trial.suggest_float(\"colsample_bytree\", 0.1, 1.0),\n",
    "            \"lambda_l2\": trial.suggest_float(\"lambda_l2\", 0.1, 10.0),\n",
    "            \"lags\": trial.suggest_int(\"lags\", 14, 56, step=7),\n",
    "            \"min_samples_split\": trial.suggest_int(\"min_samples_split\", 2, 10),\n",
    "            \"min_samples_leaf\": trial.suggest_int(\"min_samples_leaf\", 1, 10),\n",
    "            \"max_features\": trial.suggest_float(\"max_features\", 0.1, 1.0)\n",
    "        }\n",
    "\n",
    "        prediction = run_forecast(train, valid, h, config, model, save=\"n\")\n",
    "        prediction.loc[prediction[model] < 0, model] = 0\n",
    "        error = math.sqrt(mean_squared_log_error(prediction['y'], prediction[model]))\n",
    "        \n",
    "        return error\n",
    "\n",
    "    study = optuna.create_study(direction=\"minimize\", storage=\"sqlite:///../db.sqlite3\", \n",
    "                                study_name=f\"test2_{model}_{key}\", load_if_exists=True)\n",
    "    study.optimize(objective, n_trials=1, callbacks=[champion_callback])\n",
    "\n",
    "    prediction = run_forecast(train, valid, h, study.best_params, model, save=\"y\", name_of_data = key)\n",
    "\n",
    "\n",
    "    for unique_id in prediction[\"unique_id\"].unique():\n",
    "        if study.best_value < error_df[error_df[\"unique_id\"] == unique_id][\"rmsle\"].iloc[0]:\n",
    "            filtered_rows = prediction[prediction[\"unique_id\"] == unique_id]\n",
    "            try:\n",
    "                best_predictions_df = best_predictions_df.drop(best_predictions_df[best_predictions_df[\"unique_id\"] == unique_id].index, axis=0)\n",
    "                # error_df = error_df.drop(error_df[error_df[\"unique_id\"] == unique_id].index, axis=0)\n",
    "            except:\n",
    "                print(\"Wasn't able to drop rows\")\n",
    "            best_predictions_df = pd.concat([best_predictions_df, filtered_rows], ignore_index=True)\n",
    "                \n",
    "            error_df.loc[error_df[\"unique_id\"] == unique_id, \"rmsle\"] = study.best_value\n",
    "            error_df.loc[error_df[\"unique_id\"] == unique_id, \"msle\"] = pow(study.best_value, 2)\n",
    "            error_df.loc[error_df[\"unique_id\"] == unique_id, \"mse\"] = mean_squared_error(prediction['y'], prediction[model])\n",
    "            error_df.loc[error_df[\"unique_id\"] == unique_id, \"mae\"] = mean_absolute_error(prediction['y'], prediction[model])\n",
    "            error_df.loc[error_df[\"unique_id\"] == unique_id, \"r2\"] = r2_score(prediction['y'], prediction[model])\n",
    "            error_df.loc[error_df[\"unique_id\"] == unique_id, \"mape\"] = mean_absolute_percentage_error(prediction['y'], prediction[model])\n",
    "\n",
    "    print(f\"Time: {(time()-start)/60}\")\n",
    "\n",
    "                # error_dict = {}\n",
    "\n",
    "                # error_dict[\"unique_id\"] = unique_id\n",
    "                # error_dict[\"cluster\"] = key\n",
    "\n",
    "                # error_dict[\"rmsle\"] = study.best_value\n",
    "                # error_dict[\"msle\"] = pow(study.best_value, 2)\n",
    "                # error_dict[\"mse\"] = mean_squared_error(prediction['y'], prediction[model])\n",
    "                # error_dict[\"mae\"] = mean_absolute_error(prediction['y'], prediction[model])\n",
    "                # error_dict[\"r2\"] = r2_score(prediction['y'], prediction[model])\n",
    "                # error_dict[\"mape\"] = mean_absolute_percentage_error(prediction['y'], prediction[model])\n",
    "\n",
    "                # error_dict.update(study.best_params)\n",
    "\n",
    "                # error_df = pd.concat([error_df, pd.DataFrame(error_dict, index=[0])])\n",
    "    \n",
    "\n",
    "current_datetime = datetime.now()\n",
    "formatted_datetime = current_datetime.strftime(\"%Y-%m-%d_%H-%M-%S\")\n",
    "\n",
    "best_predictions_df.to_parquet(f\"C:/Users/felsp/Documents/Studium/Master/Forecasting/ForecastingUniProject/results/prediction_dfs/prediction_{model}_{formatted_datetime}_RMSLE.parquet\")\n",
    "error_df.to_parquet(f\"C:/Users/felsp/Documents/Studium/Master/Forecasting/ForecastingUniProject/results/prediction_dfs/error_{model}_{formatted_datetime}_RMSLE.parquet\")"
   ]
  },
  {
   "cell_type": "code",
   "execution_count": null,
   "metadata": {},
   "outputs": [],
   "source": [
    "all_data = pd.DataFrame()\n",
    "\n",
    "current_values = {\"unique_id\": \"10_10\", \"cluster\": \"cluster_1\"}\n",
    "params = {\"estimator\":100, \"depth\":20, \"help\":True}\n",
    "\n",
    "current_values.update(params)\n",
    "\n",
    "all_data = pd.concat([all_data, pd.DataFrame(current_values, index=[0])])\n",
    "\n",
    "all_data.to_parquet(\"all_data.parquet\", index=False)\n",
    "\n",
    "read_test = pd.read_parquet(\"all_data.parquet\")\n",
    "display(read_test)"
   ]
  },
  {
   "cell_type": "code",
   "execution_count": null,
   "metadata": {},
   "outputs": [],
   "source": [
    "import optuna\n",
    "from sklearn.metrics import mean_squared_log_error, mean_squared_error, mean_absolute_error, r2_score, mean_absolute_percentage_error\n",
    "import re\n",
    "from time import time\n",
    "from datetime import datetime\n",
    "\n",
    "# possible models: \"XGBRegressor\", \"LGBMRegressor\", \"RandomForestRegressor\", \"DecisionTreeRegressor\", \"GradientBoostingRegressor\", \"LinearRegressor\"\n",
    "\n",
    "model = \"DecisionTreeRegressor\"\n",
    "\n",
    "optuna.logging.set_verbosity(optuna.logging.ERROR)\n",
    "\n",
    "error_df = pd.DataFrame({\n",
    "    \"unique_id\": encoded_merged_train[\"unique_id\"].unique(), \n",
    "    \"msle\": [float('inf')] * len(encoded_merged_train[\"unique_id\"].unique()),\n",
    "    \"mse\": [float('inf')] * len(encoded_merged_train[\"unique_id\"].unique()),\n",
    "    \"mae\": [float('inf')] * len(encoded_merged_train[\"unique_id\"].unique()),\n",
    "    \"r2\": [float('inf')] * len(encoded_merged_train[\"unique_id\"].unique()),\n",
    "    \"mape\": [float('inf')] * len(encoded_merged_train[\"unique_id\"].unique())\n",
    "    })\n",
    "best_predictions_df = pd.DataFrame()\n",
    "    \n",
    "for key, dataframe in split_dataframe_dict.items():\n",
    "\n",
    "    print(\"current dataframe: \" + key)\n",
    "    start = time()\n",
    "\n",
    "    dataframe.columns = [re.sub(r'\\W+', '', col) for col in dataframe.columns]\n",
    "\n",
    "    splitting_date = \"2017.08.01\"\n",
    "    train = dataframe[dataframe[\"ds\"] < splitting_date]\n",
    "    valid = dataframe[dataframe[\"ds\"] >= splitting_date]\n",
    "    h = valid[\"ds\"].nunique()\n",
    "\n",
    "    def objective(trial):\n",
    "        config = {\n",
    "            \"n_estimators\": trial.suggest_int(\"n_estimators\", 100, 1000),\n",
    "            \"learning_rate\": trial.suggest_float('learning_rate', 1e-3, 1e-1, log=True),\n",
    "            \"max_depth\": trial.suggest_int(\"max_depth\", 3, 10),\n",
    "            \"reg_lambda\": trial.suggest_float(\"reg_lambda\", 0.1, 10.0),\n",
    "            \"num_leaves\": trial.suggest_int(\"num_leaves\", 2, 50),\n",
    "            \"min_data_in_leaf\": trial.suggest_int(\"min_data_in_leaf\", 1, 50),\n",
    "            \"bagging_fraction\": trial.suggest_float(\"bagging_fraction\", 0.1, 1.0),\n",
    "            \"colsample_bytree\": trial.suggest_float(\"colsample_bytree\", 0.1, 1.0),\n",
    "            \"lambda_l2\": trial.suggest_float(\"lambda_l2\", 0.1, 10.0),\n",
    "            \"lags\": trial.suggest_int(\"lags\", 14, 56, step=7),\n",
    "            \"min_samples_split\": trial.suggest_int(\"min_samples_split\", 2, 10),\n",
    "            \"min_samples_leaf\": trial.suggest_int(\"min_samples_leaf\", 1, 10),\n",
    "            \"max_features\": trial.suggest_float(\"max_features\", 0.1, 1.0)\n",
    "        }\n",
    "\n",
    "        prediction = run_forecast(train, valid, h, config, model)\n",
    "        prediction.loc[prediction[model] < 0, model] = 0\n",
    "        error = mean_squared_log_error(prediction['y'], prediction[model])\n",
    "        \n",
    "        return error\n",
    "\n",
    "    study = optuna.create_study(direction=\"minimize\", storage=\"sqlite:////home/nikl/programming/fhdw/forecasting/ForecastingUniProject/db.sqlite3\", \n",
    "                                study_name=f\"SUN_{model}_{key}\", load_if_exists=True)\n",
    "    study.optimize(objective, n_trials=25, callbacks=[champion_callback])\n",
    "\n",
    "    prediction = run_forecast(train, valid, h, study.best_params, model)\n",
    "\n",
    "    for unique_id in prediction[\"unique_id\"].unique():\n",
    "        if study.best_value < error_df[error_df[\"unique_id\"] == unique_id][\"msle\"].iloc[0]:\n",
    "            filtered_rows = prediction[prediction[\"unique_id\"] == unique_id]\n",
    "            try:\n",
    "                best_predictions_df = best_predictions_df.drop(best_predictions_df[best_predictions_df[\"unique_id\"] == unique_id].index, axis=0)\n",
    "            except:\n",
    "                print(\"Wasn't able to drop rows\")\n",
    "            best_predictions_df = pd.concat([best_predictions_df, filtered_rows], ignore_index=True)\n",
    "\n",
    "            error_df.loc[error_df[\"unique_id\"] == unique_id, \"msle\"] = study.best_value\n",
    "            error_df.loc[error_df[\"unique_id\"] == unique_id, \"mse\"] = mean_squared_error(prediction['y'], prediction[model])\n",
    "            error_df.loc[error_df[\"unique_id\"] == unique_id, \"mae\"] = mean_absolute_error(prediction['y'], prediction[model])\n",
    "            error_df.loc[error_df[\"unique_id\"] == unique_id, \"r2\"] = r2_score(prediction['y'], prediction[model])\n",
    "            error_df.loc[error_df[\"unique_id\"] == unique_id, \"mape\"] = mean_absolute_percentage_error(prediction['y'], prediction[model])\n",
    "\n",
    "    print(f\"Time: {(time()-start)/60}\")\n",
    "    \n",
    "\n",
    "current_datetime = datetime.now()\n",
    "formatted_datetime = current_datetime.strftime(\"%Y-%m-%d_%H-%M-%S\")\n",
    "\n",
    "best_predictions_df.to_parquet(f\"/home/nikl/programming/fhdw/forecasting/ForecastingUniProject/results/prediction_dfs/prediction_{model}_{formatted_datetime}.parquet\")\n",
    "error_df.to_parquet(f\"/home/nikl/programming/fhdw/forecasting/ForecastingUniProject/results/prediction_dfs/error_{model}_{formatted_datetime}.parquet\")"
   ]
  },
  {
   "cell_type": "code",
   "execution_count": null,
   "metadata": {},
   "outputs": [],
   "source": [
    "import optuna\n",
    "from sklearn.metrics import mean_squared_log_error, mean_squared_error, mean_absolute_error, r2_score, mean_absolute_percentage_error\n",
    "import re\n",
    "from time import time\n",
    "from datetime import datetime\n",
    "\n",
    "# possible models: \"XGBRegressor\", \"LGBMRegressor\", \"RandomForestRegressor\", \"DecisionTreeRegressor\", \"GradientBoostingRegressor\", \"LinearRegressor\"\n",
    "\n",
    "model = \"LinearRegressor\"\n",
    "\n",
    "optuna.logging.set_verbosity(optuna.logging.ERROR)\n",
    "\n",
    "error_df = pd.DataFrame({\n",
    "    \"unique_id\": encoded_merged_train[\"unique_id\"].unique(), \n",
    "    \"msle\": [float('inf')] * len(encoded_merged_train[\"unique_id\"].unique()),\n",
    "    \"mse\": [float('inf')] * len(encoded_merged_train[\"unique_id\"].unique()),\n",
    "    \"mae\": [float('inf')] * len(encoded_merged_train[\"unique_id\"].unique()),\n",
    "    \"r2\": [float('inf')] * len(encoded_merged_train[\"unique_id\"].unique()),\n",
    "    \"mape\": [float('inf')] * len(encoded_merged_train[\"unique_id\"].unique())\n",
    "    })\n",
    "best_predictions_df = pd.DataFrame()\n",
    "    \n",
    "for key, dataframe in split_dataframe_dict.items():\n",
    "\n",
    "    print(\"current dataframe: \" + key)\n",
    "    start = time()\n",
    "\n",
    "    dataframe.columns = [re.sub(r'\\W+', '', col) for col in dataframe.columns]\n",
    "\n",
    "    splitting_date = \"2017.08.01\"\n",
    "    train = dataframe[dataframe[\"ds\"] < splitting_date]\n",
    "    valid = dataframe[dataframe[\"ds\"] >= splitting_date]\n",
    "    h = valid[\"ds\"].nunique()\n",
    "\n",
    "    def objective(trial):\n",
    "        config = {\n",
    "            \"n_estimators\": trial.suggest_int(\"n_estimators\", 100, 1000),\n",
    "            \"learning_rate\": trial.suggest_float('learning_rate', 1e-3, 1e-1, log=True),\n",
    "            \"max_depth\": trial.suggest_int(\"max_depth\", 3, 10),\n",
    "            \"reg_lambda\": trial.suggest_float(\"reg_lambda\", 0.1, 10.0),\n",
    "            \"num_leaves\": trial.suggest_int(\"num_leaves\", 2, 50),\n",
    "            \"min_data_in_leaf\": trial.suggest_int(\"min_data_in_leaf\", 1, 50),\n",
    "            \"bagging_fraction\": trial.suggest_float(\"bagging_fraction\", 0.1, 1.0),\n",
    "            \"colsample_bytree\": trial.suggest_float(\"colsample_bytree\", 0.1, 1.0),\n",
    "            \"lambda_l2\": trial.suggest_float(\"lambda_l2\", 0.1, 10.0),\n",
    "            \"lags\": trial.suggest_int(\"lags\", 14, 56, step=7),\n",
    "            \"min_samples_split\": trial.suggest_int(\"min_samples_split\", 2, 10),\n",
    "            \"min_samples_leaf\": trial.suggest_int(\"min_samples_leaf\", 1, 10),\n",
    "            \"max_features\": trial.suggest_float(\"max_features\", 0.1, 1.0)\n",
    "        }\n",
    "\n",
    "        prediction = run_forecast(train, valid, h, config, model)\n",
    "        prediction.loc[prediction[model] < 0, model] = 0\n",
    "        error = mean_squared_log_error(prediction['y'], prediction[model])\n",
    "        \n",
    "        return error\n",
    "\n",
    "    study = optuna.create_study(direction=\"minimize\", storage=\"sqlite:////home/nikl/programming/fhdw/forecasting/ForecastingUniProject/db.sqlite3\", \n",
    "                                study_name=f\"SUN_{model}_{key}\", load_if_exists=True)\n",
    "    study.optimize(objective, n_trials=5, callbacks=[champion_callback])\n",
    "\n",
    "    prediction = run_forecast(train, valid, h, study.best_params, model)\n",
    "\n",
    "    for unique_id in prediction[\"unique_id\"].unique():\n",
    "        if study.best_value < error_df[error_df[\"unique_id\"] == unique_id][\"msle\"].iloc[0]:\n",
    "            filtered_rows = prediction[prediction[\"unique_id\"] == unique_id]\n",
    "            try:\n",
    "                best_predictions_df = best_predictions_df.drop(best_predictions_df[best_predictions_df[\"unique_id\"] == unique_id].index, axis=0)\n",
    "            except:\n",
    "                print(\"Wasn't able to drop rows\")\n",
    "            best_predictions_df = pd.concat([best_predictions_df, filtered_rows], ignore_index=True)\n",
    "\n",
    "            error_df.loc[error_df[\"unique_id\"] == unique_id, \"msle\"] = study.best_value\n",
    "            error_df.loc[error_df[\"unique_id\"] == unique_id, \"mse\"] = mean_squared_error(prediction['y'], prediction[model])\n",
    "            error_df.loc[error_df[\"unique_id\"] == unique_id, \"mae\"] = mean_absolute_error(prediction['y'], prediction[model])\n",
    "            error_df.loc[error_df[\"unique_id\"] == unique_id, \"r2\"] = r2_score(prediction['y'], prediction[model])\n",
    "            error_df.loc[error_df[\"unique_id\"] == unique_id, \"mape\"] = mean_absolute_percentage_error(prediction['y'], prediction[model])\n",
    "\n",
    "    print(f\"Time: {(time()-start)/60}\")\n",
    "    \n",
    "\n",
    "current_datetime = datetime.now()\n",
    "formatted_datetime = current_datetime.strftime(\"%Y-%m-%d_%H-%M-%S\")\n",
    "\n",
    "best_predictions_df.to_parquet(f\"/home/nikl/programming/fhdw/forecasting/ForecastingUniProject/results/prediction_dfs/prediction_{model}_{formatted_datetime}.parquet\")\n",
    "error_df.to_parquet(f\"/home/nikl/programming/fhdw/forecasting/ForecastingUniProject/results/prediction_dfs/error_{model}_{formatted_datetime}.parquet\")"
   ]
  },
  {
   "cell_type": "markdown",
   "metadata": {},
   "source": [
    "### LightGBM Visuals"
   ]
  },
  {
   "cell_type": "code",
   "execution_count": null,
   "metadata": {},
   "outputs": [],
   "source": [
    "import math \n",
    "light_gbm_df = pd.read_parquet(\"C:/Users/felsp/Documents/Studium/Master/Forecasting/ForecastingUniProject/results/prediction_dfs/prediction_LGBMRegressor_2024-03-11_00-06-38.parquet\")\n",
    "light_gbm_df.loc[light_gbm_df[\"LGBMRegressor\"] < 0, \"LGBMRegressor\"] = 0\n",
    "print(math.sqrt(mean_squared_log_error(light_gbm_df['y'], light_gbm_df[\"LGBMRegressor\"])))\n",
    "px.scatter(light_gbm_df, x=\"LGBMRegressor\", y=\"y\", title=f\"Comparison of actuals vs best predicions per unique_id for LGBMRegressor\", opacity=0.2, trendline=\"ols\", trendline_color_override=\"red\")"
   ]
  },
  {
   "cell_type": "code",
   "execution_count": null,
   "metadata": {},
   "outputs": [],
   "source": [
    "light_gbm_error_df = pd.read_parquet(\"../results/prediction_dfs/error_LGBMRegressor_2024-03-11_00-06-38.parquet\")\n",
    "df_melted = light_gbm_error_df.melt(id_vars=\"unique_id\", var_name=\"Error\", value_name=\"Value\")\n",
    "px.bar(df_melted, x=\"unique_id\", y=\"Value\", color='Error', title='Balkenplot mit gestapelten Fehlern',\n",
    "             labels={'Value': 'Fehlerwert', 'unique_id': 'Unique ID', 'Error': 'Fehler'})"
   ]
  },
  {
   "cell_type": "code",
   "execution_count": null,
   "metadata": {},
   "outputs": [],
   "source": [
    "store_1_prediction = light_gbm_df[light_gbm_df[\"unique_id\"] == \"3_AUTOMOTIVE\"]\n",
    "#display(store_1_prediction)\n",
    "store_1_validation = encoded_merged_train[encoded_merged_train[\"unique_id\"] == \"3_AUTOMOTIVE\"]\n",
    "store_1_validation = store_1_validation[store_1_validation[\"ds\"] >= \"2017-07-01\"]\n",
    "fig = px.line(store_1_validation, x=\"ds\", y=\"y\", title=\"Store 1 Sales\")\n",
    "fig.add_scatter(x=store_1_prediction[\"ds\"], y=store_1_prediction[\"LGBMRegressor\"], mode=\"lines\", name=\"Prediction\")\n",
    "fig.show()\n",
    "\n",
    "# show more stores"
   ]
  },
  {
   "cell_type": "code",
   "execution_count": 244,
   "metadata": {},
   "outputs": [
    {
     "data": {
      "application/vnd.plotly.v1+json": {
       "config": {
        "plotlyServerURL": "https://plot.ly"
       },
       "data": [
        {
         "hovertemplate": "ds=%{x}<br>y=%{y}<extra></extra>",
         "legendgroup": "",
         "line": {
          "color": "#636efa",
          "dash": "solid"
         },
         "marker": {
          "symbol": "circle"
         },
         "mode": "lines",
         "name": "",
         "orientation": "v",
         "showlegend": false,
         "type": "scatter",
         "x": [
          "2017-07-01T00:00:00",
          "2017-07-02T00:00:00",
          "2017-07-03T00:00:00",
          "2017-07-04T00:00:00",
          "2017-07-05T00:00:00",
          "2017-07-06T00:00:00",
          "2017-07-07T00:00:00",
          "2017-07-08T00:00:00",
          "2017-07-09T00:00:00",
          "2017-07-10T00:00:00",
          "2017-07-11T00:00:00",
          "2017-07-12T00:00:00",
          "2017-07-13T00:00:00",
          "2017-07-14T00:00:00",
          "2017-07-15T00:00:00",
          "2017-07-16T00:00:00",
          "2017-07-17T00:00:00",
          "2017-07-18T00:00:00",
          "2017-07-19T00:00:00",
          "2017-07-20T00:00:00",
          "2017-07-21T00:00:00",
          "2017-07-22T00:00:00",
          "2017-07-23T00:00:00",
          "2017-07-24T00:00:00",
          "2017-07-25T00:00:00",
          "2017-07-26T00:00:00",
          "2017-07-27T00:00:00",
          "2017-07-28T00:00:00",
          "2017-07-29T00:00:00",
          "2017-07-30T00:00:00",
          "2017-07-31T00:00:00",
          "2017-08-01T00:00:00",
          "2017-08-02T00:00:00",
          "2017-08-03T00:00:00",
          "2017-08-04T00:00:00",
          "2017-08-05T00:00:00",
          "2017-08-06T00:00:00",
          "2017-08-07T00:00:00",
          "2017-08-08T00:00:00",
          "2017-08-09T00:00:00",
          "2017-08-10T00:00:00",
          "2017-08-11T00:00:00",
          "2017-08-12T00:00:00",
          "2017-08-13T00:00:00",
          "2017-08-14T00:00:00",
          "2017-08-15T00:00:00"
         ],
         "xaxis": "x",
         "y": [
          677.6262187811448,
          727.4855317359709,
          519.160162074074,
          467.0927530941077,
          473.794395687991,
          392.9697025570707,
          452.18423243153757,
          560.23972671633,
          617.7515838249158,
          451.2675987859147,
          409.95217042704826,
          420.20201790611674,
          353.3397098369809,
          429.56768652822666,
          543.814323835578,
          617.7349601700337,
          459.2174647300785,
          409.72710939393943,
          430.9645219292929,
          386.2447069904602,
          439.06750797912457,
          523.5140553765432,
          574.7972734259259,
          458.22913978451174,
          400.4386266043771,
          415.63021558193043,
          370.2860982372615,
          468.63057362710435,
          579.29902678844,
          630.6130628236252,
          497.11382764898985,
          554.7293845140291,
          541.3647677053872,
          408.5681734747474,
          464.52058705274976,
          541.9156287833895,
          588.9782066649831,
          447.5112030398429,
          402.7869523599888,
          411.9751257070707,
          365.5369876373176,
          463.7338507418631,
          444.79828006649836,
          485.7686181094276,
          427.00471721705946,
          427.98088436531987
         ],
         "yaxis": "y"
        },
        {
         "mode": "lines",
         "name": "Prediction LGBM",
         "type": "scatter",
         "x": [
          "2017-08-01T00:00:00",
          "2017-08-02T00:00:00",
          "2017-08-03T00:00:00",
          "2017-08-04T00:00:00",
          "2017-08-05T00:00:00",
          "2017-08-06T00:00:00",
          "2017-08-07T00:00:00",
          "2017-08-08T00:00:00",
          "2017-08-09T00:00:00",
          "2017-08-10T00:00:00",
          "2017-08-11T00:00:00",
          "2017-08-12T00:00:00",
          "2017-08-13T00:00:00",
          "2017-08-14T00:00:00",
          "2017-08-15T00:00:00"
         ],
         "y": [
          488.6053259020726,
          566.0234565417348,
          447.01541937113114,
          518.0400681433075,
          610.2681966713878,
          642.6250072390703,
          493.37783815665375,
          426.8617781124963,
          439.13343575229516,
          393.4003007903933,
          436.9674900698706,
          558.8252041607585,
          589.8179751311566,
          473.15088900430067,
          448.46744568254724
         ]
        },
        {
         "mode": "lines",
         "name": "Prediction XGB",
         "type": "scatter",
         "x": [
          "2017-08-01T00:00:00",
          "2017-08-02T00:00:00",
          "2017-08-03T00:00:00",
          "2017-08-04T00:00:00",
          "2017-08-05T00:00:00",
          "2017-08-06T00:00:00",
          "2017-08-07T00:00:00",
          "2017-08-08T00:00:00",
          "2017-08-09T00:00:00",
          "2017-08-10T00:00:00",
          "2017-08-11T00:00:00",
          "2017-08-12T00:00:00",
          "2017-08-13T00:00:00",
          "2017-08-14T00:00:00",
          "2017-08-15T00:00:00"
         ],
         "y": [
          488.669772300245,
          561.4310377198497,
          466.71901679056407,
          513.9198219926028,
          603.2107845824938,
          644.1600285483536,
          483.65220693527596,
          423.53697248715326,
          436.79715861825747,
          388.8389899911258,
          452.2291052629693,
          556.8270806766818,
          582.6465701562694,
          478.88764635489326,
          439.02313133933626
         ]
        },
        {
         "mode": "lines",
         "name": "Prediction Decision Tree",
         "type": "scatter",
         "x": [
          "2017-08-01T00:00:00",
          "2017-08-02T00:00:00",
          "2017-08-03T00:00:00",
          "2017-08-04T00:00:00",
          "2017-08-05T00:00:00",
          "2017-08-06T00:00:00",
          "2017-08-07T00:00:00",
          "2017-08-08T00:00:00",
          "2017-08-09T00:00:00",
          "2017-08-10T00:00:00",
          "2017-08-11T00:00:00",
          "2017-08-12T00:00:00",
          "2017-08-13T00:00:00",
          "2017-08-14T00:00:00",
          "2017-08-15T00:00:00"
         ],
         "y": [
          455.2752428421537,
          508.061214820394,
          419.6203595733773,
          461.4405186868023,
          587.3330141631433,
          626.434850960747,
          482.4198296440611,
          436.94243762606897,
          454.1257703727383,
          409.95599678743883,
          448.1317556688002,
          563.6467419603778,
          584.814270030145,
          488.46022759195796,
          453.2466510750184
         ]
        }
       ],
       "layout": {
        "legend": {
         "tracegroupgap": 0
        },
        "template": {
         "data": {
          "bar": [
           {
            "error_x": {
             "color": "#2a3f5f"
            },
            "error_y": {
             "color": "#2a3f5f"
            },
            "marker": {
             "line": {
              "color": "#E5ECF6",
              "width": 0.5
             },
             "pattern": {
              "fillmode": "overlay",
              "size": 10,
              "solidity": 0.2
             }
            },
            "type": "bar"
           }
          ],
          "barpolar": [
           {
            "marker": {
             "line": {
              "color": "#E5ECF6",
              "width": 0.5
             },
             "pattern": {
              "fillmode": "overlay",
              "size": 10,
              "solidity": 0.2
             }
            },
            "type": "barpolar"
           }
          ],
          "carpet": [
           {
            "aaxis": {
             "endlinecolor": "#2a3f5f",
             "gridcolor": "white",
             "linecolor": "white",
             "minorgridcolor": "white",
             "startlinecolor": "#2a3f5f"
            },
            "baxis": {
             "endlinecolor": "#2a3f5f",
             "gridcolor": "white",
             "linecolor": "white",
             "minorgridcolor": "white",
             "startlinecolor": "#2a3f5f"
            },
            "type": "carpet"
           }
          ],
          "choropleth": [
           {
            "colorbar": {
             "outlinewidth": 0,
             "ticks": ""
            },
            "type": "choropleth"
           }
          ],
          "contour": [
           {
            "colorbar": {
             "outlinewidth": 0,
             "ticks": ""
            },
            "colorscale": [
             [
              0,
              "#0d0887"
             ],
             [
              0.1111111111111111,
              "#46039f"
             ],
             [
              0.2222222222222222,
              "#7201a8"
             ],
             [
              0.3333333333333333,
              "#9c179e"
             ],
             [
              0.4444444444444444,
              "#bd3786"
             ],
             [
              0.5555555555555556,
              "#d8576b"
             ],
             [
              0.6666666666666666,
              "#ed7953"
             ],
             [
              0.7777777777777778,
              "#fb9f3a"
             ],
             [
              0.8888888888888888,
              "#fdca26"
             ],
             [
              1,
              "#f0f921"
             ]
            ],
            "type": "contour"
           }
          ],
          "contourcarpet": [
           {
            "colorbar": {
             "outlinewidth": 0,
             "ticks": ""
            },
            "type": "contourcarpet"
           }
          ],
          "heatmap": [
           {
            "colorbar": {
             "outlinewidth": 0,
             "ticks": ""
            },
            "colorscale": [
             [
              0,
              "#0d0887"
             ],
             [
              0.1111111111111111,
              "#46039f"
             ],
             [
              0.2222222222222222,
              "#7201a8"
             ],
             [
              0.3333333333333333,
              "#9c179e"
             ],
             [
              0.4444444444444444,
              "#bd3786"
             ],
             [
              0.5555555555555556,
              "#d8576b"
             ],
             [
              0.6666666666666666,
              "#ed7953"
             ],
             [
              0.7777777777777778,
              "#fb9f3a"
             ],
             [
              0.8888888888888888,
              "#fdca26"
             ],
             [
              1,
              "#f0f921"
             ]
            ],
            "type": "heatmap"
           }
          ],
          "heatmapgl": [
           {
            "colorbar": {
             "outlinewidth": 0,
             "ticks": ""
            },
            "colorscale": [
             [
              0,
              "#0d0887"
             ],
             [
              0.1111111111111111,
              "#46039f"
             ],
             [
              0.2222222222222222,
              "#7201a8"
             ],
             [
              0.3333333333333333,
              "#9c179e"
             ],
             [
              0.4444444444444444,
              "#bd3786"
             ],
             [
              0.5555555555555556,
              "#d8576b"
             ],
             [
              0.6666666666666666,
              "#ed7953"
             ],
             [
              0.7777777777777778,
              "#fb9f3a"
             ],
             [
              0.8888888888888888,
              "#fdca26"
             ],
             [
              1,
              "#f0f921"
             ]
            ],
            "type": "heatmapgl"
           }
          ],
          "histogram": [
           {
            "marker": {
             "pattern": {
              "fillmode": "overlay",
              "size": 10,
              "solidity": 0.2
             }
            },
            "type": "histogram"
           }
          ],
          "histogram2d": [
           {
            "colorbar": {
             "outlinewidth": 0,
             "ticks": ""
            },
            "colorscale": [
             [
              0,
              "#0d0887"
             ],
             [
              0.1111111111111111,
              "#46039f"
             ],
             [
              0.2222222222222222,
              "#7201a8"
             ],
             [
              0.3333333333333333,
              "#9c179e"
             ],
             [
              0.4444444444444444,
              "#bd3786"
             ],
             [
              0.5555555555555556,
              "#d8576b"
             ],
             [
              0.6666666666666666,
              "#ed7953"
             ],
             [
              0.7777777777777778,
              "#fb9f3a"
             ],
             [
              0.8888888888888888,
              "#fdca26"
             ],
             [
              1,
              "#f0f921"
             ]
            ],
            "type": "histogram2d"
           }
          ],
          "histogram2dcontour": [
           {
            "colorbar": {
             "outlinewidth": 0,
             "ticks": ""
            },
            "colorscale": [
             [
              0,
              "#0d0887"
             ],
             [
              0.1111111111111111,
              "#46039f"
             ],
             [
              0.2222222222222222,
              "#7201a8"
             ],
             [
              0.3333333333333333,
              "#9c179e"
             ],
             [
              0.4444444444444444,
              "#bd3786"
             ],
             [
              0.5555555555555556,
              "#d8576b"
             ],
             [
              0.6666666666666666,
              "#ed7953"
             ],
             [
              0.7777777777777778,
              "#fb9f3a"
             ],
             [
              0.8888888888888888,
              "#fdca26"
             ],
             [
              1,
              "#f0f921"
             ]
            ],
            "type": "histogram2dcontour"
           }
          ],
          "mesh3d": [
           {
            "colorbar": {
             "outlinewidth": 0,
             "ticks": ""
            },
            "type": "mesh3d"
           }
          ],
          "parcoords": [
           {
            "line": {
             "colorbar": {
              "outlinewidth": 0,
              "ticks": ""
             }
            },
            "type": "parcoords"
           }
          ],
          "pie": [
           {
            "automargin": true,
            "type": "pie"
           }
          ],
          "scatter": [
           {
            "fillpattern": {
             "fillmode": "overlay",
             "size": 10,
             "solidity": 0.2
            },
            "type": "scatter"
           }
          ],
          "scatter3d": [
           {
            "line": {
             "colorbar": {
              "outlinewidth": 0,
              "ticks": ""
             }
            },
            "marker": {
             "colorbar": {
              "outlinewidth": 0,
              "ticks": ""
             }
            },
            "type": "scatter3d"
           }
          ],
          "scattercarpet": [
           {
            "marker": {
             "colorbar": {
              "outlinewidth": 0,
              "ticks": ""
             }
            },
            "type": "scattercarpet"
           }
          ],
          "scattergeo": [
           {
            "marker": {
             "colorbar": {
              "outlinewidth": 0,
              "ticks": ""
             }
            },
            "type": "scattergeo"
           }
          ],
          "scattergl": [
           {
            "marker": {
             "colorbar": {
              "outlinewidth": 0,
              "ticks": ""
             }
            },
            "type": "scattergl"
           }
          ],
          "scattermapbox": [
           {
            "marker": {
             "colorbar": {
              "outlinewidth": 0,
              "ticks": ""
             }
            },
            "type": "scattermapbox"
           }
          ],
          "scatterpolar": [
           {
            "marker": {
             "colorbar": {
              "outlinewidth": 0,
              "ticks": ""
             }
            },
            "type": "scatterpolar"
           }
          ],
          "scatterpolargl": [
           {
            "marker": {
             "colorbar": {
              "outlinewidth": 0,
              "ticks": ""
             }
            },
            "type": "scatterpolargl"
           }
          ],
          "scatterternary": [
           {
            "marker": {
             "colorbar": {
              "outlinewidth": 0,
              "ticks": ""
             }
            },
            "type": "scatterternary"
           }
          ],
          "surface": [
           {
            "colorbar": {
             "outlinewidth": 0,
             "ticks": ""
            },
            "colorscale": [
             [
              0,
              "#0d0887"
             ],
             [
              0.1111111111111111,
              "#46039f"
             ],
             [
              0.2222222222222222,
              "#7201a8"
             ],
             [
              0.3333333333333333,
              "#9c179e"
             ],
             [
              0.4444444444444444,
              "#bd3786"
             ],
             [
              0.5555555555555556,
              "#d8576b"
             ],
             [
              0.6666666666666666,
              "#ed7953"
             ],
             [
              0.7777777777777778,
              "#fb9f3a"
             ],
             [
              0.8888888888888888,
              "#fdca26"
             ],
             [
              1,
              "#f0f921"
             ]
            ],
            "type": "surface"
           }
          ],
          "table": [
           {
            "cells": {
             "fill": {
              "color": "#EBF0F8"
             },
             "line": {
              "color": "white"
             }
            },
            "header": {
             "fill": {
              "color": "#C8D4E3"
             },
             "line": {
              "color": "white"
             }
            },
            "type": "table"
           }
          ]
         },
         "layout": {
          "annotationdefaults": {
           "arrowcolor": "#2a3f5f",
           "arrowhead": 0,
           "arrowwidth": 1
          },
          "autotypenumbers": "strict",
          "coloraxis": {
           "colorbar": {
            "outlinewidth": 0,
            "ticks": ""
           }
          },
          "colorscale": {
           "diverging": [
            [
             0,
             "#8e0152"
            ],
            [
             0.1,
             "#c51b7d"
            ],
            [
             0.2,
             "#de77ae"
            ],
            [
             0.3,
             "#f1b6da"
            ],
            [
             0.4,
             "#fde0ef"
            ],
            [
             0.5,
             "#f7f7f7"
            ],
            [
             0.6,
             "#e6f5d0"
            ],
            [
             0.7,
             "#b8e186"
            ],
            [
             0.8,
             "#7fbc41"
            ],
            [
             0.9,
             "#4d9221"
            ],
            [
             1,
             "#276419"
            ]
           ],
           "sequential": [
            [
             0,
             "#0d0887"
            ],
            [
             0.1111111111111111,
             "#46039f"
            ],
            [
             0.2222222222222222,
             "#7201a8"
            ],
            [
             0.3333333333333333,
             "#9c179e"
            ],
            [
             0.4444444444444444,
             "#bd3786"
            ],
            [
             0.5555555555555556,
             "#d8576b"
            ],
            [
             0.6666666666666666,
             "#ed7953"
            ],
            [
             0.7777777777777778,
             "#fb9f3a"
            ],
            [
             0.8888888888888888,
             "#fdca26"
            ],
            [
             1,
             "#f0f921"
            ]
           ],
           "sequentialminus": [
            [
             0,
             "#0d0887"
            ],
            [
             0.1111111111111111,
             "#46039f"
            ],
            [
             0.2222222222222222,
             "#7201a8"
            ],
            [
             0.3333333333333333,
             "#9c179e"
            ],
            [
             0.4444444444444444,
             "#bd3786"
            ],
            [
             0.5555555555555556,
             "#d8576b"
            ],
            [
             0.6666666666666666,
             "#ed7953"
            ],
            [
             0.7777777777777778,
             "#fb9f3a"
            ],
            [
             0.8888888888888888,
             "#fdca26"
            ],
            [
             1,
             "#f0f921"
            ]
           ]
          },
          "colorway": [
           "#636efa",
           "#EF553B",
           "#00cc96",
           "#ab63fa",
           "#FFA15A",
           "#19d3f3",
           "#FF6692",
           "#B6E880",
           "#FF97FF",
           "#FECB52"
          ],
          "font": {
           "color": "#2a3f5f"
          },
          "geo": {
           "bgcolor": "white",
           "lakecolor": "white",
           "landcolor": "#E5ECF6",
           "showlakes": true,
           "showland": true,
           "subunitcolor": "white"
          },
          "hoverlabel": {
           "align": "left"
          },
          "hovermode": "closest",
          "mapbox": {
           "style": "light"
          },
          "paper_bgcolor": "white",
          "plot_bgcolor": "#E5ECF6",
          "polar": {
           "angularaxis": {
            "gridcolor": "white",
            "linecolor": "white",
            "ticks": ""
           },
           "bgcolor": "#E5ECF6",
           "radialaxis": {
            "gridcolor": "white",
            "linecolor": "white",
            "ticks": ""
           }
          },
          "scene": {
           "xaxis": {
            "backgroundcolor": "#E5ECF6",
            "gridcolor": "white",
            "gridwidth": 2,
            "linecolor": "white",
            "showbackground": true,
            "ticks": "",
            "zerolinecolor": "white"
           },
           "yaxis": {
            "backgroundcolor": "#E5ECF6",
            "gridcolor": "white",
            "gridwidth": 2,
            "linecolor": "white",
            "showbackground": true,
            "ticks": "",
            "zerolinecolor": "white"
           },
           "zaxis": {
            "backgroundcolor": "#E5ECF6",
            "gridcolor": "white",
            "gridwidth": 2,
            "linecolor": "white",
            "showbackground": true,
            "ticks": "",
            "zerolinecolor": "white"
           }
          },
          "shapedefaults": {
           "line": {
            "color": "#2a3f5f"
           }
          },
          "ternary": {
           "aaxis": {
            "gridcolor": "white",
            "linecolor": "white",
            "ticks": ""
           },
           "baxis": {
            "gridcolor": "white",
            "linecolor": "white",
            "ticks": ""
           },
           "bgcolor": "#E5ECF6",
           "caxis": {
            "gridcolor": "white",
            "linecolor": "white",
            "ticks": ""
           }
          },
          "title": {
           "x": 0.05
          },
          "xaxis": {
           "automargin": true,
           "gridcolor": "white",
           "linecolor": "white",
           "ticks": "",
           "title": {
            "standoff": 15
           },
           "zerolinecolor": "white",
           "zerolinewidth": 2
          },
          "yaxis": {
           "automargin": true,
           "gridcolor": "white",
           "linecolor": "white",
           "ticks": "",
           "title": {
            "standoff": 15
           },
           "zerolinecolor": "white",
           "zerolinewidth": 2
          }
         }
        },
        "title": {
         "text": "Total Sales"
        },
        "xaxis": {
         "anchor": "y",
         "domain": [
          0,
          1
         ],
         "title": {
          "text": "ds"
         }
        },
        "yaxis": {
         "anchor": "x",
         "domain": [
          0,
          1
         ],
         "title": {
          "text": "y"
         }
        }
       }
      }
     },
     "metadata": {},
     "output_type": "display_data"
    }
   ],
   "source": [
    "lgbm = pd.read_parquet(\"C:/Users/felsp/Documents/Studium/Master/Forecasting/ForecastingUniProject/results/prediction_dfs/prediction_LGBMRegressor_2024-03-11_00-06-38.parquet\")\n",
    "xgb = pd.read_parquet(\"C:/Users/felsp/Documents/Studium/Master/Forecasting/ForecastingUniProject/results/prediction_dfs/prediction_XGBRegressor_2024-03-12_01-23-53.parquet\")\n",
    "decTree = pd.read_parquet(\"C:/Users/felsp/Documents/Studium/Master/Forecasting/ForecastingUniProject/results/prediction_dfs/prediction_DecisionTreeRegressor_2024-03-11_18-04-50.parquet\")\n",
    "#plot the other models as well\n",
    "temp3 = encoded_merged_train[encoded_merged_train[\"ds\"] >= \"2017-07-01\"]\n",
    "temp1 = temp3[['ds', 'y']].groupby('ds').mean().reset_index()\n",
    "tempLGBM = lgbm[['ds', 'LGBMRegressor']].groupby('ds').mean().reset_index()\n",
    "tempXGB = xgb[['ds', 'XGBRegressor']].groupby('ds').mean().reset_index()\n",
    "tempDecTree = decTree[['ds', 'DecisionTreeRegressor']].groupby('ds').mean().reset_index()\n",
    "fig = px.line(temp1, x=\"ds\", y=\"y\", title=\"Total Sales\")\n",
    "fig.add_scatter(x=tempLGBM[\"ds\"], y=tempLGBM[\"LGBMRegressor\"], mode=\"lines\", name=\"Prediction LGBM\")\n",
    "fig.add_scatter(x=tempXGB[\"ds\"], y=tempXGB[\"XGBRegressor\"], mode=\"lines\", name=\"Prediction XGB\")\n",
    "fig.add_scatter(x=tempDecTree[\"ds\"], y=tempDecTree[\"DecisionTreeRegressor\"], mode=\"lines\", name=\"Prediction Decision Tree\")\n",
    "fig.show()"
   ]
  },
  {
   "cell_type": "markdown",
   "metadata": {},
   "source": [
    "### Decision Tree Visuals"
   ]
  },
  {
   "cell_type": "code",
   "execution_count": null,
   "metadata": {},
   "outputs": [],
   "source": [
    "decision_tree_df = pd.read_parquet(\"/home/nikl/programming/fhdw/forecasting/ForecastingUniProject/results/prediction_dfs/prediction_DecisionTreeRegressor_2024-03-11_18-04-50.parquet\")\n",
    "print(math.sqrt(mean_squared_log_error(decision_tree_df['y'], decision_tree_df[\"DecisionTreeRegressor\"])))\n",
    "px.scatter(decision_tree_df, x=\"DecisionTreeRegressor\", y=\"y\", title=f\"Comparison of actuals vs best predicions per unique_id for DecisionTreeRegressor\", opacity=0.2, trendline=\"ols\", trendline_color_override=\"red\")"
   ]
  },
  {
   "cell_type": "code",
   "execution_count": null,
   "metadata": {},
   "outputs": [],
   "source": [
    "store_1_prediction = decision_tree_df[decision_tree_df[\"unique_id\"] == \"3_AUTOMOTIVE\"]\n",
    "store_1_validation = encoded_merged_train[encoded_merged_train[\"unique_id\"] == \"3_AUTOMOTIVE\"]\n",
    "store_1_validation = store_1_validation[store_1_validation[\"ds\"] >= \"2017-01-01\"]\n",
    "fig = px.line(store_1_validation, x=\"ds\", y=\"y\", title=\"Store 1 Sales\", labels={\"ds\": \"Date\", \"y\": \"Sales\"})\n",
    "fig.add_scatter(x=store_1_prediction[\"ds\"], y=store_1_prediction[\"DecisionTreeRegressor\"], mode=\"lines\", name=\"Prediction\")\n",
    "fig.show()"
   ]
  },
  {
   "cell_type": "code",
   "execution_count": null,
   "metadata": {},
   "outputs": [],
   "source": [
    "store_1_prediction = decision_tree_df[decision_tree_df[\"unique_id\"] == \"1_AUTOMOTIVE\"]\n",
    "store_1_validation = encoded_merged_train[encoded_merged_train[\"unique_id\"] == \"1_AUTOMOTIVE\"]\n",
    "store_1_validation = store_1_validation[store_1_validation[\"ds\"] >= \"2017-01-01\" & store_1_validation[\"ds\"] <= \"2017-08-01\"]\n",
    "\n",
    "# Get the last date of the validation data\n",
    "last_date = store_1_validation[\"ds\"].max()\n",
    "\n",
    "# Update the x-axis values of the prediction line\n",
    "store_1_prediction.loc[store_1_prediction[\"ds\"] > last_date, \"ds\"] = last_date\n",
    "\n",
    "fig = px.line(store_1_validation, x=\"ds\", y=\"y\", title=\"Store 1 Sales\", labels={\"ds\": \"Date\", \"y\": \"Sales\"})\n",
    "fig.add_scatter(x=store_1_prediction[\"ds\"], y=store_1_prediction[\"DecisionTreeRegressor\"], mode=\"lines\", name=\"Prediction\")\n",
    "fig.show()\n"
   ]
  },
  {
   "cell_type": "markdown",
   "metadata": {},
   "source": [
    "### XGBoost Visualization"
   ]
  },
  {
   "cell_type": "code",
   "execution_count": null,
   "metadata": {},
   "outputs": [],
   "source": [
    "xgb_df = pd.read_parquet(\"C:/Users/felsp/Documents/Studium/Master/Forecasting/ForecastingUniProject/results/prediction_dfs/prediction_XGBRegressor_2024-03-12_01-23-53.parquet\")\n",
    "xgb_df.loc[xgb_df[\"XGBRegressor\"] < 0, \"XGBRegressor\"] = 0\n",
    "print(math.sqrt(mean_squared_log_error(xgb_df['y'], xgb_df[\"XGBRegressor\"])))\n",
    "px.scatter(xgb_df, x=\"XGBRegressor\", y=\"y\", title=f\"Comparison of actuals vs best predicions per unique_id for XGBRegressor\", opacity=0.2, trendline=\"ols\", trendline_color_override=\"red\")"
   ]
  },
  {
   "cell_type": "code",
   "execution_count": null,
   "metadata": {},
   "outputs": [],
   "source": [
    "store_1_prediction = xgb_df[xgb_df[\"unique_id\"] == \"3_AUTOMOTIVE\"]\n",
    "store_1_validation = encoded_merged_train[encoded_merged_train[\"unique_id\"] == \"3_AUTOMOTIVE\"]\n",
    "store_1_validation = store_1_validation[store_1_validation[\"ds\"] >= \"2017-07-01\"]\n",
    "fig = px.line(store_1_validation, x=\"ds\", y=\"y\", title=\"Store 1 Sales\", labels={\"ds\": \"Date\", \"y\": \"Sales\"})\n",
    "fig.add_scatter(x=store_1_prediction[\"ds\"], y=store_1_prediction[\"XGBRegressor\"], mode=\"lines\", name=\"Prediction\")\n",
    "fig.show()"
   ]
  },
  {
   "cell_type": "markdown",
   "metadata": {},
   "source": [
    "### Optuna Study Results"
   ]
  },
  {
   "cell_type": "markdown",
   "metadata": {},
   "source": [
    "#### Accessing and processing the data for Optuna"
   ]
  },
  {
   "cell_type": "code",
   "execution_count": 272,
   "metadata": {},
   "outputs": [],
   "source": [
    "def get_data_from_sql(conn):\n",
    "    studies_df = pd.read_sql_query(\"SELECT * FROM studies\", conn)\n",
    "    trials_df = pd.read_sql_query(\"SELECT * FROM trials\", conn)\n",
    "    trials_params_df = pd.read_sql_query(\"SELECT * FROM trial_params\", conn)\n",
    "    trials_values_df = pd.read_sql_query(\"SELECT * FROM trial_values\", conn)\n",
    "\n",
    "    trials_df = trials_df[trials_df[\"state\"] == \"COMPLETE\"]\n",
    "\n",
    "    #trials_df.drop(columns={\"datetime_start\", \"datetime_complete\"}, axis=1, inplace=True)\n",
    "\n",
    "    trials_with_error_df = pd.merge(trials_df, trials_values_df, on=\"trial_id\", how=\"inner\")\n",
    "\n",
    "    error_history_df = pd.merge(trials_with_error_df, studies_df, on=\"study_id\", how=\"inner\")\n",
    "\n",
    "    best_trials_index = trials_with_error_df.groupby([\"study_id\"])[\"value\"].idxmin()\n",
    "    best_trials = trials_with_error_df.iloc[best_trials_index]\n",
    "\n",
    "    best_trials_with_params = pd.merge(best_trials, trials_params_df, on=\"trial_id\", how=\"inner\")\n",
    "\n",
    "    best_trials_with_params.drop(columns={\"value_type\", \"distribution_json\"}, axis=1, inplace=True)\n",
    "\n",
    "    merged_df = pd.merge(best_trials_with_params, studies_df, on=\"study_id\")\n",
    "\n",
    "    return merged_df, error_history_df"
   ]
  },
  {
   "cell_type": "code",
   "execution_count": 273,
   "metadata": {},
   "outputs": [
    {
     "name": "stderr",
     "output_type": "stream",
     "text": [
      "C:\\Users\\felsp\\AppData\\Local\\Temp\\ipykernel_34720\\2265751455.py:19: SettingWithCopyWarning:\n",
      "\n",
      "\n",
      "A value is trying to be set on a copy of a slice from a DataFrame.\n",
      "Try using .loc[row_indexer,col_indexer] = value instead\n",
      "\n",
      "See the caveats in the documentation: https://pandas.pydata.org/pandas-docs/stable/user_guide/indexing.html#returning-a-view-versus-a-copy\n",
      "\n"
     ]
    }
   ],
   "source": [
    "import sqlite3\n",
    "\n",
    "conn = sqlite3.connect(\"../db.sqlite3\")\n",
    "conn2 = sqlite3.connect(\"../db_decTree.sqlite3\")\n",
    "\n",
    "\n",
    "merged_df, error_history_df = get_data_from_sql(conn=conn)\n",
    "\n",
    "merged_decTree, error_history_decTree = get_data_from_sql(conn=conn2)\n",
    "\n",
    "error_SUN_LGBM_complete = error_history_df[error_history_df[\"study_name\"] == \"SUN_LGBMRegressor_unsplit_dataframe\"]\n",
    "error_SUN_XGB_complete = error_history_df[error_history_df[\"study_name\"] == \"SUN_XGBRegressor_unsplit_dataframe\"]\n",
    "error_SUN_DecTree_complete = error_history_decTree[error_history_decTree[\"study_name\"] == \"SUN_DecisionTreeRegressor_unsplit_dataframe\"]\n",
    "\n",
    "SUN_LGBM_Reg = merged_df[merged_df[\"study_name\"].str.startswith(\"SUN_LGBMRegressor\")]\n",
    "SUN_XGB_Reg = merged_df[merged_df[\"study_name\"].str.startswith(\"SUN_XGBRegressor\")]\n",
    "SUN_DecTree_Reg = merged_decTree[merged_decTree[\"study_name\"].str.startswith(\"SUN_DecisionTreeRegressor\")]\n",
    "\n",
    "#Decision Tree Trial nums range from 1 to 25 and not 0 to 24 like the others\n",
    "error_SUN_DecTree_complete[\"number\"] -= 1\n",
    "\n",
    "# Get Unique ID names for cluster IDs\n"
   ]
  },
  {
   "cell_type": "markdown",
   "metadata": {},
   "source": [
    "#### Plot for the error history of a trial"
   ]
  },
  {
   "cell_type": "code",
   "execution_count": 274,
   "metadata": {},
   "outputs": [
    {
     "name": "stderr",
     "output_type": "stream",
     "text": [
      "c:\\Users\\felsp\\anaconda3\\envs\\forecasting\\Lib\\site-packages\\seaborn\\_oldcore.py:1119: FutureWarning:\n",
      "\n",
      "use_inf_as_na option is deprecated and will be removed in a future version. Convert inf values to NaN before operating instead.\n",
      "\n",
      "c:\\Users\\felsp\\anaconda3\\envs\\forecasting\\Lib\\site-packages\\seaborn\\_oldcore.py:1119: FutureWarning:\n",
      "\n",
      "use_inf_as_na option is deprecated and will be removed in a future version. Convert inf values to NaN before operating instead.\n",
      "\n",
      "c:\\Users\\felsp\\anaconda3\\envs\\forecasting\\Lib\\site-packages\\seaborn\\_oldcore.py:1119: FutureWarning:\n",
      "\n",
      "use_inf_as_na option is deprecated and will be removed in a future version. Convert inf values to NaN before operating instead.\n",
      "\n",
      "c:\\Users\\felsp\\anaconda3\\envs\\forecasting\\Lib\\site-packages\\seaborn\\_oldcore.py:1119: FutureWarning:\n",
      "\n",
      "use_inf_as_na option is deprecated and will be removed in a future version. Convert inf values to NaN before operating instead.\n",
      "\n",
      "c:\\Users\\felsp\\anaconda3\\envs\\forecasting\\Lib\\site-packages\\seaborn\\_oldcore.py:1119: FutureWarning:\n",
      "\n",
      "use_inf_as_na option is deprecated and will be removed in a future version. Convert inf values to NaN before operating instead.\n",
      "\n",
      "c:\\Users\\felsp\\anaconda3\\envs\\forecasting\\Lib\\site-packages\\seaborn\\_oldcore.py:1119: FutureWarning:\n",
      "\n",
      "use_inf_as_na option is deprecated and will be removed in a future version. Convert inf values to NaN before operating instead.\n",
      "\n"
     ]
    },
    {
     "data": {
      "image/png": "[encoded data removed]",
      "text/plain": [
       "<Figure size 1000x400 with 1 Axes>"
      ]
     },
     "metadata": {},
     "output_type": "display_data"
    }
   ],
   "source": [
    "fig, ax1 = plt.subplots(figsize=(10,4))\n",
    "\n",
    "sns.lineplot(data=error_SUN_LGBM_complete[:24], x=\"number\", y=\"value\", ax=ax1, color=\"blue\")\n",
    "sns.lineplot(data=error_SUN_XGB_complete, x=\"number\", y=\"value\", ax=ax1, color=\"red\")\n",
    "sns.lineplot(data=error_SUN_DecTree_complete[:24], x=\"number\", y=\"value\",ax=ax1, color=\"#4CAF50\")\n",
    "ax1.set_ylabel(\"Error\", color=\"black\")\n",
    "\n",
    "# Add labels on the side with box\n",
    "# ax1.text(0.95, 0.95, 'LGBM', verticalalignment='top', horizontalalignment='right', transform=ax1.transAxes, color='blue', fontsize=12, bbox=dict(facecolor='white', alpha=0.5))\n",
    "# ax1.text(0.95, 0.85, 'XGBoost', verticalalignment='top', horizontalalignment='right', transform=ax1.transAxes, color='red', fontsize=12, bbox=dict(facecolor='white', alpha=0.5))\n",
    "# ax1.text(0.95, 0.75, 'Decision Tree', verticalalignment='top', horizontalalignment='right', transform=ax1.transAxes, color='green', fontsize=12, bbox=dict(facecolor='white', alpha=0.5))\n",
    "\n",
    "ax1.set_ylabel(\"Error\", color=\"black\")\n",
    "fig.tight_layout()\n",
    "\n",
    "plt.title(\"Comparison of Error History During Hyperparameter Tuning\")\n",
    "# Create custom legend handles and labels\n",
    "legend_handles = [\n",
    "    plt.Line2D([0], [0], color='blue', lw=2),\n",
    "    plt.Line2D([0], [0], color='red', lw=2),\n",
    "    plt.Line2D([0], [0], color='#4CAF50', lw=2)\n",
    "]\n",
    "\n",
    "plt.legend(legend_handles, ['LGBM', 'XGBoost', 'Decision Tree'], loc='upper right', fancybox=True, shadow=True, framealpha=1, fontsize='medium')\n",
    "plt.show()"
   ]
  },
  {
   "cell_type": "markdown",
   "metadata": {},
   "source": [
    "#### A comparision of the training & tuning duration for each cluster between LightGBM & XGBoost"
   ]
  },
  {
   "cell_type": "code",
   "execution_count": 306,
   "metadata": {},
   "outputs": [
    {
     "data": {
      "text/html": [
       "<div>\n",
       "<style scoped>\n",
       "    .dataframe tbody tr th:only-of-type {\n",
       "        vertical-align: middle;\n",
       "    }\n",
       "\n",
       "    .dataframe tbody tr th {\n",
       "        vertical-align: top;\n",
       "    }\n",
       "\n",
       "    .dataframe thead th {\n",
       "        text-align: right;\n",
       "    }\n",
       "</style>\n",
       "<table border=\"1\" class=\"dataframe\">\n",
       "  <thead>\n",
       "    <tr style=\"text-align: right;\">\n",
       "      <th></th>\n",
       "      <th>trial_id</th>\n",
       "      <th>number</th>\n",
       "      <th>study_id</th>\n",
       "      <th>state</th>\n",
       "      <th>datetime_start</th>\n",
       "      <th>datetime_complete</th>\n",
       "      <th>trial_value_id</th>\n",
       "      <th>objective</th>\n",
       "      <th>value</th>\n",
       "      <th>study_name</th>\n",
       "      <th>duration</th>\n",
       "    </tr>\n",
       "  </thead>\n",
       "  <tbody>\n",
       "    <tr>\n",
       "      <th>220</th>\n",
       "      <td>2078</td>\n",
       "      <td>42</td>\n",
       "      <td>23</td>\n",
       "      <td>COMPLETE</td>\n",
       "      <td>2024-03-10 20:07:53.054005</td>\n",
       "      <td>2024-03-10 20:12:30.631865</td>\n",
       "      <td>2066</td>\n",
       "      <td>0</td>\n",
       "      <td>0.471415</td>\n",
       "      <td>SUN_LGBMRegressor_unsplit_dataframe</td>\n",
       "      <td>0 days 00:04:37.577860</td>\n",
       "    </tr>\n",
       "    <tr>\n",
       "      <th>230</th>\n",
       "      <td>2102</td>\n",
       "      <td>23</td>\n",
       "      <td>24</td>\n",
       "      <td>COMPLETE</td>\n",
       "      <td>2024-03-10 20:47:42.011640</td>\n",
       "      <td>2024-03-10 20:49:08.418903</td>\n",
       "      <td>2090</td>\n",
       "      <td>0</td>\n",
       "      <td>0.427450</td>\n",
       "      <td>SUN_LGBMRegressor_type_D</td>\n",
       "      <td>0 days 00:01:26.407263</td>\n",
       "    </tr>\n",
       "    <tr>\n",
       "      <th>240</th>\n",
       "      <td>2125</td>\n",
       "      <td>21</td>\n",
       "      <td>25</td>\n",
       "      <td>COMPLETE</td>\n",
       "      <td>2024-03-10 21:01:59.421942</td>\n",
       "      <td>2024-03-10 21:02:20.232442</td>\n",
       "      <td>2113</td>\n",
       "      <td>0</td>\n",
       "      <td>0.572806</td>\n",
       "      <td>SUN_LGBMRegressor_type_B</td>\n",
       "      <td>0 days 00:00:20.810500</td>\n",
       "    </tr>\n",
       "    <tr>\n",
       "      <th>250</th>\n",
       "      <td>2130</td>\n",
       "      <td>1</td>\n",
       "      <td>26</td>\n",
       "      <td>COMPLETE</td>\n",
       "      <td>2024-03-10 21:04:37.724301</td>\n",
       "      <td>2024-03-10 21:05:08.860473</td>\n",
       "      <td>2118</td>\n",
       "      <td>0</td>\n",
       "      <td>0.448781</td>\n",
       "      <td>SUN_LGBMRegressor_type_C</td>\n",
       "      <td>0 days 00:00:31.136172</td>\n",
       "    </tr>\n",
       "    <tr>\n",
       "      <th>260</th>\n",
       "      <td>2173</td>\n",
       "      <td>19</td>\n",
       "      <td>27</td>\n",
       "      <td>COMPLETE</td>\n",
       "      <td>2024-03-10 21:32:54.913502</td>\n",
       "      <td>2024-03-10 21:33:25.822126</td>\n",
       "      <td>2161</td>\n",
       "      <td>0</td>\n",
       "      <td>0.552278</td>\n",
       "      <td>SUN_LGBMRegressor_type_E</td>\n",
       "      <td>0 days 00:00:30.908624</td>\n",
       "    </tr>\n",
       "    <tr>\n",
       "      <th>...</th>\n",
       "      <td>...</td>\n",
       "      <td>...</td>\n",
       "      <td>...</td>\n",
       "      <td>...</td>\n",
       "      <td>...</td>\n",
       "      <td>...</td>\n",
       "      <td>...</td>\n",
       "      <td>...</td>\n",
       "      <td>...</td>\n",
       "      <td>...</td>\n",
       "      <td>...</td>\n",
       "    </tr>\n",
       "    <tr>\n",
       "      <th>234</th>\n",
       "      <td>487</td>\n",
       "      <td>24</td>\n",
       "      <td>22</td>\n",
       "      <td>COMPLETE</td>\n",
       "      <td>2024-03-11 17:46:47.398246</td>\n",
       "      <td>2024-03-11 17:46:56.546449</td>\n",
       "      <td>479</td>\n",
       "      <td>0</td>\n",
       "      <td>0.206009</td>\n",
       "      <td>SUN_DecisionTreeRegressor_cluster_2</td>\n",
       "      <td>0 days 00:00:09.148203</td>\n",
       "    </tr>\n",
       "    <tr>\n",
       "      <th>247</th>\n",
       "      <td>501</td>\n",
       "      <td>13</td>\n",
       "      <td>23</td>\n",
       "      <td>COMPLETE</td>\n",
       "      <td>2024-03-11 17:47:54.990249</td>\n",
       "      <td>2024-03-11 17:48:01.188458</td>\n",
       "      <td>493</td>\n",
       "      <td>0</td>\n",
       "      <td>0.432278</td>\n",
       "      <td>SUN_DecisionTreeRegressor_cluster_5</td>\n",
       "      <td>0 days 00:00:06.198209</td>\n",
       "    </tr>\n",
       "    <tr>\n",
       "      <th>260</th>\n",
       "      <td>514</td>\n",
       "      <td>1</td>\n",
       "      <td>24</td>\n",
       "      <td>COMPLETE</td>\n",
       "      <td>2024-03-11 17:49:08.664470</td>\n",
       "      <td>2024-03-11 17:49:15.065560</td>\n",
       "      <td>506</td>\n",
       "      <td>0</td>\n",
       "      <td>0.256507</td>\n",
       "      <td>SUN_DecisionTreeRegressor_cluster_11</td>\n",
       "      <td>0 days 00:00:06.401090</td>\n",
       "    </tr>\n",
       "    <tr>\n",
       "      <th>273</th>\n",
       "      <td>550</td>\n",
       "      <td>12</td>\n",
       "      <td>25</td>\n",
       "      <td>COMPLETE</td>\n",
       "      <td>2024-03-11 17:55:46.008349</td>\n",
       "      <td>2024-03-11 17:56:21.347989</td>\n",
       "      <td>542</td>\n",
       "      <td>0</td>\n",
       "      <td>0.486455</td>\n",
       "      <td>SUN_DecisionTreeRegressor_cluster_14</td>\n",
       "      <td>0 days 00:00:35.339640</td>\n",
       "    </tr>\n",
       "    <tr>\n",
       "      <th>286</th>\n",
       "      <td>585</td>\n",
       "      <td>22</td>\n",
       "      <td>26</td>\n",
       "      <td>COMPLETE</td>\n",
       "      <td>2024-03-11 18:04:22.619709</td>\n",
       "      <td>2024-03-11 18:04:30.180107</td>\n",
       "      <td>577</td>\n",
       "      <td>0</td>\n",
       "      <td>0.218462</td>\n",
       "      <td>SUN_DecisionTreeRegressor_cluster_17</td>\n",
       "      <td>0 days 00:00:07.560398</td>\n",
       "    </tr>\n",
       "  </tbody>\n",
       "</table>\n",
       "<p>69 rows × 11 columns</p>\n",
       "</div>"
      ],
      "text/plain": [
       "     trial_id  number  study_id     state             datetime_start  \\\n",
       "220      2078      42        23  COMPLETE 2024-03-10 20:07:53.054005   \n",
       "230      2102      23        24  COMPLETE 2024-03-10 20:47:42.011640   \n",
       "240      2125      21        25  COMPLETE 2024-03-10 21:01:59.421942   \n",
       "250      2130       1        26  COMPLETE 2024-03-10 21:04:37.724301   \n",
       "260      2173      19        27  COMPLETE 2024-03-10 21:32:54.913502   \n",
       "..        ...     ...       ...       ...                        ...   \n",
       "234       487      24        22  COMPLETE 2024-03-11 17:46:47.398246   \n",
       "247       501      13        23  COMPLETE 2024-03-11 17:47:54.990249   \n",
       "260       514       1        24  COMPLETE 2024-03-11 17:49:08.664470   \n",
       "273       550      12        25  COMPLETE 2024-03-11 17:55:46.008349   \n",
       "286       585      22        26  COMPLETE 2024-03-11 18:04:22.619709   \n",
       "\n",
       "             datetime_complete  trial_value_id  objective     value  \\\n",
       "220 2024-03-10 20:12:30.631865            2066          0  0.471415   \n",
       "230 2024-03-10 20:49:08.418903            2090          0  0.427450   \n",
       "240 2024-03-10 21:02:20.232442            2113          0  0.572806   \n",
       "250 2024-03-10 21:05:08.860473            2118          0  0.448781   \n",
       "260 2024-03-10 21:33:25.822126            2161          0  0.552278   \n",
       "..                         ...             ...        ...       ...   \n",
       "234 2024-03-11 17:46:56.546449             479          0  0.206009   \n",
       "247 2024-03-11 17:48:01.188458             493          0  0.432278   \n",
       "260 2024-03-11 17:49:15.065560             506          0  0.256507   \n",
       "273 2024-03-11 17:56:21.347989             542          0  0.486455   \n",
       "286 2024-03-11 18:04:30.180107             577          0  0.218462   \n",
       "\n",
       "                               study_name               duration  \n",
       "220   SUN_LGBMRegressor_unsplit_dataframe 0 days 00:04:37.577860  \n",
       "230              SUN_LGBMRegressor_type_D 0 days 00:01:26.407263  \n",
       "240              SUN_LGBMRegressor_type_B 0 days 00:00:20.810500  \n",
       "250              SUN_LGBMRegressor_type_C 0 days 00:00:31.136172  \n",
       "260              SUN_LGBMRegressor_type_E 0 days 00:00:30.908624  \n",
       "..                                    ...                    ...  \n",
       "234   SUN_DecisionTreeRegressor_cluster_2 0 days 00:00:09.148203  \n",
       "247   SUN_DecisionTreeRegressor_cluster_5 0 days 00:00:06.198209  \n",
       "260  SUN_DecisionTreeRegressor_cluster_11 0 days 00:00:06.401090  \n",
       "273  SUN_DecisionTreeRegressor_cluster_14 0 days 00:00:35.339640  \n",
       "286  SUN_DecisionTreeRegressor_cluster_17 0 days 00:00:07.560398  \n",
       "\n",
       "[69 rows x 11 columns]"
      ]
     },
     "metadata": {},
     "output_type": "display_data"
    },
    {
     "data": {
      "application/vnd.plotly.v1+json": {
       "config": {
        "plotlyServerURL": "https://plot.ly"
       },
       "data": [
        {
         "alignmentgroup": "True",
         "hovertemplate": "Model=DecisionTreeRegressor<br>Shortened Study=%{x}<br>Duration (Minutes)=%{y}<extra></extra>",
         "legendgroup": "DecisionTreeRegressor",
         "marker": {
          "color": "#636efa",
          "pattern": {
           "shape": ""
          }
         },
         "name": "DecisionTreeRegressor",
         "offsetgroup": "DecisionTreeRegressor",
         "orientation": "v",
         "showlegend": true,
         "textposition": "auto",
         "type": "bar",
         "x": [
          "1",
          "10",
          "11",
          "12",
          "13",
          "14",
          "15",
          "16",
          "17",
          "2",
          "3",
          "4",
          "5",
          "6",
          "7",
          "8",
          "9",
          "A",
          "B",
          "C",
          "D",
          "E",
          "dataframe"
         ],
         "xaxis": "x",
         "y": [
          0.43597579999999997,
          0.5333518,
          0.10668483333333333,
          0.10271403333333334,
          0.4158593666666667,
          0.588994,
          0.4852717833333333,
          0.0843281,
          0.12600663333333334,
          0.15247005,
          0.5789069166666666,
          0.37257128333333334,
          0.10330348333333333,
          0.6789446833333332,
          0.179652,
          0.37467313333333335,
          0.27127635,
          1.0646605666666666,
          1.0712707666666668,
          2.1752193666666666,
          1.9286595,
          0.4339515,
          11.562034766666667
         ],
         "yaxis": "y"
        },
        {
         "alignmentgroup": "True",
         "hovertemplate": "Model=LGBMRegressor<br>Shortened Study=%{x}<br>Duration (Minutes)=%{y}<extra></extra>",
         "legendgroup": "LGBMRegressor",
         "marker": {
          "color": "#EF553B",
          "pattern": {
           "shape": ""
          }
         },
         "name": "LGBMRegressor",
         "offsetgroup": "LGBMRegressor",
         "orientation": "v",
         "showlegend": true,
         "textposition": "auto",
         "type": "bar",
         "x": [
          "1",
          "10",
          "11",
          "12",
          "13",
          "14",
          "15",
          "16",
          "17",
          "2",
          "3",
          "4",
          "5",
          "6",
          "7",
          "8",
          "9",
          "A",
          "B",
          "C",
          "D",
          "E",
          "dataframe"
         ],
         "xaxis": "x",
         "y": [
          0.4684854,
          0.4623602666666667,
          0.2053968,
          0.21617318333333332,
          0.40785726666666666,
          0.4603751666666666,
          0.59120725,
          0.24059426666666667,
          0.30412325,
          0.18046005,
          0.8104056333333334,
          0.44921408333333335,
          0.30243404999999995,
          0.5916433166666667,
          0.20840931666666668,
          0.3598247,
          0.1337015,
          0.6779067833333333,
          0.34684166666666666,
          0.5189362,
          1.44012105,
          0.5151437333333333,
          4.626297666666667
         ],
         "yaxis": "y"
        },
        {
         "alignmentgroup": "True",
         "hovertemplate": "Model=XGBRegressor<br>Shortened Study=%{x}<br>Duration (Minutes)=%{y}<extra></extra>",
         "legendgroup": "XGBRegressor",
         "marker": {
          "color": "#00cc96",
          "pattern": {
           "shape": ""
          }
         },
         "name": "XGBRegressor",
         "offsetgroup": "XGBRegressor",
         "orientation": "v",
         "showlegend": true,
         "textposition": "auto",
         "type": "bar",
         "x": [
          "1",
          "10",
          "11",
          "12",
          "13",
          "14",
          "15",
          "16",
          "17",
          "2",
          "3",
          "4",
          "5",
          "6",
          "7",
          "8",
          "9",
          "A",
          "B",
          "C",
          "D",
          "E",
          "dataframe"
         ],
         "xaxis": "x",
         "y": [
          2.1046959666666667,
          1.7685062666666667,
          1.2416675166666666,
          1.4448870666666667,
          0.9466468333333334,
          2.2185788000000004,
          2.192608816666667,
          1.1221334,
          1.3176012333333333,
          0.4312329833333333,
          3.536992533333333,
          1.6920310166666668,
          0.6136631166666666,
          2.3924014666666666,
          1.5482161833333334,
          1.0017766166666666,
          1.7657428833333335,
          3.493153216666667,
          3.816819633333333,
          7.142731283333333,
          6.360529516666667,
          2.76444465,
          19.321244033333336
         ],
         "yaxis": "y"
        }
       ],
       "layout": {
        "barmode": "relative",
        "legend": {
         "title": {
          "text": "Model"
         },
         "tracegroupgap": 0
        },
        "template": {
         "data": {
          "bar": [
           {
            "error_x": {
             "color": "#2a3f5f"
            },
            "error_y": {
             "color": "#2a3f5f"
            },
            "marker": {
             "line": {
              "color": "#E5ECF6",
              "width": 0.5
             },
             "pattern": {
              "fillmode": "overlay",
              "size": 10,
              "solidity": 0.2
             }
            },
            "type": "bar"
           }
          ],
          "barpolar": [
           {
            "marker": {
             "line": {
              "color": "#E5ECF6",
              "width": 0.5
             },
             "pattern": {
              "fillmode": "overlay",
              "size": 10,
              "solidity": 0.2
             }
            },
            "type": "barpolar"
           }
          ],
          "carpet": [
           {
            "aaxis": {
             "endlinecolor": "#2a3f5f",
             "gridcolor": "white",
             "linecolor": "white",
             "minorgridcolor": "white",
             "startlinecolor": "#2a3f5f"
            },
            "baxis": {
             "endlinecolor": "#2a3f5f",
             "gridcolor": "white",
             "linecolor": "white",
             "minorgridcolor": "white",
             "startlinecolor": "#2a3f5f"
            },
            "type": "carpet"
           }
          ],
          "choropleth": [
           {
            "colorbar": {
             "outlinewidth": 0,
             "ticks": ""
            },
            "type": "choropleth"
           }
          ],
          "contour": [
           {
            "colorbar": {
             "outlinewidth": 0,
             "ticks": ""
            },
            "colorscale": [
             [
              0,
              "#0d0887"
             ],
             [
              0.1111111111111111,
              "#46039f"
             ],
             [
              0.2222222222222222,
              "#7201a8"
             ],
             [
              0.3333333333333333,
              "#9c179e"
             ],
             [
              0.4444444444444444,
              "#bd3786"
             ],
             [
              0.5555555555555556,
              "#d8576b"
             ],
             [
              0.6666666666666666,
              "#ed7953"
             ],
             [
              0.7777777777777778,
              "#fb9f3a"
             ],
             [
              0.8888888888888888,
              "#fdca26"
             ],
             [
              1,
              "#f0f921"
             ]
            ],
            "type": "contour"
           }
          ],
          "contourcarpet": [
           {
            "colorbar": {
             "outlinewidth": 0,
             "ticks": ""
            },
            "type": "contourcarpet"
           }
          ],
          "heatmap": [
           {
            "colorbar": {
             "outlinewidth": 0,
             "ticks": ""
            },
            "colorscale": [
             [
              0,
              "#0d0887"
             ],
             [
              0.1111111111111111,
              "#46039f"
             ],
             [
              0.2222222222222222,
              "#7201a8"
             ],
             [
              0.3333333333333333,
              "#9c179e"
             ],
             [
              0.4444444444444444,
              "#bd3786"
             ],
             [
              0.5555555555555556,
              "#d8576b"
             ],
             [
              0.6666666666666666,
              "#ed7953"
             ],
             [
              0.7777777777777778,
              "#fb9f3a"
             ],
             [
              0.8888888888888888,
              "#fdca26"
             ],
             [
              1,
              "#f0f921"
             ]
            ],
            "type": "heatmap"
           }
          ],
          "heatmapgl": [
           {
            "colorbar": {
             "outlinewidth": 0,
             "ticks": ""
            },
            "colorscale": [
             [
              0,
              "#0d0887"
             ],
             [
              0.1111111111111111,
              "#46039f"
             ],
             [
              0.2222222222222222,
              "#7201a8"
             ],
             [
              0.3333333333333333,
              "#9c179e"
             ],
             [
              0.4444444444444444,
              "#bd3786"
             ],
             [
              0.5555555555555556,
              "#d8576b"
             ],
             [
              0.6666666666666666,
              "#ed7953"
             ],
             [
              0.7777777777777778,
              "#fb9f3a"
             ],
             [
              0.8888888888888888,
              "#fdca26"
             ],
             [
              1,
              "#f0f921"
             ]
            ],
            "type": "heatmapgl"
           }
          ],
          "histogram": [
           {
            "marker": {
             "pattern": {
              "fillmode": "overlay",
              "size": 10,
              "solidity": 0.2
             }
            },
            "type": "histogram"
           }
          ],
          "histogram2d": [
           {
            "colorbar": {
             "outlinewidth": 0,
             "ticks": ""
            },
            "colorscale": [
             [
              0,
              "#0d0887"
             ],
             [
              0.1111111111111111,
              "#46039f"
             ],
             [
              0.2222222222222222,
              "#7201a8"
             ],
             [
              0.3333333333333333,
              "#9c179e"
             ],
             [
              0.4444444444444444,
              "#bd3786"
             ],
             [
              0.5555555555555556,
              "#d8576b"
             ],
             [
              0.6666666666666666,
              "#ed7953"
             ],
             [
              0.7777777777777778,
              "#fb9f3a"
             ],
             [
              0.8888888888888888,
              "#fdca26"
             ],
             [
              1,
              "#f0f921"
             ]
            ],
            "type": "histogram2d"
           }
          ],
          "histogram2dcontour": [
           {
            "colorbar": {
             "outlinewidth": 0,
             "ticks": ""
            },
            "colorscale": [
             [
              0,
              "#0d0887"
             ],
             [
              0.1111111111111111,
              "#46039f"
             ],
             [
              0.2222222222222222,
              "#7201a8"
             ],
             [
              0.3333333333333333,
              "#9c179e"
             ],
             [
              0.4444444444444444,
              "#bd3786"
             ],
             [
              0.5555555555555556,
              "#d8576b"
             ],
             [
              0.6666666666666666,
              "#ed7953"
             ],
             [
              0.7777777777777778,
              "#fb9f3a"
             ],
             [
              0.8888888888888888,
              "#fdca26"
             ],
             [
              1,
              "#f0f921"
             ]
            ],
            "type": "histogram2dcontour"
           }
          ],
          "mesh3d": [
           {
            "colorbar": {
             "outlinewidth": 0,
             "ticks": ""
            },
            "type": "mesh3d"
           }
          ],
          "parcoords": [
           {
            "line": {
             "colorbar": {
              "outlinewidth": 0,
              "ticks": ""
             }
            },
            "type": "parcoords"
           }
          ],
          "pie": [
           {
            "automargin": true,
            "type": "pie"
           }
          ],
          "scatter": [
           {
            "fillpattern": {
             "fillmode": "overlay",
             "size": 10,
             "solidity": 0.2
            },
            "type": "scatter"
           }
          ],
          "scatter3d": [
           {
            "line": {
             "colorbar": {
              "outlinewidth": 0,
              "ticks": ""
             }
            },
            "marker": {
             "colorbar": {
              "outlinewidth": 0,
              "ticks": ""
             }
            },
            "type": "scatter3d"
           }
          ],
          "scattercarpet": [
           {
            "marker": {
             "colorbar": {
              "outlinewidth": 0,
              "ticks": ""
             }
            },
            "type": "scattercarpet"
           }
          ],
          "scattergeo": [
           {
            "marker": {
             "colorbar": {
              "outlinewidth": 0,
              "ticks": ""
             }
            },
            "type": "scattergeo"
           }
          ],
          "scattergl": [
           {
            "marker": {
             "colorbar": {
              "outlinewidth": 0,
              "ticks": ""
             }
            },
            "type": "scattergl"
           }
          ],
          "scattermapbox": [
           {
            "marker": {
             "colorbar": {
              "outlinewidth": 0,
              "ticks": ""
             }
            },
            "type": "scattermapbox"
           }
          ],
          "scatterpolar": [
           {
            "marker": {
             "colorbar": {
              "outlinewidth": 0,
              "ticks": ""
             }
            },
            "type": "scatterpolar"
           }
          ],
          "scatterpolargl": [
           {
            "marker": {
             "colorbar": {
              "outlinewidth": 0,
              "ticks": ""
             }
            },
            "type": "scatterpolargl"
           }
          ],
          "scatterternary": [
           {
            "marker": {
             "colorbar": {
              "outlinewidth": 0,
              "ticks": ""
             }
            },
            "type": "scatterternary"
           }
          ],
          "surface": [
           {
            "colorbar": {
             "outlinewidth": 0,
             "ticks": ""
            },
            "colorscale": [
             [
              0,
              "#0d0887"
             ],
             [
              0.1111111111111111,
              "#46039f"
             ],
             [
              0.2222222222222222,
              "#7201a8"
             ],
             [
              0.3333333333333333,
              "#9c179e"
             ],
             [
              0.4444444444444444,
              "#bd3786"
             ],
             [
              0.5555555555555556,
              "#d8576b"
             ],
             [
              0.6666666666666666,
              "#ed7953"
             ],
             [
              0.7777777777777778,
              "#fb9f3a"
             ],
             [
              0.8888888888888888,
              "#fdca26"
             ],
             [
              1,
              "#f0f921"
             ]
            ],
            "type": "surface"
           }
          ],
          "table": [
           {
            "cells": {
             "fill": {
              "color": "#EBF0F8"
             },
             "line": {
              "color": "white"
             }
            },
            "header": {
             "fill": {
              "color": "#C8D4E3"
             },
             "line": {
              "color": "white"
             }
            },
            "type": "table"
           }
          ]
         },
         "layout": {
          "annotationdefaults": {
           "arrowcolor": "#2a3f5f",
           "arrowhead": 0,
           "arrowwidth": 1
          },
          "autotypenumbers": "strict",
          "coloraxis": {
           "colorbar": {
            "outlinewidth": 0,
            "ticks": ""
           }
          },
          "colorscale": {
           "diverging": [
            [
             0,
             "#8e0152"
            ],
            [
             0.1,
             "#c51b7d"
            ],
            [
             0.2,
             "#de77ae"
            ],
            [
             0.3,
             "#f1b6da"
            ],
            [
             0.4,
             "#fde0ef"
            ],
            [
             0.5,
             "#f7f7f7"
            ],
            [
             0.6,
             "#e6f5d0"
            ],
            [
             0.7,
             "#b8e186"
            ],
            [
             0.8,
             "#7fbc41"
            ],
            [
             0.9,
             "#4d9221"
            ],
            [
             1,
             "#276419"
            ]
           ],
           "sequential": [
            [
             0,
             "#0d0887"
            ],
            [
             0.1111111111111111,
             "#46039f"
            ],
            [
             0.2222222222222222,
             "#7201a8"
            ],
            [
             0.3333333333333333,
             "#9c179e"
            ],
            [
             0.4444444444444444,
             "#bd3786"
            ],
            [
             0.5555555555555556,
             "#d8576b"
            ],
            [
             0.6666666666666666,
             "#ed7953"
            ],
            [
             0.7777777777777778,
             "#fb9f3a"
            ],
            [
             0.8888888888888888,
             "#fdca26"
            ],
            [
             1,
             "#f0f921"
            ]
           ],
           "sequentialminus": [
            [
             0,
             "#0d0887"
            ],
            [
             0.1111111111111111,
             "#46039f"
            ],
            [
             0.2222222222222222,
             "#7201a8"
            ],
            [
             0.3333333333333333,
             "#9c179e"
            ],
            [
             0.4444444444444444,
             "#bd3786"
            ],
            [
             0.5555555555555556,
             "#d8576b"
            ],
            [
             0.6666666666666666,
             "#ed7953"
            ],
            [
             0.7777777777777778,
             "#fb9f3a"
            ],
            [
             0.8888888888888888,
             "#fdca26"
            ],
            [
             1,
             "#f0f921"
            ]
           ]
          },
          "colorway": [
           "#636efa",
           "#EF553B",
           "#00cc96",
           "#ab63fa",
           "#FFA15A",
           "#19d3f3",
           "#FF6692",
           "#B6E880",
           "#FF97FF",
           "#FECB52"
          ],
          "font": {
           "color": "#2a3f5f"
          },
          "geo": {
           "bgcolor": "white",
           "lakecolor": "white",
           "landcolor": "#E5ECF6",
           "showlakes": true,
           "showland": true,
           "subunitcolor": "white"
          },
          "hoverlabel": {
           "align": "left"
          },
          "hovermode": "closest",
          "mapbox": {
           "style": "light"
          },
          "paper_bgcolor": "white",
          "plot_bgcolor": "#E5ECF6",
          "polar": {
           "angularaxis": {
            "gridcolor": "white",
            "linecolor": "white",
            "ticks": ""
           },
           "bgcolor": "#E5ECF6",
           "radialaxis": {
            "gridcolor": "white",
            "linecolor": "white",
            "ticks": ""
           }
          },
          "scene": {
           "xaxis": {
            "backgroundcolor": "#E5ECF6",
            "gridcolor": "white",
            "gridwidth": 2,
            "linecolor": "white",
            "showbackground": true,
            "ticks": "",
            "zerolinecolor": "white"
           },
           "yaxis": {
            "backgroundcolor": "#E5ECF6",
            "gridcolor": "white",
            "gridwidth": 2,
            "linecolor": "white",
            "showbackground": true,
            "ticks": "",
            "zerolinecolor": "white"
           },
           "zaxis": {
            "backgroundcolor": "#E5ECF6",
            "gridcolor": "white",
            "gridwidth": 2,
            "linecolor": "white",
            "showbackground": true,
            "ticks": "",
            "zerolinecolor": "white"
           }
          },
          "shapedefaults": {
           "line": {
            "color": "#2a3f5f"
           }
          },
          "ternary": {
           "aaxis": {
            "gridcolor": "white",
            "linecolor": "white",
            "ticks": ""
           },
           "baxis": {
            "gridcolor": "white",
            "linecolor": "white",
            "ticks": ""
           },
           "bgcolor": "#E5ECF6",
           "caxis": {
            "gridcolor": "white",
            "linecolor": "white",
            "ticks": ""
           }
          },
          "title": {
           "x": 0.05
          },
          "xaxis": {
           "automargin": true,
           "gridcolor": "white",
           "linecolor": "white",
           "ticks": "",
           "title": {
            "standoff": 15
           },
           "zerolinecolor": "white",
           "zerolinewidth": 2
          },
          "yaxis": {
           "automargin": true,
           "gridcolor": "white",
           "linecolor": "white",
           "ticks": "",
           "title": {
            "standoff": 15
           },
           "zerolinecolor": "white",
           "zerolinewidth": 2
          }
         }
        },
        "title": {
         "text": "Duration of Studies"
        },
        "xaxis": {
         "anchor": "y",
         "domain": [
          0,
          1
         ],
         "showticklabels": true,
         "title": {
          "text": "Study"
         }
        },
        "yaxis": {
         "anchor": "x",
         "domain": [
          0,
          1
         ],
         "title": {
          "text": "Duration (Minutes)"
         }
        }
       }
      }
     },
     "metadata": {},
     "output_type": "display_data"
    }
   ],
   "source": [
    "\n",
    "SUN_XGB_Reg_viz = SUN_XGB_Reg.copy()\n",
    "SUN_LGBM_Reg_viz = SUN_LGBM_Reg.copy()\n",
    "SUN_DecTree_Reg_viz = SUN_DecTree_Reg.copy()\n",
    "\n",
    "SUN_LGBM_Reg_viz.drop(columns={\"param_id\", \"param_value\", \"param_name\"}, axis=1, inplace=True)\n",
    "SUN_LGBM_Reg_viz = SUN_LGBM_Reg_viz.drop_duplicates()\n",
    "\n",
    "SUN_XGB_Reg_viz.drop(columns={\"param_id\", \"param_value\", \"param_name\"}, axis=1, inplace=True)\n",
    "SUN_XGB_Reg_viz = SUN_XGB_Reg_viz.drop_duplicates()\n",
    "\n",
    "SUN_DecTree_Reg_viz.drop(columns={\"param_id\", \"param_value\", \"param_name\"}, axis=1, inplace=True)\n",
    "SUN_DecTree_Reg_viz = SUN_DecTree_Reg_viz.drop_duplicates()\n",
    "\n",
    "duration = pd.concat([SUN_LGBM_Reg_viz, SUN_XGB_Reg_viz, SUN_DecTree_Reg_viz])\n",
    "# Convert string columns to datetime\n",
    "duration['datetime_start'] = pd.to_datetime(duration['datetime_start'])\n",
    "duration['datetime_complete'] = pd.to_datetime(duration['datetime_complete'])\n",
    "\n",
    "# Calculate trial duration\n",
    "duration['duration'] = duration['datetime_complete'] - duration['datetime_start']\n",
    "\n",
    "# Group by 'study' and sum the durations\n",
    "study_dur = duration.groupby('study_name')['duration'].sum()\n",
    "\n",
    "study_dur_min = study_dur.dt.total_seconds() / 60\n",
    "df = study_dur_min.reset_index()\n",
    "df.columns = [\"Study\", \"Duration (Minutes)\"]\n",
    "\n",
    "df['Model'] = df['Study'].apply(lambda x: 'LGBMRegressor' if 'LGBM' in x else ('XGBRegressor' if 'XGB' in x else 'DecisionTreeRegressor'))\n",
    "\n",
    "color_scale = {'LGBMRegressor': 'blue', 'XGBRegressor': 'red', \"DecisionTreeRegressor\": \"green\"}\n",
    "\n",
    "df['Shortened Study'] = df['Study'].apply(lambda x: x.split('_')[-1])\n",
    "\n",
    "fig = px.bar(df, x='Shortened Study', y='Duration (Minutes)', color='Model',\n",
    "             labels={'Duration (Minutes)': 'Duration (Minutes)', 'Color': 'Color'}, title='Duration of Studies')\n",
    "\n",
    "# Update layout to set axis titles\n",
    "fig.update_layout(xaxis_title='Study', yaxis_title='Duration (Minutes)')\n",
    "\n",
    "# Update x-axis to hide tick labels\n",
    "fig.update_xaxes(showticklabels=True)\n",
    "\n",
    "# Show the plot\n",
    "fig.show()"
   ]
  },
  {
   "cell_type": "markdown",
   "metadata": {},
   "source": [
    "#### Overall Model Error comparision"
   ]
  },
  {
   "cell_type": "code",
   "execution_count": 278,
   "metadata": {},
   "outputs": [
    {
     "data": {
      "application/vnd.plotly.v1+json": {
       "config": {
        "plotlyServerURL": "https://plot.ly"
       },
       "data": [
        {
         "alignmentgroup": "True",
         "hovertemplate": "Model=%{x}<br>Error=%{y}<extra></extra>",
         "legendgroup": "LGBM",
         "marker": {
          "color": "#636efa",
          "pattern": {
           "shape": ""
          }
         },
         "name": "LGBM",
         "offsetgroup": "LGBM",
         "orientation": "v",
         "showlegend": true,
         "textposition": "auto",
         "type": "bar",
         "x": [
          "LGBM"
         ],
         "xaxis": "x",
         "y": [
          0.4096105398479822
         ],
         "yaxis": "y"
        },
        {
         "alignmentgroup": "True",
         "hovertemplate": "Model=%{x}<br>Error=%{y}<extra></extra>",
         "legendgroup": "XGB",
         "marker": {
          "color": "#EF553B",
          "pattern": {
           "shape": ""
          }
         },
         "name": "XGB",
         "offsetgroup": "XGB",
         "orientation": "v",
         "showlegend": true,
         "textposition": "auto",
         "type": "bar",
         "x": [
          "XGB"
         ],
         "xaxis": "x",
         "y": [
          0.2714480616051157
         ],
         "yaxis": "y"
        },
        {
         "alignmentgroup": "True",
         "hovertemplate": "Model=%{x}<br>Error=%{y}<extra></extra>",
         "legendgroup": "Decision Tree",
         "marker": {
          "color": "#00cc96",
          "pattern": {
           "shape": ""
          }
         },
         "name": "Decision Tree",
         "offsetgroup": "Decision Tree",
         "orientation": "v",
         "showlegend": true,
         "textposition": "auto",
         "type": "bar",
         "x": [
          "Decision Tree"
         ],
         "xaxis": "x",
         "y": [
          0.2962704362222654
         ],
         "yaxis": "y"
        }
       ],
       "layout": {
        "barmode": "relative",
        "legend": {
         "title": {
          "text": "Model"
         },
         "tracegroupgap": 0
        },
        "template": {
         "data": {
          "bar": [
           {
            "error_x": {
             "color": "#2a3f5f"
            },
            "error_y": {
             "color": "#2a3f5f"
            },
            "marker": {
             "line": {
              "color": "#E5ECF6",
              "width": 0.5
             },
             "pattern": {
              "fillmode": "overlay",
              "size": 10,
              "solidity": 0.2
             }
            },
            "type": "bar"
           }
          ],
          "barpolar": [
           {
            "marker": {
             "line": {
              "color": "#E5ECF6",
              "width": 0.5
             },
             "pattern": {
              "fillmode": "overlay",
              "size": 10,
              "solidity": 0.2
             }
            },
            "type": "barpolar"
           }
          ],
          "carpet": [
           {
            "aaxis": {
             "endlinecolor": "#2a3f5f",
             "gridcolor": "white",
             "linecolor": "white",
             "minorgridcolor": "white",
             "startlinecolor": "#2a3f5f"
            },
            "baxis": {
             "endlinecolor": "#2a3f5f",
             "gridcolor": "white",
             "linecolor": "white",
             "minorgridcolor": "white",
             "startlinecolor": "#2a3f5f"
            },
            "type": "carpet"
           }
          ],
          "choropleth": [
           {
            "colorbar": {
             "outlinewidth": 0,
             "ticks": ""
            },
            "type": "choropleth"
           }
          ],
          "contour": [
           {
            "colorbar": {
             "outlinewidth": 0,
             "ticks": ""
            },
            "colorscale": [
             [
              0,
              "#0d0887"
             ],
             [
              0.1111111111111111,
              "#46039f"
             ],
             [
              0.2222222222222222,
              "#7201a8"
             ],
             [
              0.3333333333333333,
              "#9c179e"
             ],
             [
              0.4444444444444444,
              "#bd3786"
             ],
             [
              0.5555555555555556,
              "#d8576b"
             ],
             [
              0.6666666666666666,
              "#ed7953"
             ],
             [
              0.7777777777777778,
              "#fb9f3a"
             ],
             [
              0.8888888888888888,
              "#fdca26"
             ],
             [
              1,
              "#f0f921"
             ]
            ],
            "type": "contour"
           }
          ],
          "contourcarpet": [
           {
            "colorbar": {
             "outlinewidth": 0,
             "ticks": ""
            },
            "type": "contourcarpet"
           }
          ],
          "heatmap": [
           {
            "colorbar": {
             "outlinewidth": 0,
             "ticks": ""
            },
            "colorscale": [
             [
              0,
              "#0d0887"
             ],
             [
              0.1111111111111111,
              "#46039f"
             ],
             [
              0.2222222222222222,
              "#7201a8"
             ],
             [
              0.3333333333333333,
              "#9c179e"
             ],
             [
              0.4444444444444444,
              "#bd3786"
             ],
             [
              0.5555555555555556,
              "#d8576b"
             ],
             [
              0.6666666666666666,
              "#ed7953"
             ],
             [
              0.7777777777777778,
              "#fb9f3a"
             ],
             [
              0.8888888888888888,
              "#fdca26"
             ],
             [
              1,
              "#f0f921"
             ]
            ],
            "type": "heatmap"
           }
          ],
          "heatmapgl": [
           {
            "colorbar": {
             "outlinewidth": 0,
             "ticks": ""
            },
            "colorscale": [
             [
              0,
              "#0d0887"
             ],
             [
              0.1111111111111111,
              "#46039f"
             ],
             [
              0.2222222222222222,
              "#7201a8"
             ],
             [
              0.3333333333333333,
              "#9c179e"
             ],
             [
              0.4444444444444444,
              "#bd3786"
             ],
             [
              0.5555555555555556,
              "#d8576b"
             ],
             [
              0.6666666666666666,
              "#ed7953"
             ],
             [
              0.7777777777777778,
              "#fb9f3a"
             ],
             [
              0.8888888888888888,
              "#fdca26"
             ],
             [
              1,
              "#f0f921"
             ]
            ],
            "type": "heatmapgl"
           }
          ],
          "histogram": [
           {
            "marker": {
             "pattern": {
              "fillmode": "overlay",
              "size": 10,
              "solidity": 0.2
             }
            },
            "type": "histogram"
           }
          ],
          "histogram2d": [
           {
            "colorbar": {
             "outlinewidth": 0,
             "ticks": ""
            },
            "colorscale": [
             [
              0,
              "#0d0887"
             ],
             [
              0.1111111111111111,
              "#46039f"
             ],
             [
              0.2222222222222222,
              "#7201a8"
             ],
             [
              0.3333333333333333,
              "#9c179e"
             ],
             [
              0.4444444444444444,
              "#bd3786"
             ],
             [
              0.5555555555555556,
              "#d8576b"
             ],
             [
              0.6666666666666666,
              "#ed7953"
             ],
             [
              0.7777777777777778,
              "#fb9f3a"
             ],
             [
              0.8888888888888888,
              "#fdca26"
             ],
             [
              1,
              "#f0f921"
             ]
            ],
            "type": "histogram2d"
           }
          ],
          "histogram2dcontour": [
           {
            "colorbar": {
             "outlinewidth": 0,
             "ticks": ""
            },
            "colorscale": [
             [
              0,
              "#0d0887"
             ],
             [
              0.1111111111111111,
              "#46039f"
             ],
             [
              0.2222222222222222,
              "#7201a8"
             ],
             [
              0.3333333333333333,
              "#9c179e"
             ],
             [
              0.4444444444444444,
              "#bd3786"
             ],
             [
              0.5555555555555556,
              "#d8576b"
             ],
             [
              0.6666666666666666,
              "#ed7953"
             ],
             [
              0.7777777777777778,
              "#fb9f3a"
             ],
             [
              0.8888888888888888,
              "#fdca26"
             ],
             [
              1,
              "#f0f921"
             ]
            ],
            "type": "histogram2dcontour"
           }
          ],
          "mesh3d": [
           {
            "colorbar": {
             "outlinewidth": 0,
             "ticks": ""
            },
            "type": "mesh3d"
           }
          ],
          "parcoords": [
           {
            "line": {
             "colorbar": {
              "outlinewidth": 0,
              "ticks": ""
             }
            },
            "type": "parcoords"
           }
          ],
          "pie": [
           {
            "automargin": true,
            "type": "pie"
           }
          ],
          "scatter": [
           {
            "fillpattern": {
             "fillmode": "overlay",
             "size": 10,
             "solidity": 0.2
            },
            "type": "scatter"
           }
          ],
          "scatter3d": [
           {
            "line": {
             "colorbar": {
              "outlinewidth": 0,
              "ticks": ""
             }
            },
            "marker": {
             "colorbar": {
              "outlinewidth": 0,
              "ticks": ""
             }
            },
            "type": "scatter3d"
           }
          ],
          "scattercarpet": [
           {
            "marker": {
             "colorbar": {
              "outlinewidth": 0,
              "ticks": ""
             }
            },
            "type": "scattercarpet"
           }
          ],
          "scattergeo": [
           {
            "marker": {
             "colorbar": {
              "outlinewidth": 0,
              "ticks": ""
             }
            },
            "type": "scattergeo"
           }
          ],
          "scattergl": [
           {
            "marker": {
             "colorbar": {
              "outlinewidth": 0,
              "ticks": ""
             }
            },
            "type": "scattergl"
           }
          ],
          "scattermapbox": [
           {
            "marker": {
             "colorbar": {
              "outlinewidth": 0,
              "ticks": ""
             }
            },
            "type": "scattermapbox"
           }
          ],
          "scatterpolar": [
           {
            "marker": {
             "colorbar": {
              "outlinewidth": 0,
              "ticks": ""
             }
            },
            "type": "scatterpolar"
           }
          ],
          "scatterpolargl": [
           {
            "marker": {
             "colorbar": {
              "outlinewidth": 0,
              "ticks": ""
             }
            },
            "type": "scatterpolargl"
           }
          ],
          "scatterternary": [
           {
            "marker": {
             "colorbar": {
              "outlinewidth": 0,
              "ticks": ""
             }
            },
            "type": "scatterternary"
           }
          ],
          "surface": [
           {
            "colorbar": {
             "outlinewidth": 0,
             "ticks": ""
            },
            "colorscale": [
             [
              0,
              "#0d0887"
             ],
             [
              0.1111111111111111,
              "#46039f"
             ],
             [
              0.2222222222222222,
              "#7201a8"
             ],
             [
              0.3333333333333333,
              "#9c179e"
             ],
             [
              0.4444444444444444,
              "#bd3786"
             ],
             [
              0.5555555555555556,
              "#d8576b"
             ],
             [
              0.6666666666666666,
              "#ed7953"
             ],
             [
              0.7777777777777778,
              "#fb9f3a"
             ],
             [
              0.8888888888888888,
              "#fdca26"
             ],
             [
              1,
              "#f0f921"
             ]
            ],
            "type": "surface"
           }
          ],
          "table": [
           {
            "cells": {
             "fill": {
              "color": "#EBF0F8"
             },
             "line": {
              "color": "white"
             }
            },
            "header": {
             "fill": {
              "color": "#C8D4E3"
             },
             "line": {
              "color": "white"
             }
            },
            "type": "table"
           }
          ]
         },
         "layout": {
          "annotationdefaults": {
           "arrowcolor": "#2a3f5f",
           "arrowhead": 0,
           "arrowwidth": 1
          },
          "autotypenumbers": "strict",
          "coloraxis": {
           "colorbar": {
            "outlinewidth": 0,
            "ticks": ""
           }
          },
          "colorscale": {
           "diverging": [
            [
             0,
             "#8e0152"
            ],
            [
             0.1,
             "#c51b7d"
            ],
            [
             0.2,
             "#de77ae"
            ],
            [
             0.3,
             "#f1b6da"
            ],
            [
             0.4,
             "#fde0ef"
            ],
            [
             0.5,
             "#f7f7f7"
            ],
            [
             0.6,
             "#e6f5d0"
            ],
            [
             0.7,
             "#b8e186"
            ],
            [
             0.8,
             "#7fbc41"
            ],
            [
             0.9,
             "#4d9221"
            ],
            [
             1,
             "#276419"
            ]
           ],
           "sequential": [
            [
             0,
             "#0d0887"
            ],
            [
             0.1111111111111111,
             "#46039f"
            ],
            [
             0.2222222222222222,
             "#7201a8"
            ],
            [
             0.3333333333333333,
             "#9c179e"
            ],
            [
             0.4444444444444444,
             "#bd3786"
            ],
            [
             0.5555555555555556,
             "#d8576b"
            ],
            [
             0.6666666666666666,
             "#ed7953"
            ],
            [
             0.7777777777777778,
             "#fb9f3a"
            ],
            [
             0.8888888888888888,
             "#fdca26"
            ],
            [
             1,
             "#f0f921"
            ]
           ],
           "sequentialminus": [
            [
             0,
             "#0d0887"
            ],
            [
             0.1111111111111111,
             "#46039f"
            ],
            [
             0.2222222222222222,
             "#7201a8"
            ],
            [
             0.3333333333333333,
             "#9c179e"
            ],
            [
             0.4444444444444444,
             "#bd3786"
            ],
            [
             0.5555555555555556,
             "#d8576b"
            ],
            [
             0.6666666666666666,
             "#ed7953"
            ],
            [
             0.7777777777777778,
             "#fb9f3a"
            ],
            [
             0.8888888888888888,
             "#fdca26"
            ],
            [
             1,
             "#f0f921"
            ]
           ]
          },
          "colorway": [
           "#636efa",
           "#EF553B",
           "#00cc96",
           "#ab63fa",
           "#FFA15A",
           "#19d3f3",
           "#FF6692",
           "#B6E880",
           "#FF97FF",
           "#FECB52"
          ],
          "font": {
           "color": "#2a3f5f"
          },
          "geo": {
           "bgcolor": "white",
           "lakecolor": "white",
           "landcolor": "#E5ECF6",
           "showlakes": true,
           "showland": true,
           "subunitcolor": "white"
          },
          "hoverlabel": {
           "align": "left"
          },
          "hovermode": "closest",
          "mapbox": {
           "style": "light"
          },
          "paper_bgcolor": "white",
          "plot_bgcolor": "#E5ECF6",
          "polar": {
           "angularaxis": {
            "gridcolor": "white",
            "linecolor": "white",
            "ticks": ""
           },
           "bgcolor": "#E5ECF6",
           "radialaxis": {
            "gridcolor": "white",
            "linecolor": "white",
            "ticks": ""
           }
          },
          "scene": {
           "xaxis": {
            "backgroundcolor": "#E5ECF6",
            "gridcolor": "white",
            "gridwidth": 2,
            "linecolor": "white",
            "showbackground": true,
            "ticks": "",
            "zerolinecolor": "white"
           },
           "yaxis": {
            "backgroundcolor": "#E5ECF6",
            "gridcolor": "white",
            "gridwidth": 2,
            "linecolor": "white",
            "showbackground": true,
            "ticks": "",
            "zerolinecolor": "white"
           },
           "zaxis": {
            "backgroundcolor": "#E5ECF6",
            "gridcolor": "white",
            "gridwidth": 2,
            "linecolor": "white",
            "showbackground": true,
            "ticks": "",
            "zerolinecolor": "white"
           }
          },
          "shapedefaults": {
           "line": {
            "color": "#2a3f5f"
           }
          },
          "ternary": {
           "aaxis": {
            "gridcolor": "white",
            "linecolor": "white",
            "ticks": ""
           },
           "baxis": {
            "gridcolor": "white",
            "linecolor": "white",
            "ticks": ""
           },
           "bgcolor": "#E5ECF6",
           "caxis": {
            "gridcolor": "white",
            "linecolor": "white",
            "ticks": ""
           }
          },
          "title": {
           "x": 0.05
          },
          "xaxis": {
           "automargin": true,
           "gridcolor": "white",
           "linecolor": "white",
           "ticks": "",
           "title": {
            "standoff": 15
           },
           "zerolinecolor": "white",
           "zerolinewidth": 2
          },
          "yaxis": {
           "automargin": true,
           "gridcolor": "white",
           "linecolor": "white",
           "ticks": "",
           "title": {
            "standoff": 15
           },
           "zerolinecolor": "white",
           "zerolinewidth": 2
          }
         }
        },
        "title": {
         "text": "Error Comparision between LGBM, XGB and Decision Trees"
        },
        "xaxis": {
         "anchor": "y",
         "categoryarray": [
          "LGBM",
          "XGB",
          "Decision Tree"
         ],
         "categoryorder": "array",
         "domain": [
          0,
          1
         ],
         "title": {
          "text": "Model"
         }
        },
        "yaxis": {
         "anchor": "x",
         "domain": [
          0,
          1
         ],
         "title": {
          "text": "Error"
         }
        }
       }
      }
     },
     "metadata": {},
     "output_type": "display_data"
    }
   ],
   "source": [
    "light_gbm_df = pd.read_parquet(\"C:/Users/felsp/Documents/Studium/Master/Forecasting/ForecastingUniProject/results/prediction_dfs/prediction_LGBMRegressor_2024-03-11_00-06-38.parquet\")\n",
    "light_gbm_df.loc[light_gbm_df[\"LGBMRegressor\"] < 0, \"LGBMRegressor\"] = 0\n",
    "lgbm_error = mean_squared_log_error(light_gbm_df['y'], light_gbm_df[\"LGBMRegressor\"])\n",
    "\n",
    "xgb_df = pd.read_parquet(\"C:/Users/felsp/Documents/Studium/Master/Forecasting/ForecastingUniProject/results/prediction_dfs/prediction_XGBRegressor_2024-03-12_01-23-53.parquet\")\n",
    "xgb_df.loc[xgb_df[\"XGBRegressor\"] < 0, \"XGBRegressor\"] = 0\n",
    "xgb_error = mean_squared_log_error(xgb_df['y'], xgb_df[\"XGBRegressor\"])\n",
    "\n",
    "decision_tree_df = pd.read_parquet(\"C:/Users/felsp/Documents/Studium/Master/Forecasting/ForecastingUniProject/results/prediction_dfs/prediction_DecisionTreeRegressor_2024-03-11_18-04-50.parquet\")\n",
    "decision_tree_error = mean_squared_log_error(decision_tree_df['y'], decision_tree_df[\"DecisionTreeRegressor\"])\n",
    "\n",
    "error_comp = pd.DataFrame({\"Model\": [\"LGBM\", \"XGB\", \"Decision Tree\"], \"Error\": [lgbm_error, xgb_error, decision_tree_error]})\n",
    "\n",
    "fig_error_comp = px.bar(error_comp, x=\"Model\", y=\"Error\", title=\"Error Comparision between LGBM, XGB and Decision Trees\", color = \"Model\")\n",
    "fig_error_comp.show()"
   ]
  },
  {
   "cell_type": "markdown",
   "metadata": {},
   "source": [
    "#### Errors over each Cluster for each model"
   ]
  },
  {
   "cell_type": "code",
   "execution_count": 300,
   "metadata": {},
   "outputs": [
    {
     "data": {
      "application/vnd.plotly.v1+json": {
       "config": {
        "plotlyServerURL": "https://plot.ly"
       },
       "data": [
        {
         "alignmentgroup": "True",
         "hovertemplate": "Origin=XGB<br>Study=%{x}<br>Error=%{y}<extra></extra>",
         "legendgroup": "XGB",
         "marker": {
          "color": "blue",
          "pattern": {
           "shape": ""
          }
         },
         "name": "XGB",
         "offsetgroup": "XGB",
         "orientation": "v",
         "showlegend": true,
         "textposition": "auto",
         "type": "bar",
         "x": [
          "dataframe",
          "D",
          "B",
          "C",
          "E",
          "A",
          "1",
          "13",
          "8",
          "9",
          "4",
          "6",
          "15",
          "7",
          "3",
          "12",
          "16",
          "10",
          "2",
          "5",
          "11",
          "14",
          "17"
         ],
         "xaxis": "x",
         "y": [
          0.2842993604020939,
          0.2167877261842652,
          0.34990243994341,
          0.3051714398004886,
          0.28038769646834405,
          0.3159257674968303,
          0.2406898450450725,
          0.20214804361836308,
          0.15658055975463006,
          0.18782535492964936,
          0.24507753605814375,
          0.29184433998906223,
          0.32006506150048825,
          0.38058611611914106,
          0.2823296943507526,
          0.34417486575797834,
          0.20516753450272357,
          0.2650581197720709,
          0.2034909760667592,
          0.3598041052161138,
          0.32752905218089035,
          0.31567049727010477,
          0.2113126400501078
         ],
         "yaxis": "y"
        },
        {
         "alignmentgroup": "True",
         "hovertemplate": "Origin=LGBM<br>Study=%{x}<br>Error=%{y}<extra></extra>",
         "legendgroup": "LGBM",
         "marker": {
          "color": "red",
          "pattern": {
           "shape": ""
          }
         },
         "name": "LGBM",
         "offsetgroup": "LGBM",
         "orientation": "v",
         "showlegend": true,
         "textposition": "auto",
         "type": "bar",
         "x": [
          "dataframe",
          "D",
          "B",
          "C",
          "E",
          "A",
          "1",
          "13",
          "8",
          "9",
          "4",
          "6",
          "15",
          "7",
          "3",
          "12",
          "16",
          "10",
          "2",
          "5",
          "11",
          "14",
          "17"
         ],
         "xaxis": "x",
         "y": [
          0.47141458279884174,
          0.42745037229831984,
          0.5728062006721057,
          0.4487808080942267,
          0.5522781453391558,
          0.7880675014967573,
          0.43771118167399603,
          0.43887135931968824,
          0.32502081844883224,
          0.30918291082786403,
          0.3165607486628213,
          0.6206222373633504,
          0.4067268399260603,
          0.48773786282140463,
          0.33341375077197477,
          0.5839532876734057,
          0.2874981894742515,
          0.4281012129950986,
          0.3536327328102963,
          0.7591780534056141,
          0.7572653542020528,
          0.6225460886031008,
          0.30641823699267084
         ],
         "yaxis": "y"
        },
        {
         "alignmentgroup": "True",
         "hovertemplate": "Origin=DecisionTree<br>Study=%{x}<br>Error=%{y}<extra></extra>",
         "legendgroup": "DecisionTree",
         "marker": {
          "color": "green",
          "pattern": {
           "shape": ""
          }
         },
         "name": "DecisionTree",
         "offsetgroup": "DecisionTree",
         "orientation": "v",
         "showlegend": true,
         "textposition": "auto",
         "type": "bar",
         "x": [
          "dataframe",
          "D",
          "B",
          "C",
          "E",
          "A",
          "1",
          "13",
          "8",
          "9",
          "4",
          "6",
          "15",
          "7",
          "3",
          "12",
          "16",
          "10",
          "2",
          "5",
          "11",
          "14",
          "17"
         ],
         "xaxis": "x",
         "y": [
          0.2899984132500196,
          0.25208761277593206,
          0.30382436079287356,
          0.34485111508920724,
          0.27493347302553783,
          0.3996065758484261,
          0.21137036090907865,
          0.21215794460372803,
          0.18274815808738318,
          0.2298171957985908,
          0.2527145383863724,
          0.3153287943534545,
          0.34037532985940977,
          0.3612328740249818,
          0.3000979595128874,
          0.3667309087377617,
          0.27044558847400163,
          0.30579274079639995,
          0.20600889534556327,
          0.43227827919427286,
          0.25650730341931893,
          0.4864546279311343,
          0.21846212825285719
         ],
         "yaxis": "y"
        }
       ],
       "layout": {
        "barmode": "group",
        "legend": {
         "title": {
          "text": "Origin"
         },
         "tracegroupgap": 0
        },
        "template": {
         "data": {
          "bar": [
           {
            "error_x": {
             "color": "#2a3f5f"
            },
            "error_y": {
             "color": "#2a3f5f"
            },
            "marker": {
             "line": {
              "color": "#E5ECF6",
              "width": 0.5
             },
             "pattern": {
              "fillmode": "overlay",
              "size": 10,
              "solidity": 0.2
             }
            },
            "type": "bar"
           }
          ],
          "barpolar": [
           {
            "marker": {
             "line": {
              "color": "#E5ECF6",
              "width": 0.5
             },
             "pattern": {
              "fillmode": "overlay",
              "size": 10,
              "solidity": 0.2
             }
            },
            "type": "barpolar"
           }
          ],
          "carpet": [
           {
            "aaxis": {
             "endlinecolor": "#2a3f5f",
             "gridcolor": "white",
             "linecolor": "white",
             "minorgridcolor": "white",
             "startlinecolor": "#2a3f5f"
            },
            "baxis": {
             "endlinecolor": "#2a3f5f",
             "gridcolor": "white",
             "linecolor": "white",
             "minorgridcolor": "white",
             "startlinecolor": "#2a3f5f"
            },
            "type": "carpet"
           }
          ],
          "choropleth": [
           {
            "colorbar": {
             "outlinewidth": 0,
             "ticks": ""
            },
            "type": "choropleth"
           }
          ],
          "contour": [
           {
            "colorbar": {
             "outlinewidth": 0,
             "ticks": ""
            },
            "colorscale": [
             [
              0,
              "#0d0887"
             ],
             [
              0.1111111111111111,
              "#46039f"
             ],
             [
              0.2222222222222222,
              "#7201a8"
             ],
             [
              0.3333333333333333,
              "#9c179e"
             ],
             [
              0.4444444444444444,
              "#bd3786"
             ],
             [
              0.5555555555555556,
              "#d8576b"
             ],
             [
              0.6666666666666666,
              "#ed7953"
             ],
             [
              0.7777777777777778,
              "#fb9f3a"
             ],
             [
              0.8888888888888888,
              "#fdca26"
             ],
             [
              1,
              "#f0f921"
             ]
            ],
            "type": "contour"
           }
          ],
          "contourcarpet": [
           {
            "colorbar": {
             "outlinewidth": 0,
             "ticks": ""
            },
            "type": "contourcarpet"
           }
          ],
          "heatmap": [
           {
            "colorbar": {
             "outlinewidth": 0,
             "ticks": ""
            },
            "colorscale": [
             [
              0,
              "#0d0887"
             ],
             [
              0.1111111111111111,
              "#46039f"
             ],
             [
              0.2222222222222222,
              "#7201a8"
             ],
             [
              0.3333333333333333,
              "#9c179e"
             ],
             [
              0.4444444444444444,
              "#bd3786"
             ],
             [
              0.5555555555555556,
              "#d8576b"
             ],
             [
              0.6666666666666666,
              "#ed7953"
             ],
             [
              0.7777777777777778,
              "#fb9f3a"
             ],
             [
              0.8888888888888888,
              "#fdca26"
             ],
             [
              1,
              "#f0f921"
             ]
            ],
            "type": "heatmap"
           }
          ],
          "heatmapgl": [
           {
            "colorbar": {
             "outlinewidth": 0,
             "ticks": ""
            },
            "colorscale": [
             [
              0,
              "#0d0887"
             ],
             [
              0.1111111111111111,
              "#46039f"
             ],
             [
              0.2222222222222222,
              "#7201a8"
             ],
             [
              0.3333333333333333,
              "#9c179e"
             ],
             [
              0.4444444444444444,
              "#bd3786"
             ],
             [
              0.5555555555555556,
              "#d8576b"
             ],
             [
              0.6666666666666666,
              "#ed7953"
             ],
             [
              0.7777777777777778,
              "#fb9f3a"
             ],
             [
              0.8888888888888888,
              "#fdca26"
             ],
             [
              1,
              "#f0f921"
             ]
            ],
            "type": "heatmapgl"
           }
          ],
          "histogram": [
           {
            "marker": {
             "pattern": {
              "fillmode": "overlay",
              "size": 10,
              "solidity": 0.2
             }
            },
            "type": "histogram"
           }
          ],
          "histogram2d": [
           {
            "colorbar": {
             "outlinewidth": 0,
             "ticks": ""
            },
            "colorscale": [
             [
              0,
              "#0d0887"
             ],
             [
              0.1111111111111111,
              "#46039f"
             ],
             [
              0.2222222222222222,
              "#7201a8"
             ],
             [
              0.3333333333333333,
              "#9c179e"
             ],
             [
              0.4444444444444444,
              "#bd3786"
             ],
             [
              0.5555555555555556,
              "#d8576b"
             ],
             [
              0.6666666666666666,
              "#ed7953"
             ],
             [
              0.7777777777777778,
              "#fb9f3a"
             ],
             [
              0.8888888888888888,
              "#fdca26"
             ],
             [
              1,
              "#f0f921"
             ]
            ],
            "type": "histogram2d"
           }
          ],
          "histogram2dcontour": [
           {
            "colorbar": {
             "outlinewidth": 0,
             "ticks": ""
            },
            "colorscale": [
             [
              0,
              "#0d0887"
             ],
             [
              0.1111111111111111,
              "#46039f"
             ],
             [
              0.2222222222222222,
              "#7201a8"
             ],
             [
              0.3333333333333333,
              "#9c179e"
             ],
             [
              0.4444444444444444,
              "#bd3786"
             ],
             [
              0.5555555555555556,
              "#d8576b"
             ],
             [
              0.6666666666666666,
              "#ed7953"
             ],
             [
              0.7777777777777778,
              "#fb9f3a"
             ],
             [
              0.8888888888888888,
              "#fdca26"
             ],
             [
              1,
              "#f0f921"
             ]
            ],
            "type": "histogram2dcontour"
           }
          ],
          "mesh3d": [
           {
            "colorbar": {
             "outlinewidth": 0,
             "ticks": ""
            },
            "type": "mesh3d"
           }
          ],
          "parcoords": [
           {
            "line": {
             "colorbar": {
              "outlinewidth": 0,
              "ticks": ""
             }
            },
            "type": "parcoords"
           }
          ],
          "pie": [
           {
            "automargin": true,
            "type": "pie"
           }
          ],
          "scatter": [
           {
            "fillpattern": {
             "fillmode": "overlay",
             "size": 10,
             "solidity": 0.2
            },
            "type": "scatter"
           }
          ],
          "scatter3d": [
           {
            "line": {
             "colorbar": {
              "outlinewidth": 0,
              "ticks": ""
             }
            },
            "marker": {
             "colorbar": {
              "outlinewidth": 0,
              "ticks": ""
             }
            },
            "type": "scatter3d"
           }
          ],
          "scattercarpet": [
           {
            "marker": {
             "colorbar": {
              "outlinewidth": 0,
              "ticks": ""
             }
            },
            "type": "scattercarpet"
           }
          ],
          "scattergeo": [
           {
            "marker": {
             "colorbar": {
              "outlinewidth": 0,
              "ticks": ""
             }
            },
            "type": "scattergeo"
           }
          ],
          "scattergl": [
           {
            "marker": {
             "colorbar": {
              "outlinewidth": 0,
              "ticks": ""
             }
            },
            "type": "scattergl"
           }
          ],
          "scattermapbox": [
           {
            "marker": {
             "colorbar": {
              "outlinewidth": 0,
              "ticks": ""
             }
            },
            "type": "scattermapbox"
           }
          ],
          "scatterpolar": [
           {
            "marker": {
             "colorbar": {
              "outlinewidth": 0,
              "ticks": ""
             }
            },
            "type": "scatterpolar"
           }
          ],
          "scatterpolargl": [
           {
            "marker": {
             "colorbar": {
              "outlinewidth": 0,
              "ticks": ""
             }
            },
            "type": "scatterpolargl"
           }
          ],
          "scatterternary": [
           {
            "marker": {
             "colorbar": {
              "outlinewidth": 0,
              "ticks": ""
             }
            },
            "type": "scatterternary"
           }
          ],
          "surface": [
           {
            "colorbar": {
             "outlinewidth": 0,
             "ticks": ""
            },
            "colorscale": [
             [
              0,
              "#0d0887"
             ],
             [
              0.1111111111111111,
              "#46039f"
             ],
             [
              0.2222222222222222,
              "#7201a8"
             ],
             [
              0.3333333333333333,
              "#9c179e"
             ],
             [
              0.4444444444444444,
              "#bd3786"
             ],
             [
              0.5555555555555556,
              "#d8576b"
             ],
             [
              0.6666666666666666,
              "#ed7953"
             ],
             [
              0.7777777777777778,
              "#fb9f3a"
             ],
             [
              0.8888888888888888,
              "#fdca26"
             ],
             [
              1,
              "#f0f921"
             ]
            ],
            "type": "surface"
           }
          ],
          "table": [
           {
            "cells": {
             "fill": {
              "color": "#EBF0F8"
             },
             "line": {
              "color": "white"
             }
            },
            "header": {
             "fill": {
              "color": "#C8D4E3"
             },
             "line": {
              "color": "white"
             }
            },
            "type": "table"
           }
          ]
         },
         "layout": {
          "annotationdefaults": {
           "arrowcolor": "#2a3f5f",
           "arrowhead": 0,
           "arrowwidth": 1
          },
          "autotypenumbers": "strict",
          "coloraxis": {
           "colorbar": {
            "outlinewidth": 0,
            "ticks": ""
           }
          },
          "colorscale": {
           "diverging": [
            [
             0,
             "#8e0152"
            ],
            [
             0.1,
             "#c51b7d"
            ],
            [
             0.2,
             "#de77ae"
            ],
            [
             0.3,
             "#f1b6da"
            ],
            [
             0.4,
             "#fde0ef"
            ],
            [
             0.5,
             "#f7f7f7"
            ],
            [
             0.6,
             "#e6f5d0"
            ],
            [
             0.7,
             "#b8e186"
            ],
            [
             0.8,
             "#7fbc41"
            ],
            [
             0.9,
             "#4d9221"
            ],
            [
             1,
             "#276419"
            ]
           ],
           "sequential": [
            [
             0,
             "#0d0887"
            ],
            [
             0.1111111111111111,
             "#46039f"
            ],
            [
             0.2222222222222222,
             "#7201a8"
            ],
            [
             0.3333333333333333,
             "#9c179e"
            ],
            [
             0.4444444444444444,
             "#bd3786"
            ],
            [
             0.5555555555555556,
             "#d8576b"
            ],
            [
             0.6666666666666666,
             "#ed7953"
            ],
            [
             0.7777777777777778,
             "#fb9f3a"
            ],
            [
             0.8888888888888888,
             "#fdca26"
            ],
            [
             1,
             "#f0f921"
            ]
           ],
           "sequentialminus": [
            [
             0,
             "#0d0887"
            ],
            [
             0.1111111111111111,
             "#46039f"
            ],
            [
             0.2222222222222222,
             "#7201a8"
            ],
            [
             0.3333333333333333,
             "#9c179e"
            ],
            [
             0.4444444444444444,
             "#bd3786"
            ],
            [
             0.5555555555555556,
             "#d8576b"
            ],
            [
             0.6666666666666666,
             "#ed7953"
            ],
            [
             0.7777777777777778,
             "#fb9f3a"
            ],
            [
             0.8888888888888888,
             "#fdca26"
            ],
            [
             1,
             "#f0f921"
            ]
           ]
          },
          "colorway": [
           "#636efa",
           "#EF553B",
           "#00cc96",
           "#ab63fa",
           "#FFA15A",
           "#19d3f3",
           "#FF6692",
           "#B6E880",
           "#FF97FF",
           "#FECB52"
          ],
          "font": {
           "color": "#2a3f5f"
          },
          "geo": {
           "bgcolor": "white",
           "lakecolor": "white",
           "landcolor": "#E5ECF6",
           "showlakes": true,
           "showland": true,
           "subunitcolor": "white"
          },
          "hoverlabel": {
           "align": "left"
          },
          "hovermode": "closest",
          "mapbox": {
           "style": "light"
          },
          "paper_bgcolor": "white",
          "plot_bgcolor": "#E5ECF6",
          "polar": {
           "angularaxis": {
            "gridcolor": "white",
            "linecolor": "white",
            "ticks": ""
           },
           "bgcolor": "#E5ECF6",
           "radialaxis": {
            "gridcolor": "white",
            "linecolor": "white",
            "ticks": ""
           }
          },
          "scene": {
           "xaxis": {
            "backgroundcolor": "#E5ECF6",
            "gridcolor": "white",
            "gridwidth": 2,
            "linecolor": "white",
            "showbackground": true,
            "ticks": "",
            "zerolinecolor": "white"
           },
           "yaxis": {
            "backgroundcolor": "#E5ECF6",
            "gridcolor": "white",
            "gridwidth": 2,
            "linecolor": "white",
            "showbackground": true,
            "ticks": "",
            "zerolinecolor": "white"
           },
           "zaxis": {
            "backgroundcolor": "#E5ECF6",
            "gridcolor": "white",
            "gridwidth": 2,
            "linecolor": "white",
            "showbackground": true,
            "ticks": "",
            "zerolinecolor": "white"
           }
          },
          "shapedefaults": {
           "line": {
            "color": "#2a3f5f"
           }
          },
          "ternary": {
           "aaxis": {
            "gridcolor": "white",
            "linecolor": "white",
            "ticks": ""
           },
           "baxis": {
            "gridcolor": "white",
            "linecolor": "white",
            "ticks": ""
           },
           "bgcolor": "#E5ECF6",
           "caxis": {
            "gridcolor": "white",
            "linecolor": "white",
            "ticks": ""
           }
          },
          "title": {
           "x": 0.05
          },
          "xaxis": {
           "automargin": true,
           "gridcolor": "white",
           "linecolor": "white",
           "ticks": "",
           "title": {
            "standoff": 15
           },
           "zerolinecolor": "white",
           "zerolinewidth": 2
          },
          "yaxis": {
           "automargin": true,
           "gridcolor": "white",
           "linecolor": "white",
           "ticks": "",
           "title": {
            "standoff": 15
           },
           "zerolinecolor": "white",
           "zerolinewidth": 2
          }
         }
        },
        "title": {
         "text": "Combined Error Plots"
        },
        "xaxis": {
         "anchor": "y",
         "domain": [
          0,
          1
         ],
         "title": {
          "text": "Cluster"
         }
        },
        "yaxis": {
         "anchor": "x",
         "domain": [
          0,
          1
         ],
         "title": {
          "text": "Error"
         }
        }
       }
      }
     },
     "metadata": {},
     "output_type": "display_data"
    }
   ],
   "source": [
    "import plotly.graph_objects as go\n",
    "\n",
    "# Modify the study names and add a column indicating the origin\n",
    "XGB_Reg_viz = SUN_XGB_Reg.copy()\n",
    "LGBM_Reg_viz = SUN_LGBM_Reg.copy()\n",
    "DecTree_Reg_viz = SUN_DecTree_Reg.copy()\n",
    "\n",
    "LGBM_Reg_viz.drop(columns={\"param_id\", \"param_value\", \"param_name\"}, axis=1, inplace=True)\n",
    "LGBM_Reg_viz = LGBM_Reg_viz.drop_duplicates()\n",
    "\n",
    "XGB_Reg_viz.drop(columns={\"param_id\", \"param_value\", \"param_name\"}, axis=1, inplace=True)\n",
    "XGB_Reg_viz = XGB_Reg_viz.drop_duplicates()\n",
    "\n",
    "DecTree_Reg_viz.drop(columns={\"param_id\", \"param_value\", \"param_name\"}, axis=1, inplace=True)\n",
    "DecTree_Reg_viz = DecTree_Reg_viz.drop_duplicates()\n",
    "\n",
    "\n",
    "XGB_Reg_viz['Origin'] = 'XGB'\n",
    "LGBM_Reg_viz['Origin'] = 'LGBM'\n",
    "DecTree_Reg_viz['Origin'] = 'DecisionTree'\n",
    "XGB_Reg_viz['Study'] = XGB_Reg_viz['study_name'].str.split('_').str[-1]\n",
    "LGBM_Reg_viz['Study'] = LGBM_Reg_viz['study_name'].str.split('_').str[-1]\n",
    "DecTree_Reg_viz['Study'] = DecTree_Reg_viz['study_name'].str.split('_').str[-1]\n",
    "\n",
    "\n",
    "\n",
    "# Create the first plot\n",
    "fig_xgb = px.bar(XGB_Reg_viz, x=\"Study\", y=\"value\", color='Origin',\n",
    "                 color_discrete_map={'XGB': 'blue'}, labels={\"Study\": \"Study\", \"value\": \"Error\"}, title='Error Plot')\n",
    "\n",
    "# Create the second plot\n",
    "fig_lgbm = px.bar(LGBM_Reg_viz, x=\"Study\", y=\"value\", color='Origin', \n",
    "                  color_discrete_map={'LGBM': 'red'}, labels={\"Study\": \"Study\", \"value\": \"Error\"}, title='Error Plot')\n",
    "\n",
    "# Create the third plot\n",
    "fig_decTree = px.bar(DecTree_Reg_viz, x=\"Study\", y=\"value\", color='Origin', \n",
    "                  color_discrete_map={'DecisionTree': 'green'}, labels={\"Study\": \"Study\", \"value\": \"Error\"}, title='Error Plot')\n",
    "\n",
    "# Create a combined figure\n",
    "combined_fig = px.bar(XGB_Reg_viz, x=\"Study\", y=\"value\", color='Origin', barmode= \"group\",\n",
    "                      color_discrete_map={'XGB': 'blue', 'LGBM': 'red', 'DecisionTree': 'green'}, labels={\"Study\": \"Study\", \"value\": \"Error\"}, title='Error Plot')\n",
    "\n",
    "# Add traces from the second plot\n",
    "for trace in fig_lgbm.data:\n",
    "    combined_fig.add_trace(trace)\n",
    "\n",
    "# Add traces from the thrid plot\n",
    "for trace in fig_decTree.data:\n",
    "    combined_fig.add_trace(trace)\n",
    "\n",
    "# Update layout\n",
    "combined_fig.update_layout(title=\"Combined Error Plots\",\n",
    "                            xaxis_title=\"Cluster\",\n",
    "                            yaxis_title=\"Error\")\n",
    "\n",
    "# Show the combined plot\n",
    "combined_fig.show()"
   ]
  },
  {
   "cell_type": "markdown",
   "metadata": {},
   "source": [
    "#### Plot to compare Errors with Duration of each Model"
   ]
  },
  {
   "cell_type": "code",
   "execution_count": 310,
   "metadata": {},
   "outputs": [
    {
     "data": {
      "application/vnd.plotly.v1+json": {
       "config": {
        "plotlyServerURL": "https://plot.ly"
       },
       "data": [
        {
         "marker": {
          "color": "rgba(0, 0, 255, 0.7)"
         },
         "name": "XGB Error",
         "type": "bar",
         "x": [
          "1",
          "10",
          "11",
          "12",
          "13",
          "14",
          "15",
          "16",
          "17",
          "2",
          "3",
          "4",
          "5",
          "6",
          "7",
          "8",
          "9",
          "A",
          "B",
          "C",
          "D",
          "E",
          "dataframe",
          "1",
          "10",
          "11",
          "12",
          "13",
          "14",
          "15",
          "16",
          "17",
          "2",
          "3",
          "4",
          "5",
          "6",
          "7",
          "8",
          "9",
          "A",
          "B",
          "C",
          "D",
          "E",
          "dataframe",
          "1",
          "10",
          "11",
          "12",
          "13",
          "14",
          "15",
          "16",
          "17",
          "2",
          "3",
          "4",
          "5",
          "6",
          "7",
          "8",
          "9",
          "A",
          "B",
          "C",
          "D",
          "E",
          "dataframe"
         ],
         "y": [
          0.2406898450450725,
          0.2650581197720709,
          0.32752905218089035,
          0.34417486575797834,
          0.20214804361836308,
          0.31567049727010477,
          0.32006506150048825,
          0.20516753450272357,
          0.2113126400501078,
          0.2034909760667592,
          0.2823296943507526,
          0.24507753605814375,
          0.3598041052161138,
          0.29184433998906223,
          0.38058611611914106,
          0.15658055975463006,
          0.18782535492964936,
          0.3159257674968303,
          0.34990243994341,
          0.3051714398004886,
          0.2167877261842652,
          0.28038769646834405,
          0.2842993604020939
         ]
        },
        {
         "marker": {
          "color": "rgba(255, 0, 0, 0.7)"
         },
         "name": "LGBM Error",
         "type": "bar",
         "x": [
          "1",
          "10",
          "11",
          "12",
          "13",
          "14",
          "15",
          "16",
          "17",
          "2",
          "3",
          "4",
          "5",
          "6",
          "7",
          "8",
          "9",
          "A",
          "B",
          "C",
          "D",
          "E",
          "dataframe",
          "1",
          "10",
          "11",
          "12",
          "13",
          "14",
          "15",
          "16",
          "17",
          "2",
          "3",
          "4",
          "5",
          "6",
          "7",
          "8",
          "9",
          "A",
          "B",
          "C",
          "D",
          "E",
          "dataframe",
          "1",
          "10",
          "11",
          "12",
          "13",
          "14",
          "15",
          "16",
          "17",
          "2",
          "3",
          "4",
          "5",
          "6",
          "7",
          "8",
          "9",
          "A",
          "B",
          "C",
          "D",
          "E",
          "dataframe"
         ],
         "y": [
          0.43771118167399603,
          0.4281012129950986,
          0.7572653542020528,
          0.5839532876734057,
          0.43887135931968824,
          0.6225460886031008,
          0.4067268399260603,
          0.2874981894742515,
          0.30641823699267084,
          0.3536327328102963,
          0.33341375077197477,
          0.3165607486628213,
          0.7591780534056141,
          0.6206222373633504,
          0.48773786282140463,
          0.32502081844883224,
          0.30918291082786403,
          0.7880675014967573,
          0.5728062006721057,
          0.4487808080942267,
          0.42745037229831984,
          0.5522781453391558,
          0.47141458279884174
         ]
        },
        {
         "marker": {
          "color": "rgba(0, 128, 0, 0.7)"
         },
         "name": "DecisionTree Error",
         "type": "bar",
         "x": [
          "1",
          "10",
          "11",
          "12",
          "13",
          "14",
          "15",
          "16",
          "17",
          "2",
          "3",
          "4",
          "5",
          "6",
          "7",
          "8",
          "9",
          "A",
          "B",
          "C",
          "D",
          "E",
          "dataframe",
          "1",
          "10",
          "11",
          "12",
          "13",
          "14",
          "15",
          "16",
          "17",
          "2",
          "3",
          "4",
          "5",
          "6",
          "7",
          "8",
          "9",
          "A",
          "B",
          "C",
          "D",
          "E",
          "dataframe",
          "1",
          "10",
          "11",
          "12",
          "13",
          "14",
          "15",
          "16",
          "17",
          "2",
          "3",
          "4",
          "5",
          "6",
          "7",
          "8",
          "9",
          "A",
          "B",
          "C",
          "D",
          "E",
          "dataframe"
         ],
         "y": [
          0.21137036090907865,
          0.30579274079639995,
          0.25650730341931893,
          0.3667309087377617,
          0.21215794460372803,
          0.4864546279311343,
          0.34037532985940977,
          0.27044558847400163,
          0.21846212825285719,
          0.20600889534556327,
          0.3000979595128874,
          0.2527145383863724,
          0.43227827919427286,
          0.3153287943534545,
          0.3612328740249818,
          0.18274815808738318,
          0.2298171957985908,
          0.3996065758484261,
          0.30382436079287356,
          0.34485111508920724,
          0.25208761277593206,
          0.27493347302553783,
          0.2899984132500196
         ]
        },
        {
         "marker": {
          "color": "rgba(0, 255, 255, 0.7)"
         },
         "name": "XGB Duration",
         "type": "bar",
         "x": [
          "1",
          "10",
          "11",
          "12",
          "13",
          "14",
          "15",
          "16",
          "17",
          "2",
          "3",
          "4",
          "5",
          "6",
          "7",
          "8",
          "9",
          "A",
          "B",
          "C",
          "D",
          "E",
          "dataframe",
          "1",
          "10",
          "11",
          "12",
          "13",
          "14",
          "15",
          "16",
          "17",
          "2",
          "3",
          "4",
          "5",
          "6",
          "7",
          "8",
          "9",
          "A",
          "B",
          "C",
          "D",
          "E",
          "dataframe",
          "1",
          "10",
          "11",
          "12",
          "13",
          "14",
          "15",
          "16",
          "17",
          "2",
          "3",
          "4",
          "5",
          "6",
          "7",
          "8",
          "9",
          "A",
          "B",
          "C",
          "D",
          "E",
          "dataframe"
         ],
         "y": [
          2.1046959666666667,
          1.7685062666666667,
          1.2416675166666666,
          1.4448870666666667,
          0.9466468333333334,
          2.2185788000000004,
          2.192608816666667,
          1.1221334,
          1.3176012333333333,
          0.4312329833333333,
          3.536992533333333,
          1.6920310166666668,
          0.6136631166666666,
          2.3924014666666666,
          1.5482161833333334,
          1.0017766166666666,
          1.7657428833333335,
          3.493153216666667,
          3.816819633333333,
          7.142731283333333,
          6.360529516666667,
          2.76444465,
          19.321244033333336
         ],
         "yaxis": "y2"
        },
        {
         "marker": {
          "color": "rgba(255, 255, 0, 0.7)"
         },
         "name": "LGBM Duration",
         "type": "bar",
         "x": [
          "1",
          "10",
          "11",
          "12",
          "13",
          "14",
          "15",
          "16",
          "17",
          "2",
          "3",
          "4",
          "5",
          "6",
          "7",
          "8",
          "9",
          "A",
          "B",
          "C",
          "D",
          "E",
          "dataframe",
          "1",
          "10",
          "11",
          "12",
          "13",
          "14",
          "15",
          "16",
          "17",
          "2",
          "3",
          "4",
          "5",
          "6",
          "7",
          "8",
          "9",
          "A",
          "B",
          "C",
          "D",
          "E",
          "dataframe",
          "1",
          "10",
          "11",
          "12",
          "13",
          "14",
          "15",
          "16",
          "17",
          "2",
          "3",
          "4",
          "5",
          "6",
          "7",
          "8",
          "9",
          "A",
          "B",
          "C",
          "D",
          "E",
          "dataframe"
         ],
         "y": [
          0.4684854,
          0.4623602666666667,
          0.2053968,
          0.21617318333333332,
          0.40785726666666666,
          0.4603751666666666,
          0.59120725,
          0.24059426666666667,
          0.30412325,
          0.18046005,
          0.8104056333333334,
          0.44921408333333335,
          0.30243404999999995,
          0.5916433166666667,
          0.20840931666666668,
          0.3598247,
          0.1337015,
          0.6779067833333333,
          0.34684166666666666,
          0.5189362,
          1.44012105,
          0.5151437333333333,
          4.626297666666667
         ],
         "yaxis": "y2"
        },
        {
         "marker": {
          "color": "rgba(255, 128, 0, 0.7)"
         },
         "name": "DecisionTree Duration",
         "type": "bar",
         "x": [
          "1",
          "10",
          "11",
          "12",
          "13",
          "14",
          "15",
          "16",
          "17",
          "2",
          "3",
          "4",
          "5",
          "6",
          "7",
          "8",
          "9",
          "A",
          "B",
          "C",
          "D",
          "E",
          "dataframe",
          "1",
          "10",
          "11",
          "12",
          "13",
          "14",
          "15",
          "16",
          "17",
          "2",
          "3",
          "4",
          "5",
          "6",
          "7",
          "8",
          "9",
          "A",
          "B",
          "C",
          "D",
          "E",
          "dataframe",
          "1",
          "10",
          "11",
          "12",
          "13",
          "14",
          "15",
          "16",
          "17",
          "2",
          "3",
          "4",
          "5",
          "6",
          "7",
          "8",
          "9",
          "A",
          "B",
          "C",
          "D",
          "E",
          "dataframe"
         ],
         "y": [
          0.43597579999999997,
          0.5333518,
          0.10668483333333333,
          0.10271403333333334,
          0.4158593666666667,
          0.588994,
          0.4852717833333333,
          0.0843281,
          0.12600663333333334,
          0.15247005,
          0.5789069166666666,
          0.37257128333333334,
          0.10330348333333333,
          0.6789446833333332,
          0.179652,
          0.37467313333333335,
          0.27127635,
          1.0646605666666666,
          1.0712707666666668,
          2.1752193666666666,
          1.9286595,
          0.4339515,
          11.562034766666667
         ],
         "yaxis": "y2"
        }
       ],
       "layout": {
        "barmode": "group",
        "template": {
         "data": {
          "bar": [
           {
            "error_x": {
             "color": "#2a3f5f"
            },
            "error_y": {
             "color": "#2a3f5f"
            },
            "marker": {
             "line": {
              "color": "#E5ECF6",
              "width": 0.5
             },
             "pattern": {
              "fillmode": "overlay",
              "size": 10,
              "solidity": 0.2
             }
            },
            "type": "bar"
           }
          ],
          "barpolar": [
           {
            "marker": {
             "line": {
              "color": "#E5ECF6",
              "width": 0.5
             },
             "pattern": {
              "fillmode": "overlay",
              "size": 10,
              "solidity": 0.2
             }
            },
            "type": "barpolar"
           }
          ],
          "carpet": [
           {
            "aaxis": {
             "endlinecolor": "#2a3f5f",
             "gridcolor": "white",
             "linecolor": "white",
             "minorgridcolor": "white",
             "startlinecolor": "#2a3f5f"
            },
            "baxis": {
             "endlinecolor": "#2a3f5f",
             "gridcolor": "white",
             "linecolor": "white",
             "minorgridcolor": "white",
             "startlinecolor": "#2a3f5f"
            },
            "type": "carpet"
           }
          ],
          "choropleth": [
           {
            "colorbar": {
             "outlinewidth": 0,
             "ticks": ""
            },
            "type": "choropleth"
           }
          ],
          "contour": [
           {
            "colorbar": {
             "outlinewidth": 0,
             "ticks": ""
            },
            "colorscale": [
             [
              0,
              "#0d0887"
             ],
             [
              0.1111111111111111,
              "#46039f"
             ],
             [
              0.2222222222222222,
              "#7201a8"
             ],
             [
              0.3333333333333333,
              "#9c179e"
             ],
             [
              0.4444444444444444,
              "#bd3786"
             ],
             [
              0.5555555555555556,
              "#d8576b"
             ],
             [
              0.6666666666666666,
              "#ed7953"
             ],
             [
              0.7777777777777778,
              "#fb9f3a"
             ],
             [
              0.8888888888888888,
              "#fdca26"
             ],
             [
              1,
              "#f0f921"
             ]
            ],
            "type": "contour"
           }
          ],
          "contourcarpet": [
           {
            "colorbar": {
             "outlinewidth": 0,
             "ticks": ""
            },
            "type": "contourcarpet"
           }
          ],
          "heatmap": [
           {
            "colorbar": {
             "outlinewidth": 0,
             "ticks": ""
            },
            "colorscale": [
             [
              0,
              "#0d0887"
             ],
             [
              0.1111111111111111,
              "#46039f"
             ],
             [
              0.2222222222222222,
              "#7201a8"
             ],
             [
              0.3333333333333333,
              "#9c179e"
             ],
             [
              0.4444444444444444,
              "#bd3786"
             ],
             [
              0.5555555555555556,
              "#d8576b"
             ],
             [
              0.6666666666666666,
              "#ed7953"
             ],
             [
              0.7777777777777778,
              "#fb9f3a"
             ],
             [
              0.8888888888888888,
              "#fdca26"
             ],
             [
              1,
              "#f0f921"
             ]
            ],
            "type": "heatmap"
           }
          ],
          "heatmapgl": [
           {
            "colorbar": {
             "outlinewidth": 0,
             "ticks": ""
            },
            "colorscale": [
             [
              0,
              "#0d0887"
             ],
             [
              0.1111111111111111,
              "#46039f"
             ],
             [
              0.2222222222222222,
              "#7201a8"
             ],
             [
              0.3333333333333333,
              "#9c179e"
             ],
             [
              0.4444444444444444,
              "#bd3786"
             ],
             [
              0.5555555555555556,
              "#d8576b"
             ],
             [
              0.6666666666666666,
              "#ed7953"
             ],
             [
              0.7777777777777778,
              "#fb9f3a"
             ],
             [
              0.8888888888888888,
              "#fdca26"
             ],
             [
              1,
              "#f0f921"
             ]
            ],
            "type": "heatmapgl"
           }
          ],
          "histogram": [
           {
            "marker": {
             "pattern": {
              "fillmode": "overlay",
              "size": 10,
              "solidity": 0.2
             }
            },
            "type": "histogram"
           }
          ],
          "histogram2d": [
           {
            "colorbar": {
             "outlinewidth": 0,
             "ticks": ""
            },
            "colorscale": [
             [
              0,
              "#0d0887"
             ],
             [
              0.1111111111111111,
              "#46039f"
             ],
             [
              0.2222222222222222,
              "#7201a8"
             ],
             [
              0.3333333333333333,
              "#9c179e"
             ],
             [
              0.4444444444444444,
              "#bd3786"
             ],
             [
              0.5555555555555556,
              "#d8576b"
             ],
             [
              0.6666666666666666,
              "#ed7953"
             ],
             [
              0.7777777777777778,
              "#fb9f3a"
             ],
             [
              0.8888888888888888,
              "#fdca26"
             ],
             [
              1,
              "#f0f921"
             ]
            ],
            "type": "histogram2d"
           }
          ],
          "histogram2dcontour": [
           {
            "colorbar": {
             "outlinewidth": 0,
             "ticks": ""
            },
            "colorscale": [
             [
              0,
              "#0d0887"
             ],
             [
              0.1111111111111111,
              "#46039f"
             ],
             [
              0.2222222222222222,
              "#7201a8"
             ],
             [
              0.3333333333333333,
              "#9c179e"
             ],
             [
              0.4444444444444444,
              "#bd3786"
             ],
             [
              0.5555555555555556,
              "#d8576b"
             ],
             [
              0.6666666666666666,
              "#ed7953"
             ],
             [
              0.7777777777777778,
              "#fb9f3a"
             ],
             [
              0.8888888888888888,
              "#fdca26"
             ],
             [
              1,
              "#f0f921"
             ]
            ],
            "type": "histogram2dcontour"
           }
          ],
          "mesh3d": [
           {
            "colorbar": {
             "outlinewidth": 0,
             "ticks": ""
            },
            "type": "mesh3d"
           }
          ],
          "parcoords": [
           {
            "line": {
             "colorbar": {
              "outlinewidth": 0,
              "ticks": ""
             }
            },
            "type": "parcoords"
           }
          ],
          "pie": [
           {
            "automargin": true,
            "type": "pie"
           }
          ],
          "scatter": [
           {
            "fillpattern": {
             "fillmode": "overlay",
             "size": 10,
             "solidity": 0.2
            },
            "type": "scatter"
           }
          ],
          "scatter3d": [
           {
            "line": {
             "colorbar": {
              "outlinewidth": 0,
              "ticks": ""
             }
            },
            "marker": {
             "colorbar": {
              "outlinewidth": 0,
              "ticks": ""
             }
            },
            "type": "scatter3d"
           }
          ],
          "scattercarpet": [
           {
            "marker": {
             "colorbar": {
              "outlinewidth": 0,
              "ticks": ""
             }
            },
            "type": "scattercarpet"
           }
          ],
          "scattergeo": [
           {
            "marker": {
             "colorbar": {
              "outlinewidth": 0,
              "ticks": ""
             }
            },
            "type": "scattergeo"
           }
          ],
          "scattergl": [
           {
            "marker": {
             "colorbar": {
              "outlinewidth": 0,
              "ticks": ""
             }
            },
            "type": "scattergl"
           }
          ],
          "scattermapbox": [
           {
            "marker": {
             "colorbar": {
              "outlinewidth": 0,
              "ticks": ""
             }
            },
            "type": "scattermapbox"
           }
          ],
          "scatterpolar": [
           {
            "marker": {
             "colorbar": {
              "outlinewidth": 0,
              "ticks": ""
             }
            },
            "type": "scatterpolar"
           }
          ],
          "scatterpolargl": [
           {
            "marker": {
             "colorbar": {
              "outlinewidth": 0,
              "ticks": ""
             }
            },
            "type": "scatterpolargl"
           }
          ],
          "scatterternary": [
           {
            "marker": {
             "colorbar": {
              "outlinewidth": 0,
              "ticks": ""
             }
            },
            "type": "scatterternary"
           }
          ],
          "surface": [
           {
            "colorbar": {
             "outlinewidth": 0,
             "ticks": ""
            },
            "colorscale": [
             [
              0,
              "#0d0887"
             ],
             [
              0.1111111111111111,
              "#46039f"
             ],
             [
              0.2222222222222222,
              "#7201a8"
             ],
             [
              0.3333333333333333,
              "#9c179e"
             ],
             [
              0.4444444444444444,
              "#bd3786"
             ],
             [
              0.5555555555555556,
              "#d8576b"
             ],
             [
              0.6666666666666666,
              "#ed7953"
             ],
             [
              0.7777777777777778,
              "#fb9f3a"
             ],
             [
              0.8888888888888888,
              "#fdca26"
             ],
             [
              1,
              "#f0f921"
             ]
            ],
            "type": "surface"
           }
          ],
          "table": [
           {
            "cells": {
             "fill": {
              "color": "#EBF0F8"
             },
             "line": {
              "color": "white"
             }
            },
            "header": {
             "fill": {
              "color": "#C8D4E3"
             },
             "line": {
              "color": "white"
             }
            },
            "type": "table"
           }
          ]
         },
         "layout": {
          "annotationdefaults": {
           "arrowcolor": "#2a3f5f",
           "arrowhead": 0,
           "arrowwidth": 1
          },
          "autotypenumbers": "strict",
          "coloraxis": {
           "colorbar": {
            "outlinewidth": 0,
            "ticks": ""
           }
          },
          "colorscale": {
           "diverging": [
            [
             0,
             "#8e0152"
            ],
            [
             0.1,
             "#c51b7d"
            ],
            [
             0.2,
             "#de77ae"
            ],
            [
             0.3,
             "#f1b6da"
            ],
            [
             0.4,
             "#fde0ef"
            ],
            [
             0.5,
             "#f7f7f7"
            ],
            [
             0.6,
             "#e6f5d0"
            ],
            [
             0.7,
             "#b8e186"
            ],
            [
             0.8,
             "#7fbc41"
            ],
            [
             0.9,
             "#4d9221"
            ],
            [
             1,
             "#276419"
            ]
           ],
           "sequential": [
            [
             0,
             "#0d0887"
            ],
            [
             0.1111111111111111,
             "#46039f"
            ],
            [
             0.2222222222222222,
             "#7201a8"
            ],
            [
             0.3333333333333333,
             "#9c179e"
            ],
            [
             0.4444444444444444,
             "#bd3786"
            ],
            [
             0.5555555555555556,
             "#d8576b"
            ],
            [
             0.6666666666666666,
             "#ed7953"
            ],
            [
             0.7777777777777778,
             "#fb9f3a"
            ],
            [
             0.8888888888888888,
             "#fdca26"
            ],
            [
             1,
             "#f0f921"
            ]
           ],
           "sequentialminus": [
            [
             0,
             "#0d0887"
            ],
            [
             0.1111111111111111,
             "#46039f"
            ],
            [
             0.2222222222222222,
             "#7201a8"
            ],
            [
             0.3333333333333333,
             "#9c179e"
            ],
            [
             0.4444444444444444,
             "#bd3786"
            ],
            [
             0.5555555555555556,
             "#d8576b"
            ],
            [
             0.6666666666666666,
             "#ed7953"
            ],
            [
             0.7777777777777778,
             "#fb9f3a"
            ],
            [
             0.8888888888888888,
             "#fdca26"
            ],
            [
             1,
             "#f0f921"
            ]
           ]
          },
          "colorway": [
           "#636efa",
           "#EF553B",
           "#00cc96",
           "#ab63fa",
           "#FFA15A",
           "#19d3f3",
           "#FF6692",
           "#B6E880",
           "#FF97FF",
           "#FECB52"
          ],
          "font": {
           "color": "#2a3f5f"
          },
          "geo": {
           "bgcolor": "white",
           "lakecolor": "white",
           "landcolor": "#E5ECF6",
           "showlakes": true,
           "showland": true,
           "subunitcolor": "white"
          },
          "hoverlabel": {
           "align": "left"
          },
          "hovermode": "closest",
          "mapbox": {
           "style": "light"
          },
          "paper_bgcolor": "white",
          "plot_bgcolor": "#E5ECF6",
          "polar": {
           "angularaxis": {
            "gridcolor": "white",
            "linecolor": "white",
            "ticks": ""
           },
           "bgcolor": "#E5ECF6",
           "radialaxis": {
            "gridcolor": "white",
            "linecolor": "white",
            "ticks": ""
           }
          },
          "scene": {
           "xaxis": {
            "backgroundcolor": "#E5ECF6",
            "gridcolor": "white",
            "gridwidth": 2,
            "linecolor": "white",
            "showbackground": true,
            "ticks": "",
            "zerolinecolor": "white"
           },
           "yaxis": {
            "backgroundcolor": "#E5ECF6",
            "gridcolor": "white",
            "gridwidth": 2,
            "linecolor": "white",
            "showbackground": true,
            "ticks": "",
            "zerolinecolor": "white"
           },
           "zaxis": {
            "backgroundcolor": "#E5ECF6",
            "gridcolor": "white",
            "gridwidth": 2,
            "linecolor": "white",
            "showbackground": true,
            "ticks": "",
            "zerolinecolor": "white"
           }
          },
          "shapedefaults": {
           "line": {
            "color": "#2a3f5f"
           }
          },
          "ternary": {
           "aaxis": {
            "gridcolor": "white",
            "linecolor": "white",
            "ticks": ""
           },
           "baxis": {
            "gridcolor": "white",
            "linecolor": "white",
            "ticks": ""
           },
           "bgcolor": "#E5ECF6",
           "caxis": {
            "gridcolor": "white",
            "linecolor": "white",
            "ticks": ""
           }
          },
          "title": {
           "x": 0.05
          },
          "xaxis": {
           "automargin": true,
           "gridcolor": "white",
           "linecolor": "white",
           "ticks": "",
           "title": {
            "standoff": 15
           },
           "zerolinecolor": "white",
           "zerolinewidth": 2
          },
          "yaxis": {
           "automargin": true,
           "gridcolor": "white",
           "linecolor": "white",
           "ticks": "",
           "title": {
            "standoff": 15
           },
           "zerolinecolor": "white",
           "zerolinewidth": 2
          }
         }
        },
        "title": {
         "text": "Combined Error and Duration Plots"
        },
        "xaxis": {
         "title": {
          "text": "Study"
         }
        },
        "yaxis": {
         "title": {
          "text": "Error"
         }
        },
        "yaxis2": {
         "overlaying": "y",
         "side": "right",
         "title": {
          "text": "Duration (Minutes)"
         }
        }
       }
      }
     },
     "metadata": {},
     "output_type": "display_data"
    }
   ],
   "source": [
    "import plotly.graph_objects as go\n",
    "\n",
    "# Modify the study names and add a column indicating the origin\n",
    "SUN_XGB_Reg_viz = SUN_XGB_Reg.copy()\n",
    "SUN_LGBM_Reg_viz = SUN_LGBM_Reg.copy()\n",
    "SUN_DecTree_Reg_viz = SUN_DecTree_Reg.copy()\n",
    "\n",
    "SUN_LGBM_Reg_viz.drop(columns={\"param_id\", \"param_value\", \"param_name\"}, axis=1, inplace=True)\n",
    "SUN_LGBM_Reg_viz = SUN_LGBM_Reg_viz.drop_duplicates()\n",
    "\n",
    "SUN_XGB_Reg_viz.drop(columns={\"param_id\", \"param_value\", \"param_name\"}, axis=1, inplace=True)\n",
    "SUN_XGB_Reg_viz = SUN_XGB_Reg_viz.drop_duplicates()\n",
    "\n",
    "SUN_DecTree_Reg_viz.drop(columns={\"param_id\", \"param_value\", \"param_name\"}, axis=1, inplace=True)\n",
    "SUN_DecTree_Reg_viz = SUN_DecTree_Reg_viz.drop_duplicates()\n",
    "\n",
    "duration_LGBM = pd.concat([SUN_LGBM_Reg_viz, SUN_XGB_Reg_viz, SUN_DecTree_Reg_viz])\n",
    "# Convert string columns to datetime\n",
    "duration_LGBM['datetime_start'] = pd.to_datetime(duration_LGBM['datetime_start'])\n",
    "duration_LGBM['datetime_complete'] = pd.to_datetime(duration_LGBM['datetime_complete'])\n",
    "\n",
    "# Calculate trial duration\n",
    "duration_LGBM['duration'] = duration_LGBM['datetime_complete'] - duration_LGBM['datetime_start']\n",
    "\n",
    "# Group by 'study' and sum the durations\n",
    "study_duration = duration_LGBM.groupby('study_name')['duration'].sum()\n",
    "\n",
    "study_duration_hours = study_duration.dt.total_seconds() / 60\n",
    "df = study_duration_hours.reset_index()\n",
    "df.columns = [\"study_name\", \"Duration (Minutes)\"]\n",
    "\n",
    "\n",
    "df['Model'] = df['study_name'].apply(lambda x: 'LGBMRegressor' if 'LGBM' in x else ('XGBRegressor' if 'XGB' in x else 'DecisionTreeRegressor'))\n",
    "\n",
    "color_scale = {'LGBMRegressor': 'blue', 'XGBRegressor': 'red', \"DecisionTreeRegressor\": \"green\"}\n",
    "\n",
    "\n",
    "\n",
    "df = pd.merge(df, duration_LGBM, on=\"study_name\")\n",
    "df['Shortened Study'] = df['study_name'].apply(lambda x: x.split('_')[-1])\n",
    "\n",
    "# Create the combined figure\n",
    "combined_fig = go.Figure()\n",
    "\n",
    "# Add the error bars for each model with a darker shade\n",
    "combined_fig.add_trace(go.Bar(x=df[\"Shortened Study\"], y=df[df[\"Model\"] == \"XGBRegressor\"][\"value\"], name=\"XGB Error\", marker_color='rgba(0, 0, 255, 0.7)'))\n",
    "combined_fig.add_trace(go.Bar(x=df[\"Shortened Study\"], y=df[df[\"Model\"] == \"LGBMRegressor\"][\"value\"], name=\"LGBM Error\", marker_color='rgba(255, 0, 0, 0.7)'))\n",
    "combined_fig.add_trace(go.Bar(x=df[\"Shortened Study\"], y=df[df[\"Model\"] == \"DecisionTreeRegressor\"][\"value\"], name=\"DecisionTree Error\", marker_color='rgba(0, 128, 0, 0.7)'))\n",
    "\n",
    "# Add the duration bars for each model with a lighter shade\n",
    "combined_fig.add_trace(go.Bar(x=df[\"Shortened Study\"], y=df[df[\"Model\"] == \"XGBRegressor\"][\"Duration (Minutes)\"], name=\"XGB Duration\", marker_color='rgba(0, 255, 255, 0.7)', yaxis='y2'))\n",
    "combined_fig.add_trace(go.Bar(x=df[\"Shortened Study\"], y=df[df[\"Model\"] == \"LGBMRegressor\"][\"Duration (Minutes)\"], name=\"LGBM Duration\", marker_color='rgba(255, 255, 0, 0.7)', yaxis='y2'))\n",
    "combined_fig.add_trace(go.Bar(x=df[\"Shortened Study\"], y=df[df[\"Model\"] == \"DecisionTreeRegressor\"][\"Duration (Minutes)\"], name=\"DecisionTree Duration\", marker_color='rgba(255, 128, 0, 0.7)', yaxis='y2'))\n",
    "\n",
    "# Update layout\n",
    "combined_fig.update_layout(\n",
    "    title=\"Combined Error and Duration Plots\",\n",
    "    xaxis=dict(title=\"Study\"),\n",
    "    yaxis=dict(title=\"Error\"),\n",
    "    yaxis2=dict(title=\"Duration (Minutes)\", overlaying='y', side='right'),\n",
    "    barmode='group'\n",
    ")\n",
    "\n",
    "# Show the combined plot\n",
    "combined_fig.show()\n",
    "\n"
   ]
  },
  {
   "cell_type": "markdown",
   "metadata": {},
   "source": [
    "### Der Code hier unter wird noch nicht verwendet, ist für feature_importance gedacht"
   ]
  },
  {
   "cell_type": "code",
   "execution_count": null,
   "metadata": {},
   "outputs": [],
   "source": [
    "from window_ops.rolling import rolling_mean, rolling_max, rolling_min\n",
    "from xgboost import XGBRegressor\n",
    "from lightgbm import LGBMRegressor\n",
    "\n",
    "def month_start_or_end(dates):\n",
    "    \"\"\"Date is month start or month end\"\"\"\n",
    "    return dates.is_month_start | dates.is_month_end\n",
    "\n",
    "def is_saturday(dates):\n",
    "    \"\"\"Date is monday\"\"\"\n",
    "    return dates.dayofweek == 5\n",
    "\n",
    "def get_feature_importance(train, valid, h, config, model):\n",
    "    if model == \"XGBRegressor\":\n",
    "        models = [XGBRegressor(random_state=42,\n",
    "                               n_estimators=config[\"n_estimators\"],\n",
    "                               learning_rate=config[\"learning_rate\"],\n",
    "                               max_depth=config[\"max_depth\"],\n",
    "                               colsample_bytree=config[\"colsample_bytree\"],\n",
    "                               reg_lambda=config[\"reg_lambda\"]\n",
    "                               )]\n",
    "    elif model == \"LGBMRegressor\":\n",
    "        models = [LGBMRegressor(random_state=42,\n",
    "                                n_estimators=config[\"n_estimators\"],\n",
    "                                learning_rate=config[\"learning_rate\"],\n",
    "                                max_depth=config[\"max_depth\"],\n",
    "                                num_leaves=config[\"num_leaves\"],\n",
    "                                min_data_in_leaf=config[\"min_data_in_leaf\"],\n",
    "                                bagging_fractiong=config[\"bagging_fraction\"],\n",
    "                                colsample_bytree=config[\"colsample_bytree\"],\n",
    "                                lambda_l2=config[\"lambda_l2\"],\n",
    "                                verbose=-1\n",
    "                                )]\n",
    "\n",
    "    mlfc = mlforecast.MLForecast(models=models,\n",
    "                    freq='D',\n",
    "                    lags=[1,7,config[\"lags\"]],\n",
    "                    lag_transforms={\n",
    "                        1: [(rolling_mean, 4), (rolling_min, 4), (rolling_max, 4)],\n",
    "                    },\n",
    "                    date_features=['week', 'month', 'dayofweek', 'dayofyear', is_saturday, month_start_or_end],\n",
    "                    num_threads=8)\n",
    "    \n",
    "    prep_df = mlfc.preprocess(train)\n",
    "    \n",
    "    ml = models[0]\n",
    "\n",
    "    ml.fit(prep_df, h)\n",
    "    prediction = ml.predict(valid)\n",
    "\n",
    "    feature_importance = ml.feature_importances_\n",
    "\n",
    "    #merged_prediction = pd.merge(valid, prediction, on=[\"ds\", \"unique_id\"], how=\"inner\")\n",
    "\n",
    "    #return merged_prediction\n",
    "    return feature_importance"
   ]
  },
  {
   "cell_type": "markdown",
   "metadata": {},
   "source": [
    "What to do next:\n",
    "\n",
    "- Analyse verschiedener Modelle\n",
    "- Guten plot einbauen der forecast zeigt\n",
    "- Cross Validation einbauen\n",
    "- Feature Importance einbauen\n",
    "- Future Leakage Fix einbauen"
   ]
  },
  {
   "cell_type": "markdown",
   "metadata": {},
   "source": [
    "Ideen für Feature Importance:\n",
    "- Datensatz mit mlfc.preprocess(train) nur vorbereiten, nicht trainieren oder predicten\n",
    "- Datensatz anschauen und überprüfen ob wie erwartet\n",
    "- Datensatz direkt in LightGBM geben und da trainieren und predicten\n",
    "- Prediction results mit Erwarteten Wert von MLForecast Training vergleichen\n",
    "- Wenn gleich, dann lgb.plot_importance() machen und anschauen\n",
    "- Am besten wäre es, wenn wir an die Daten direkt tabelarisch rankommen würden anstatt nur nen plot zu kriegen, damit wir selbst wieder One-Hot-Encodete features aufsummieren können\n",
    "- Sowohl gain als auch split mal anschauen\n",
    "- Gleiches für XGBoost einrichten"
   ]
  },
  {
   "cell_type": "markdown",
   "metadata": {},
   "source": [
    "Idee für Plot:\n",
    "- Daten für ein paar unique_ids rausfiltern\n",
    "- Diese daten dann als Lineplot für y plotten\n",
    "- Darüber dann die prediction legen"
   ]
  },
  {
   "cell_type": "markdown",
   "metadata": {},
   "source": [
    "Idee für cross validation:\n",
    "- Idk, einfach versuchen das iwi mit mlforecast cross validator durchzuboxen"
   ]
  }
 ],
 "metadata": {
  "kernelspec": {
   "display_name": "venv",
   "language": "python",
   "name": "python3"
  },
  "language_info": {
   "codemirror_mode": {
    "name": "ipython",
    "version": 3
   },
   "file_extension": ".py",
   "mimetype": "text/x-python",
   "name": "python",
   "nbconvert_exporter": "python",
   "pygments_lexer": "ipython3",
   "version": "3.12.1"
  }
 },
 "nbformat": 4,
 "nbformat_minor": 2
}
