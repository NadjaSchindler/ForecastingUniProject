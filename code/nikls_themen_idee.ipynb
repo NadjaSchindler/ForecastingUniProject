{
 "cells": [
  {
   "cell_type": "markdown",
   "metadata": {},
   "source": [
    "### These are ideas on what could be presented in out presentation.\n",
    "\n",
    "We do not have to pick all of them!\\\n",
    "But I would appreciate if you could at least spare 10min for each topic researching and getting an idea on what it is about so that we can have some discussions.\\\n",
    "Please add your findings, notes etc inside the different chapters!"
   ]
  },
  {
   "cell_type": "markdown",
   "metadata": {},
   "source": [
    "#### Data Preprocessing"
   ]
  },
  {
   "cell_type": "markdown",
   "metadata": {},
   "source": [
    "General data preprocessing with explanation of why certain steps could be valuable...\n",
    "(resample, excluding of certain values, log transformation,...)"
   ]
  },
  {
   "cell_type": "markdown",
   "metadata": {},
   "source": [
    "#### Data Splitting"
   ]
  },
  {
   "cell_type": "markdown",
   "metadata": {},
   "source": [
    "Comparison of different splitting methods:\n",
    "- Index Split\n",
    "- Stratified split\n",
    "- Random Split"
   ]
  },
  {
   "cell_type": "markdown",
   "metadata": {},
   "source": [
    "#### Data Clustering before Training"
   ]
  },
  {
   "cell_type": "markdown",
   "metadata": {},
   "source": [
    "There is a method where you cluster different groups of products together before training a model.\n",
    "This could be something like:\n",
    "\n",
    "Cluster v1:\n",
    "Kitchen supplies:\n",
    "- Fork\n",
    "- Knife\n",
    "- Spoon\n",
    "\n",
    "Sport gear:\n",
    "- Bat\n",
    "- Tricot\n",
    "- Running Shoes\n",
    "\n",
    "\n",
    "Cluster v2:\n",
    "Weapons:\n",
    "- Knife\n",
    "- Bat\n",
    "\n",
    "Clothing:\n",
    "- Tricot\n",
    "- Running Shoes\n",
    "\n",
    "Cooking utils:\n",
    "- Fork\n",
    "- Spoon\n",
    "\n",
    "Often these clusters are named after animals such as mule, horse, rabbit, turtle...\\\n",
    "These often reflect different characteristics of a product line like:\n",
    "- Fast and small (rabbit)\n",
    "- Slow and big (mule)\n",
    "- Fast and big (horse)\n",
    "- Slow and small (turtle)\n",
    "\n",
    "Just google these, I did not have the time to read heavily into those yet.\n",
    "\n"
   ]
  },
  {
   "cell_type": "markdown",
   "metadata": {},
   "source": [
    "#### Hyperparameter for Machine Learning in Forecasting"
   ]
  },
  {
   "cell_type": "markdown",
   "metadata": {},
   "source": [
    "- Frequency\n",
    "- Lags\n",
    "- Windows\n",
    "- Model specific stuff..."
   ]
  },
  {
   "cell_type": "markdown",
   "metadata": {},
   "source": [
    "#### Hyperparameter Optimizing"
   ]
  },
  {
   "cell_type": "markdown",
   "metadata": {},
   "source": [
    "- What is Optuna?\n",
    "- How does it work?\n",
    "- What is Cross Validation Folding?\n",
    "- How to handle different ranges of parameters?\n",
    "- Show results of different configs..."
   ]
  },
  {
   "cell_type": "markdown",
   "metadata": {},
   "source": [
    "#### Comparison of results"
   ]
  },
  {
   "cell_type": "markdown",
   "metadata": {},
   "source": [
    "Comparing...\n",
    "- different splitting methods (what happens if you exclude a whole product line from training?)\n",
    "- different hyperparameter\n",
    "- different model (XGBoost, LightGBM, 1-2 from the class)"
   ]
  }
 ],
 "metadata": {
  "kernelspec": {
   "display_name": "forecasting",
   "language": "python",
   "name": "python3"
  },
  "language_info": {
   "codemirror_mode": {
    "name": "ipython",
    "version": 3
   },
   "file_extension": ".py",
   "mimetype": "text/x-python",
   "name": "python",
   "nbconvert_exporter": "python",
   "pygments_lexer": "ipython3",
   "version": "3.10.12"
  }
 },
 "nbformat": 4,
 "nbformat_minor": 2
}
