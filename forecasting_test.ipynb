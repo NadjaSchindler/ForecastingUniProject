{
 "cells": [
  {
   "cell_type": "code",
   "execution_count": null,
   "metadata": {},
   "outputs": [],
   "source": [
    "# all needed packages for this project\n",
    "\n",
    "import pandas as pd\n",
    "import numpy as np\n",
    "import mlforecast\n",
    "import lightgbm\n",
    "from matplotlib import pyplot as plt\n",
    "import optuna\n",
    "import plotly_express as px"
   ]
  }
 ],
 "metadata": {
  "kernelspec": {
   "display_name": "forecasting",
   "language": "python",
   "name": "python3"
  },
  "language_info": {
   "name": "python",
   "version": "3.12.1"
  }
 },
 "nbformat": 4,
 "nbformat_minor": 2
}
